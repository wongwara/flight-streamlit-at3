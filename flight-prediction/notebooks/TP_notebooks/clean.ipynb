{
 "cells": [
  {
   "cell_type": "code",
   "execution_count": 2,
   "metadata": {},
   "outputs": [],
   "source": [
    "import zipfile\n",
    "import pandas as pd\n",
    "import os\n",
    "import re\n",
    "\n",
    "# Directory where the ZIP files are located (assuming it's relative)\n",
    "base_directory = '../../data/raw/itineraries_csv/'\n",
    "\n",
    "# Create an empty DataFrame to store the results\n",
    "result_df = pd.DataFrame()\n",
    "\n",
    "# Define a regular expression pattern to match filenames ending with two lowercase letters\n",
    "file_pattern = re.compile(r'.*[a-z][a-z]\\.zip')\n",
    "\n",
    "# List all airport folders in the base directory\n",
    "airport_names = [name for name in os.listdir(base_directory) if os.path.isdir(os.path.join(base_directory, name))]\n",
    "\n",
    "dfs = []  # Create a list to store DataFrames\n",
    "\n",
    "for airport_name in airport_names:\n",
    "    # Directory path for the current airport\n",
    "    zip_directory = os.path.join(base_directory, airport_name)\n",
    "    \n",
    "    # List all files in the airport's folder\n",
    "    file_list = os.listdir(zip_directory)\n",
    "\n",
    "    for filename in file_list:\n",
    "        if file_pattern.match(filename):\n",
    "            zip_file_path = os.path.join(zip_directory, filename)\n",
    "            csv_file_path_inside_zip = filename.replace('.zip', '.csv')\n",
    "            \n",
    "            # Create a ZipFile object and read the CSV file\n",
    "            with zipfile.ZipFile(zip_file_path, 'r') as zf:\n",
    "                df = pd.read_csv(zf.open(csv_file_path_inside_zip))\n",
    "\n",
    "            # Append the DataFrame for this filename to the list of DataFrames\n",
    "            dfs.append(df)\n",
    "\n",
    "# Use pandas.concat to concatenate the list of DataFrames into a single DataFrame\n",
    "all_airport = pd.concat(dfs, ignore_index=True)"
   ]
  },
  {
   "attachments": {},
   "cell_type": "markdown",
   "metadata": {},
   "source": [
    "legId                                      0\n",
    "searchDate                                0\n",
    "flightDate                                0\n",
    "startingAirport                           0\n",
    "destinationAirport                        0\n",
    "travelDuration                            0\n",
    "isBasicEconomy                            0\n",
    "isRefundable                              0\n",
    "totalFare                                 0 (y)\n",
    "totalTravelDistance                  959619\n",
    "segmentsDepartureTimeEpochSeconds         0\n",
    "segmentsArrivalTimeEpochSeconds           0\n",
    "segmentsArrivalAirportCode                0\n",
    "segmentsDepartureAirportCode              0\n",
    "segmentsAirlineCode                       0\n",
    "segmentsEquipmentDescription         262676\n",
    "segmentsDurationInSeconds                 0 -> sum\n",
    "segmentsDistance                          0 -> sum\n",
    "segmentsCabinCode                         0\n",
    "-------\n",
    "travelLayover (travelDuration - segmentsDurationInSeconds)\n",
    "datediff (flightDate - searchDate)\n",
    "transitAirportCode (list) -> check arrival departure \n",
    "numberOfTransit -> count (transitAirportCode)"
   ]
  },
  {
   "cell_type": "code",
   "execution_count": 3,
   "metadata": {},
   "outputs": [],
   "source": [
    "all_airport['SumsegmentsDurationInSeconds'] = all_airport['segmentsDurationInSeconds'].str.split(r'\\|\\|').apply(lambda x: [pd.to_numeric(value, errors='coerce') for value in x])"
   ]
  },
  {
   "cell_type": "code",
   "execution_count": 4,
   "metadata": {},
   "outputs": [],
   "source": [
    "all_airport['SumsegmentsDurationInSeconds'] = all_airport['SumsegmentsDurationInSeconds'].apply(sum)"
   ]
  },
  {
   "cell_type": "code",
   "execution_count": 5,
   "metadata": {},
   "outputs": [],
   "source": [
    "all_airport['segmentsArrivalAirportCode'] = all_airport['segmentsArrivalAirportCode'].str.split(r'\\|\\|')\n",
    "all_airport['segmentsDepartureAirportCode'] = all_airport['segmentsDepartureAirportCode'].str.split(r'\\|\\|')"
   ]
  },
  {
   "cell_type": "code",
   "execution_count": 6,
   "metadata": {},
   "outputs": [],
   "source": [
    "all_airport['Departure'] = all_airport['segmentsDepartureAirportCode'].apply(lambda x: x[0])"
   ]
  },
  {
   "cell_type": "code",
   "execution_count": 7,
   "metadata": {},
   "outputs": [],
   "source": [
    "all_airport['Arrival'] = all_airport['segmentsArrivalAirportCode'].apply(lambda x: x[-1])"
   ]
  },
  {
   "cell_type": "code",
   "execution_count": 35,
   "metadata": {},
   "outputs": [],
   "source": [
    "import pandas as pd\n",
    "\n",
    "# Assuming all_airport is your DataFrame\n",
    "\n",
    "def process_code_list(code_list):\n",
    "    if len(code_list) != 1:\n",
    "        code_list = code_list[1:] \n",
    "    return code_list\n",
    "\n",
    "all_airport['transitAirportCode'] = all_airport['segmentsDepartureAirportCode'].apply(process_code_list)"
   ]
  },
  {
   "cell_type": "code",
   "execution_count": 38,
   "metadata": {},
   "outputs": [],
   "source": [
    "all_airport['AllAirport'] = all_airport['transitAirportCode']"
   ]
  },
  {
   "cell_type": "code",
   "execution_count": 42,
   "metadata": {},
   "outputs": [],
   "source": [
    "all_airport['AllAirport'] = all_airport.apply(lambda row: [row['Departure']] + row['AllAirport'], axis=1)\n",
    "all_airport['AllAirport'] = all_airport.apply(lambda row: row['AllAirport'] + [row['Arrival']], axis=1)"
   ]
  },
  {
   "cell_type": "code",
   "execution_count": 43,
   "metadata": {},
   "outputs": [
    {
     "data": {
      "text/plain": [
       "['JFK', 'IAD', 'IAH', 'DFW']"
      ]
     },
     "execution_count": 43,
     "metadata": {},
     "output_type": "execute_result"
    }
   ],
   "source": [
    "all_airport['AllAirport'].iloc[8164713]"
   ]
  },
  {
   "cell_type": "code",
   "execution_count": 44,
   "metadata": {},
   "outputs": [
    {
     "data": {
      "text/plain": [
       "['JFK', 'IAD', 'IAH']"
      ]
     },
     "execution_count": 44,
     "metadata": {},
     "output_type": "execute_result"
    }
   ],
   "source": [
    "all_airport['segmentsDepartureAirportCode'].iloc[8164713]"
   ]
  }
 ],
 "metadata": {
  "kernelspec": {
   "display_name": "base",
   "language": "python",
   "name": "python3"
  },
  "language_info": {
   "codemirror_mode": {
    "name": "ipython",
    "version": 3
   },
   "file_extension": ".py",
   "mimetype": "text/x-python",
   "name": "python",
   "nbconvert_exporter": "python",
   "pygments_lexer": "ipython3",
   "version": "3.9.13"
  },
  "vscode": {
   "interpreter": {
    "hash": "2faf7d233e2b105e8d1a284702cec228a4712bc10b8e33a5c6f4a53cf932b354"
   }
  }
 },
 "nbformat": 4,
 "nbformat_minor": 2
}
