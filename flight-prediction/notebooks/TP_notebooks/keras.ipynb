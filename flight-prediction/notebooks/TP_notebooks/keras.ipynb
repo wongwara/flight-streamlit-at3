{
 "cells": [
  {
   "attachments": {},
   "cell_type": "markdown",
   "metadata": {},
   "source": [
    "#  Keras\n",
    "\n",
    "Author: __Thanchanok Phuawiriyakul 24582239__\n",
    "\n",
    "        AT3 - Data Product with Machine \n",
    "In this experiment, we will train the model using Keras to predict the total fares.\n",
    "\n",
    "\n",
    "__Table of contents__\n",
    "1. [Load dataset](#load-dataset)\n",
    "2. [Train Keras](#Train-keras )\n",
    "3. [Keras tuner](#Keras-Tuner)\n",
    "4. [Conclusion]()\n",
    "5. [Reference]()"
   ]
  },
  {
   "cell_type": "code",
   "execution_count": 13,
   "metadata": {},
   "outputs": [
    {
     "name": "stdout",
     "output_type": "stream",
     "text": [
      "Using TensorFlow backend\n"
     ]
    }
   ],
   "source": [
    "# first neural network with keras tutorial\n",
    "import numpy as np\n",
    "import tensorflow as tf\n",
    "import keras\n",
    "import sys\n",
    "import pandas as pd\n",
    "import keras_tuner\n",
    "from tensorflow import keras\n",
    "from sklearn.model_selection import GridSearchCV\n",
    "from keras.wrappers.scikit_learn import KerasRegressor\n",
    "from keras.models import Sequential\n",
    "from keras.layers import Dense"
   ]
  },
  {
   "cell_type": "code",
   "execution_count": 14,
   "metadata": {},
   "outputs": [],
   "source": [
    "sys.path.append('../../src')"
   ]
  },
  {
   "cell_type": "markdown",
   "metadata": {},
   "source": [
    "## Load dataset"
   ]
  },
  {
   "cell_type": "code",
   "execution_count": 15,
   "metadata": {},
   "outputs": [],
   "source": [
    "from data.make_dataset import *\n",
    "X_train, y_train, X_val, y_val, X_test, y_test = load_sets(path='../../data/processed/')"
   ]
  },
  {
   "cell_type": "markdown",
   "metadata": {},
   "source": [
    "## Train keras"
   ]
  },
  {
   "cell_type": "code",
   "execution_count": 37,
   "metadata": {},
   "outputs": [],
   "source": [
    "# define the keras model\n",
    "model = keras.Sequential()\n",
    "model.add(Dense(units=12, input_shape=(12,), activation='relu'))\n",
    "model.add(Dense(units=8, activation='relu'))\n",
    "model.add(Dense(units=1, activation='linear'))"
   ]
  },
  {
   "cell_type": "code",
   "execution_count": 38,
   "metadata": {},
   "outputs": [],
   "source": [
    "model.compile(optimizer='adam', loss='mean_squared_error')"
   ]
  },
  {
   "cell_type": "code",
   "execution_count": 39,
   "metadata": {},
   "outputs": [
    {
     "name": "stdout",
     "output_type": "stream",
     "text": [
      "Epoch 1/5\n",
      "253500/253500 [==============================] - 97s 381us/step - loss: 0.5122\n",
      "Epoch 2/5\n",
      "253500/253500 [==============================] - 95s 375us/step - loss: 0.5011\n",
      "Epoch 3/5\n",
      "253500/253500 [==============================] - 100s 395us/step - loss: 0.4983\n",
      "Epoch 4/5\n",
      "253500/253500 [==============================] - 99s 392us/step - loss: 0.4947\n",
      "Epoch 5/5\n",
      "253500/253500 [==============================] - 98s 386us/step - loss: 0.4935\n"
     ]
    },
    {
     "data": {
      "text/plain": [
       "<keras.callbacks.History at 0x7fcb90c56730>"
      ]
     },
     "execution_count": 39,
     "metadata": {},
     "output_type": "execute_result"
    }
   ],
   "source": [
    "model.fit(X_train, y_train, epochs=5, batch_size=32)"
   ]
  },
  {
   "cell_type": "code",
   "execution_count": 40,
   "metadata": {},
   "outputs": [
    {
     "name": "stdout",
     "output_type": "stream",
     "text": [
      "253500/253500 [==============================] - 90s 354us/step - loss: 0.4943\n",
      "MSE test set: 0.49432602524757385\n"
     ]
    }
   ],
   "source": [
    "loss = model.evaluate(X_train, y_train)\n",
    "print(f\"MSE test set: {loss}\")"
   ]
  },
  {
   "cell_type": "code",
   "execution_count": 20,
   "metadata": {},
   "outputs": [
    {
     "name": "stdout",
     "output_type": "stream",
     "text": [
      "84500/84500 [==============================] - 35s 415us/step - loss: 0.5040\n",
      "MSE test set: 0.5039887428283691\n"
     ]
    }
   ],
   "source": [
    "loss = model.evaluate(X_test, y_test)\n",
    "print(f\"MSE test set: {loss}\")"
   ]
  },
  {
   "cell_type": "code",
   "execution_count": 43,
   "metadata": {},
   "outputs": [
    {
     "name": "stdout",
     "output_type": "stream",
     "text": [
      "WARNING:tensorflow:6 out of the last 84505 calls to <function Model.make_predict_function.<locals>.predict_function at 0x7fcbe342f940> triggered tf.function retracing. Tracing is expensive and the excessive number of tracings could be due to (1) creating @tf.function repeatedly in a loop, (2) passing tensors with different shapes, (3) passing Python objects instead of tensors. For (1), please define your @tf.function outside of the loop. For (2), @tf.function has reduce_retracing=True option that can avoid unnecessary retracing. For (3), please refer to https://www.tensorflow.org/guide/function#controlling_retracing and https://www.tensorflow.org/api_docs/python/tf/function for  more details.\n",
      "84500/84500 [==============================] - 28s 327us/step\n"
     ]
    }
   ],
   "source": [
    "y_pred = model.predict(X_test)\n"
   ]
  },
  {
   "cell_type": "code",
   "execution_count": 41,
   "metadata": {},
   "outputs": [],
   "source": [
    "model.save('../../models/keras.keras')"
   ]
  },
  {
   "attachments": {},
   "cell_type": "markdown",
   "metadata": {},
   "source": [
    "## Keras Tuner"
   ]
  },
  {
   "cell_type": "code",
   "execution_count": 43,
   "metadata": {},
   "outputs": [
    {
     "name": "stdout",
     "output_type": "stream",
     "text": [
      "Requirement already satisfied: keras-tuner in /Users/baiporthn/opt/anaconda3/lib/python3.9/site-packages (1.4.5)\n",
      "Requirement already satisfied: keras-core in /Users/baiporthn/opt/anaconda3/lib/python3.9/site-packages (from keras-tuner) (0.1.7)\n",
      "Requirement already satisfied: packaging in /Users/baiporthn/opt/anaconda3/lib/python3.9/site-packages (from keras-tuner) (23.0)\n",
      "Requirement already satisfied: requests in /Users/baiporthn/opt/anaconda3/lib/python3.9/site-packages (from keras-tuner) (2.31.0)\n",
      "Requirement already satisfied: kt-legacy in /Users/baiporthn/opt/anaconda3/lib/python3.9/site-packages (from keras-tuner) (1.0.5)\n",
      "Requirement already satisfied: absl-py in /Users/baiporthn/opt/anaconda3/lib/python3.9/site-packages (from keras-core->keras-tuner) (1.4.0)\n",
      "Requirement already satisfied: numpy in /Users/baiporthn/opt/anaconda3/lib/python3.9/site-packages (from keras-core->keras-tuner) (1.22.4)\n",
      "Requirement already satisfied: rich in /Users/baiporthn/opt/anaconda3/lib/python3.9/site-packages (from keras-core->keras-tuner) (13.5.2)\n",
      "Requirement already satisfied: namex in /Users/baiporthn/opt/anaconda3/lib/python3.9/site-packages (from keras-core->keras-tuner) (0.0.7)\n",
      "Requirement already satisfied: h5py in /Users/baiporthn/opt/anaconda3/lib/python3.9/site-packages (from keras-core->keras-tuner) (3.7.0)\n",
      "Requirement already satisfied: dm-tree in /Users/baiporthn/opt/anaconda3/lib/python3.9/site-packages (from keras-core->keras-tuner) (0.1.8)\n",
      "Requirement already satisfied: charset-normalizer<4,>=2 in /Users/baiporthn/opt/anaconda3/lib/python3.9/site-packages (from requests->keras-tuner) (2.0.4)\n",
      "Requirement already satisfied: idna<4,>=2.5 in /Users/baiporthn/opt/anaconda3/lib/python3.9/site-packages (from requests->keras-tuner) (3.4)\n",
      "Requirement already satisfied: urllib3<3,>=1.21.1 in /Users/baiporthn/opt/anaconda3/lib/python3.9/site-packages (from requests->keras-tuner) (1.26.16)\n",
      "Requirement already satisfied: certifi>=2017.4.17 in /Users/baiporthn/opt/anaconda3/lib/python3.9/site-packages (from requests->keras-tuner) (2023.7.22)\n",
      "Requirement already satisfied: markdown-it-py>=2.2.0 in /Users/baiporthn/opt/anaconda3/lib/python3.9/site-packages (from rich->keras-core->keras-tuner) (3.0.0)\n",
      "Requirement already satisfied: pygments<3.0.0,>=2.13.0 in /Users/baiporthn/opt/anaconda3/lib/python3.9/site-packages (from rich->keras-core->keras-tuner) (2.15.1)\n",
      "Requirement already satisfied: mdurl~=0.1 in /Users/baiporthn/opt/anaconda3/lib/python3.9/site-packages (from markdown-it-py>=2.2.0->rich->keras-core->keras-tuner) (0.1.2)\n",
      "\u001b[33mWARNING: Error parsing requirements for scikit-learn: [Errno 2] No such file or directory: '/Users/baiporthn/opt/anaconda3/lib/python3.9/site-packages/scikit_learn-1.2.2.dist-info/METADATA'\u001b[0m\u001b[33m\n",
      "\u001b[0mNote: you may need to restart the kernel to use updated packages.\n"
     ]
    }
   ],
   "source": [
    "# pip install keras-tuner --upgrade"
   ]
  },
  {
   "cell_type": "code",
   "execution_count": 44,
   "metadata": {},
   "outputs": [],
   "source": [
    "def build_model_tune(hp):\n",
    "  model_tune = Sequential()\n",
    "  model_tune.add(Dense(hp.Choice('units', [8, 16, 32]), input_shape=(12,), activation='relu'))\n",
    "  model_tune.add(Dense(1, activation='linear'))\n",
    "\n",
    "  model_tune.compile(loss='mean_squared_error', optimizer='adam')\n",
    "  return model_tune"
   ]
  },
  {
   "cell_type": "code",
   "execution_count": 45,
   "metadata": {},
   "outputs": [],
   "source": [
    "tuner = keras_tuner.RandomSearch(\n",
    "    build_model_tune,\n",
    "    objective='val_loss',\n",
    "    max_trials=5)"
   ]
  },
  {
   "cell_type": "code",
   "execution_count": 46,
   "metadata": {},
   "outputs": [
    {
     "name": "stdout",
     "output_type": "stream",
     "text": [
      "Trial 3 Complete [00h 12m 22s]\n",
      "val_loss: 0.4709257483482361\n",
      "\n",
      "Best val_loss So Far: 0.4709257483482361\n",
      "Total elapsed time: 00h 33m 15s\n"
     ]
    }
   ],
   "source": [
    "tuner.search(X_train, y_train, epochs=5, validation_data=(X_val, y_val))\n",
    "best_model = tuner.get_best_models()[0]"
   ]
  },
  {
   "cell_type": "code",
   "execution_count": 47,
   "metadata": {},
   "outputs": [
    {
     "name": "stdout",
     "output_type": "stream",
     "text": [
      "253500/253500 [==============================] - 88s 347us/step - loss: 0.4721\n",
      "MSE test set: 0.47212257981300354\n"
     ]
    }
   ],
   "source": [
    "loss = best_model.evaluate(X_train, y_train)\n",
    "print(f\"MSE test set: {loss}\")"
   ]
  },
  {
   "cell_type": "code",
   "execution_count": 48,
   "metadata": {},
   "outputs": [
    {
     "name": "stdout",
     "output_type": "stream",
     "text": [
      "84500/84500 [==============================] - 33s 396us/step - loss: 0.4710\n",
      "MSE test set: 0.4709739685058594\n"
     ]
    }
   ],
   "source": [
    "loss = best_model.evaluate(X_test, y_test)\n",
    "print(f\"MSE test set: {loss}\")"
   ]
  },
  {
   "cell_type": "code",
   "execution_count": 50,
   "metadata": {},
   "outputs": [],
   "source": [
    "best_model.save('../../models/keras_tuner.keras')"
   ]
  },
  {
   "cell_type": "markdown",
   "metadata": {},
   "source": [
    "## Save model"
   ]
  },
  {
   "cell_type": "code",
   "execution_count": 51,
   "metadata": {},
   "outputs": [
    {
     "name": "stdout",
     "output_type": "stream",
     "text": [
      "WARNING:tensorflow:Error in loading the saved optimizer state. As a result, your model is starting with a freshly initialized optimizer.\n"
     ]
    }
   ],
   "source": [
    "model = keras.models.load_model('../../models/keras_tuner.keras')"
   ]
  },
  {
   "cell_type": "markdown",
   "metadata": {},
   "source": [
    "## test"
   ]
  },
  {
   "cell_type": "code",
   "execution_count": 8,
   "metadata": {},
   "outputs": [
    {
     "data": {
      "text/html": [
       "<div>\n",
       "<style scoped>\n",
       "    .dataframe tbody tr th:only-of-type {\n",
       "        vertical-align: middle;\n",
       "    }\n",
       "\n",
       "    .dataframe tbody tr th {\n",
       "        vertical-align: top;\n",
       "    }\n",
       "\n",
       "    .dataframe thead th {\n",
       "        text-align: right;\n",
       "    }\n",
       "</style>\n",
       "<table border=\"1\" class=\"dataframe\">\n",
       "  <thead>\n",
       "    <tr style=\"text-align: right;\">\n",
       "      <th></th>\n",
       "      <th>totalTravelDistance</th>\n",
       "      <th>isNonStop</th>\n",
       "      <th>isBasicEconomy</th>\n",
       "      <th>startingAirport</th>\n",
       "      <th>destinationAirport</th>\n",
       "      <th>segmentsCabinCode</th>\n",
       "      <th>flightDate_day</th>\n",
       "      <th>flightDate_month</th>\n",
       "      <th>flightDate_year</th>\n",
       "      <th>DepartTime_hour</th>\n",
       "      <th>DepartTime_minute</th>\n",
       "      <th>DepartTime_second</th>\n",
       "    </tr>\n",
       "  </thead>\n",
       "  <tbody>\n",
       "    <tr>\n",
       "      <th>0</th>\n",
       "      <td>1569.618</td>\n",
       "      <td>1</td>\n",
       "      <td>0</td>\n",
       "      <td>15</td>\n",
       "      <td>10</td>\n",
       "      <td>0</td>\n",
       "      <td>7</td>\n",
       "      <td>11</td>\n",
       "      <td>2023</td>\n",
       "      <td>10</td>\n",
       "      <td>30</td>\n",
       "      <td>0</td>\n",
       "    </tr>\n",
       "  </tbody>\n",
       "</table>\n",
       "</div>"
      ],
      "text/plain": [
       "   totalTravelDistance  isNonStop  isBasicEconomy  startingAirport  \\\n",
       "0             1569.618          1               0               15   \n",
       "\n",
       "   destinationAirport  segmentsCabinCode  flightDate_day  flightDate_month  \\\n",
       "0                  10                  0               7                11   \n",
       "\n",
       "   flightDate_year  DepartTime_hour  DepartTime_minute  DepartTime_second  \n",
       "0             2023               10                 30                  0  "
      ]
     },
     "execution_count": 8,
     "metadata": {},
     "output_type": "execute_result"
    }
   ],
   "source": [
    "from datetime import datetime, time\n",
    "X = pd.DataFrame({\n",
    "        'flightDate': '2023-11-07',\n",
    "        'startingAirport':15,\n",
    "        'destinationAirport':10,\n",
    "        'departureTime': time(10, 30), \n",
    "        'segmentsCabinCode':0,\n",
    "        'isNonStop': 1, \n",
    "        'isBasicEconomy': [0],  # Set default value to False\n",
    "        'totalTravelDistance': [1569.618] #Mean total travel distance\n",
    "        })\n",
    "    \n",
    "# Transform date column: flightDate\n",
    "X['flightDate'] = pd.to_datetime(X['flightDate'])\n",
    "X['flightDate_day'] = X['flightDate'].dt.day\n",
    "X['flightDate_month'] = X['flightDate'].dt.month\n",
    "X['flightDate_year'] = X['flightDate'].dt.year\n",
    "\n",
    "# hour = departure_time.hour\n",
    "# minute = departure_time.minute\n",
    "X['DepartTime_hour'] = 10   \n",
    "X['DepartTime_minute'] = 30\n",
    "X['DepartTime_second'] = 0  # Since seconds are always 00\n",
    "\n",
    "# Drop date columns\n",
    "X = X.drop(columns=['flightDate','departureTime'])\n",
    "X = X[['totalTravelDistance', 'isNonStop', 'isBasicEconomy', 'startingAirport', 'destinationAirport', 'segmentsCabinCode','flightDate_day', 'flightDate_month', 'flightDate_year',\n",
    "                    'DepartTime_hour', 'DepartTime_minute', 'DepartTime_second']]\n",
    "X"
   ]
  },
  {
   "cell_type": "code",
   "execution_count": 55,
   "metadata": {},
   "outputs": [],
   "source": [
    "model2 = keras.models.load_model('../../models/keras.keras')"
   ]
  },
  {
   "cell_type": "code",
   "execution_count": 52,
   "metadata": {},
   "outputs": [
    {
     "name": "stdout",
     "output_type": "stream",
     "text": [
      "1/1 [==============================] - 0s 30ms/step\n"
     ]
    }
   ],
   "source": [
    "y = model.predict(X)"
   ]
  },
  {
   "cell_type": "code",
   "execution_count": 53,
   "metadata": {},
   "outputs": [
    {
     "data": {
      "text/plain": [
       "array([[4359.4023]], dtype=float32)"
      ]
     },
     "execution_count": 53,
     "metadata": {},
     "output_type": "execute_result"
    }
   ],
   "source": [
    "y"
   ]
  },
  {
   "cell_type": "code",
   "execution_count": 56,
   "metadata": {},
   "outputs": [
    {
     "name": "stdout",
     "output_type": "stream",
     "text": [
      "1/1 [==============================] - 0s 33ms/step\n"
     ]
    }
   ],
   "source": [
    "y = model2.predict(X)"
   ]
  },
  {
   "cell_type": "code",
   "execution_count": 57,
   "metadata": {},
   "outputs": [
    {
     "data": {
      "text/plain": [
       "array([[323.83466]], dtype=float32)"
      ]
     },
     "execution_count": 57,
     "metadata": {},
     "output_type": "execute_result"
    }
   ],
   "source": [
    "y"
   ]
  }
 ],
 "metadata": {
  "kernelspec": {
   "display_name": "base",
   "language": "python",
   "name": "python3"
  },
  "language_info": {
   "codemirror_mode": {
    "name": "ipython",
    "version": 3
   },
   "file_extension": ".py",
   "mimetype": "text/x-python",
   "name": "python",
   "nbconvert_exporter": "python",
   "pygments_lexer": "ipython3",
   "version": "3.9.13"
  },
  "orig_nbformat": 4,
  "vscode": {
   "interpreter": {
    "hash": "2faf7d233e2b105e8d1a284702cec228a4712bc10b8e33a5c6f4a53cf932b354"
   }
  }
 },
 "nbformat": 4,
 "nbformat_minor": 2
}
