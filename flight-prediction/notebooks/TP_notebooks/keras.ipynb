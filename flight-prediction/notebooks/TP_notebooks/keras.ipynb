{
 "cells": [
  {
   "attachments": {},
   "cell_type": "markdown",
   "metadata": {},
   "source": [
    "#  Keras\n",
    "\n",
    "Author: __Thanchanok Phuawiriyakul 24582239__\n",
    "\n",
    "        AT3 - Data Product with Machine \n",
    "In this experiment, we will train the model using Keras to predict the total fares.\n",
    "\n",
    "\n",
    "__Table of contents__\n",
    "1. [Load dataset](#load-dataset)\n",
    "2. [Train Keras](#Train-keras )\n",
    "3. [Keras tuner](#Keras-Tuner)\n",
    "4. [Conclusion]()\n",
    "5. [Reference]()"
   ]
  },
  {
   "cell_type": "code",
   "execution_count": 19,
   "metadata": {},
   "outputs": [],
   "source": [
    "# first neural network with keras tutorial\n",
    "import numpy as np\n",
    "import tensorflow as tf\n",
    "import keras\n",
    "import sys"
   ]
  },
  {
   "cell_type": "code",
   "execution_count": 13,
   "metadata": {},
   "outputs": [],
   "source": [
    "sys.path.append('../../src')"
   ]
  },
  {
   "cell_type": "markdown",
   "metadata": {},
   "source": [
    "## Load dataset"
   ]
  },
  {
   "cell_type": "code",
   "execution_count": 14,
   "metadata": {},
   "outputs": [],
   "source": [
    "from data.make_dataset import *\n",
    "X_train, y_train, X_val, y_val, X_test, y_test = load_sets(path='../../data/processed/')"
   ]
  },
  {
   "cell_type": "markdown",
   "metadata": {},
   "source": [
    "## Train keras"
   ]
  },
  {
   "cell_type": "code",
   "execution_count": 31,
   "metadata": {},
   "outputs": [],
   "source": [
    "# define the keras model\n",
    "model = keras.Sequential()\n",
    "model.add(Dense(12, input_shape=(13,), activation='relu'))\n",
    "model.add(Dense(8, activation='relu'))\n",
    "model.add(Dense(1))"
   ]
  },
  {
   "cell_type": "code",
   "execution_count": 32,
   "metadata": {},
   "outputs": [],
   "source": [
    "model.compile(optimizer='adam', loss=tf.keras.losses.MeanSquaredError())"
   ]
  },
  {
   "cell_type": "code",
   "execution_count": 33,
   "metadata": {},
   "outputs": [
    {
     "name": "stdout",
     "output_type": "stream",
     "text": [
      "811200/811200 [==============================] - 343s 422us/step - loss: 120523.4766\n"
     ]
    },
    {
     "data": {
      "text/plain": [
       "<keras.callbacks.History at 0x7f79d197dd90>"
      ]
     },
     "execution_count": 33,
     "metadata": {},
     "output_type": "execute_result"
    }
   ],
   "source": [
    "model.fit(X_train, y_train, epochs=1, batch_size=10)"
   ]
  },
  {
   "cell_type": "code",
   "execution_count": 34,
   "metadata": {},
   "outputs": [
    {
     "name": "stdout",
     "output_type": "stream",
     "text": [
      "253500/253500 [==============================] - 93s 364us/step - loss: 1.0009\n",
      "MSE test set: 1.0008652210235596\n"
     ]
    }
   ],
   "source": [
    "loss = model.evaluate(X_train, y_train)\n",
    "print(f\"MSE test set: {loss}\")"
   ]
  },
  {
   "cell_type": "code",
   "execution_count": 35,
   "metadata": {},
   "outputs": [
    {
     "name": "stdout",
     "output_type": "stream",
     "text": [
      "84500/84500 [==============================] - 35s 417us/step - loss: 1.0013\n",
      "MSE test set: 1.0012781620025635\n"
     ]
    }
   ],
   "source": [
    "loss = model.evaluate(X_test, y_test)\n",
    "print(f\"MSE test set: {loss}\")"
   ]
  },
  {
   "cell_type": "code",
   "execution_count": 40,
   "metadata": {},
   "outputs": [
    {
     "name": "stdout",
     "output_type": "stream",
     "text": [
      "84500/84500 [==============================] - 28s 331us/step\n"
     ]
    }
   ],
   "source": [
    "y_pred = model.predict(X_test)\n"
   ]
  },
  {
   "attachments": {},
   "cell_type": "markdown",
   "metadata": {},
   "source": [
    "## Keras Tuner"
   ]
  },
  {
   "cell_type": "code",
   "execution_count": 43,
   "metadata": {},
   "outputs": [
    {
     "name": "stdout",
     "output_type": "stream",
     "text": [
      "Requirement already satisfied: keras-tuner in /Users/baiporthn/opt/anaconda3/lib/python3.9/site-packages (1.4.5)\n",
      "Requirement already satisfied: keras-core in /Users/baiporthn/opt/anaconda3/lib/python3.9/site-packages (from keras-tuner) (0.1.7)\n",
      "Requirement already satisfied: packaging in /Users/baiporthn/opt/anaconda3/lib/python3.9/site-packages (from keras-tuner) (23.0)\n",
      "Requirement already satisfied: requests in /Users/baiporthn/opt/anaconda3/lib/python3.9/site-packages (from keras-tuner) (2.31.0)\n",
      "Requirement already satisfied: kt-legacy in /Users/baiporthn/opt/anaconda3/lib/python3.9/site-packages (from keras-tuner) (1.0.5)\n",
      "Requirement already satisfied: absl-py in /Users/baiporthn/opt/anaconda3/lib/python3.9/site-packages (from keras-core->keras-tuner) (1.4.0)\n",
      "Requirement already satisfied: numpy in /Users/baiporthn/opt/anaconda3/lib/python3.9/site-packages (from keras-core->keras-tuner) (1.22.4)\n",
      "Requirement already satisfied: rich in /Users/baiporthn/opt/anaconda3/lib/python3.9/site-packages (from keras-core->keras-tuner) (13.5.2)\n",
      "Requirement already satisfied: namex in /Users/baiporthn/opt/anaconda3/lib/python3.9/site-packages (from keras-core->keras-tuner) (0.0.7)\n",
      "Requirement already satisfied: h5py in /Users/baiporthn/opt/anaconda3/lib/python3.9/site-packages (from keras-core->keras-tuner) (3.7.0)\n",
      "Requirement already satisfied: dm-tree in /Users/baiporthn/opt/anaconda3/lib/python3.9/site-packages (from keras-core->keras-tuner) (0.1.8)\n",
      "Requirement already satisfied: charset-normalizer<4,>=2 in /Users/baiporthn/opt/anaconda3/lib/python3.9/site-packages (from requests->keras-tuner) (2.0.4)\n",
      "Requirement already satisfied: idna<4,>=2.5 in /Users/baiporthn/opt/anaconda3/lib/python3.9/site-packages (from requests->keras-tuner) (3.4)\n",
      "Requirement already satisfied: urllib3<3,>=1.21.1 in /Users/baiporthn/opt/anaconda3/lib/python3.9/site-packages (from requests->keras-tuner) (1.26.16)\n",
      "Requirement already satisfied: certifi>=2017.4.17 in /Users/baiporthn/opt/anaconda3/lib/python3.9/site-packages (from requests->keras-tuner) (2023.7.22)\n",
      "Requirement already satisfied: markdown-it-py>=2.2.0 in /Users/baiporthn/opt/anaconda3/lib/python3.9/site-packages (from rich->keras-core->keras-tuner) (3.0.0)\n",
      "Requirement already satisfied: pygments<3.0.0,>=2.13.0 in /Users/baiporthn/opt/anaconda3/lib/python3.9/site-packages (from rich->keras-core->keras-tuner) (2.15.1)\n",
      "Requirement already satisfied: mdurl~=0.1 in /Users/baiporthn/opt/anaconda3/lib/python3.9/site-packages (from markdown-it-py>=2.2.0->rich->keras-core->keras-tuner) (0.1.2)\n",
      "\u001b[33mWARNING: Error parsing requirements for scikit-learn: [Errno 2] No such file or directory: '/Users/baiporthn/opt/anaconda3/lib/python3.9/site-packages/scikit_learn-1.2.2.dist-info/METADATA'\u001b[0m\u001b[33m\n",
      "\u001b[0mNote: you may need to restart the kernel to use updated packages.\n"
     ]
    }
   ],
   "source": [
    "pip install keras-tuner --upgrade"
   ]
  },
  {
   "cell_type": "code",
   "execution_count": 119,
   "metadata": {},
   "outputs": [],
   "source": [
    "import keras_tuner\n",
    "from tensorflow import keras\n",
    "from sklearn.model_selection import GridSearchCV\n",
    "from keras.wrappers.scikit_learn import KerasRegressor"
   ]
  },
  {
   "cell_type": "code",
   "execution_count": 120,
   "metadata": {},
   "outputs": [],
   "source": [
    "def build_model(hp):\n",
    "  model = Sequential()\n",
    "  model.add(Dense(hp.Choice('units', [8, 16, 32]), input_shape=(13,), activation='relu'))\n",
    "  model.add(Dense(1))\n",
    "\n",
    "  model.compile(loss='mean_squared_error', optimizer='adam')\n",
    "  return model"
   ]
  },
  {
   "cell_type": "code",
   "execution_count": 121,
   "metadata": {},
   "outputs": [
    {
     "name": "stdout",
     "output_type": "stream",
     "text": [
      "Reloading Tuner from ./untitled_project/tuner0.json\n"
     ]
    }
   ],
   "source": [
    "tuner = keras_tuner.RandomSearch(\n",
    "    build_model,\n",
    "    objective='val_loss',\n",
    "    max_trials=5)"
   ]
  },
  {
   "cell_type": "code",
   "execution_count": 123,
   "metadata": {},
   "outputs": [
    {
     "name": "stdout",
     "output_type": "stream",
     "text": [
      "Trial 5 Complete [00h 13m 33s]\n",
      "val_loss: 0.902397096157074\n",
      "\n",
      "Best val_loss So Far: 0.6716501712799072\n",
      "Total elapsed time: 01h 27m 40s\n",
      "WARNING:tensorflow:Detecting that an object or model or tf.train.Checkpoint is being deleted with unrestored values. See the following logs for the specific values in question. To silence these warnings, use `status.expect_partial()`. See https://www.tensorflow.org/api_docs/python/tf/train/Checkpoint#restorefor details about the status object returned by the restore function.\n",
      "WARNING:tensorflow:Value in checkpoint could not be found in the restored object: (root).optimizer.iter\n",
      "WARNING:tensorflow:Value in checkpoint could not be found in the restored object: (root).optimizer.decay\n",
      "WARNING:tensorflow:Value in checkpoint could not be found in the restored object: (root).optimizer.learning_rate\n",
      "WARNING:tensorflow:Value in checkpoint could not be found in the restored object: (root).optimizer.momentum\n",
      "WARNING:tensorflow:Value in checkpoint could not be found in the restored object: (root).optimizer.rho\n"
     ]
    }
   ],
   "source": [
    "tuner.search(X_train, y_train, epochs=5, validation_data=(X_val, y_val))\n",
    "best_model = tuner.get_best_models()[0]"
   ]
  },
  {
   "cell_type": "markdown",
   "metadata": {},
   "source": [
    "## Save model"
   ]
  },
  {
   "cell_type": "code",
   "execution_count": 126,
   "metadata": {},
   "outputs": [
    {
     "name": "stdout",
     "output_type": "stream",
     "text": [
      "INFO:tensorflow:Assets written to: ram://f8e83393-467e-47d8-8dc8-5f9d02c9cc05/assets\n"
     ]
    },
    {
     "data": {
      "text/plain": [
       "['../../models/tunes_keras.joblib']"
      ]
     },
     "execution_count": 126,
     "metadata": {},
     "output_type": "execute_result"
    }
   ],
   "source": [
    "joblib.dump(best_model, '../../models/tunes_keras.joblib')"
   ]
  },
  {
   "cell_type": "code",
   "execution_count": 127,
   "metadata": {},
   "outputs": [],
   "source": [
    "loaded_keras_regressor = joblib.load('../../models/tunes_keras.joblib')"
   ]
  }
 ],
 "metadata": {
  "kernelspec": {
   "display_name": "base",
   "language": "python",
   "name": "python3"
  },
  "language_info": {
   "codemirror_mode": {
    "name": "ipython",
    "version": 3
   },
   "file_extension": ".py",
   "mimetype": "text/x-python",
   "name": "python",
   "nbconvert_exporter": "python",
   "pygments_lexer": "ipython3",
   "version": "3.9.13"
  },
  "orig_nbformat": 4,
  "vscode": {
   "interpreter": {
    "hash": "2faf7d233e2b105e8d1a284702cec228a4712bc10b8e33a5c6f4a53cf932b354"
   }
  }
 },
 "nbformat": 4,
 "nbformat_minor": 2
}
