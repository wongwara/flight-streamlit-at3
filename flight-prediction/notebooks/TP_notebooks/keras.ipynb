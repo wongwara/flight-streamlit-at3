{
 "cells": [
  {
   "attachments": {},
   "cell_type": "markdown",
   "metadata": {},
   "source": [
    "#  Keras\n",
    "\n",
    "Author: __Thanchanok Phuawiriyakul 24582239__\n",
    "\n",
    "        AT3 - Data Product with Machine \n",
    "In this experiment, we will train the model using Keras to predict the total fares.\n",
    "\n",
    "\n",
    "__Table of contents__\n",
    "1. [Load dataset](#load-dataset)\n",
    "2. [Train Keras](#Train-keras )\n",
    "3. [Keras tuner](#Keras-Tuner)\n",
    "4. [Conclusion]()\n",
    "5. [Reference]()"
   ]
  },
  {
   "cell_type": "code",
   "execution_count": 1,
   "metadata": {},
   "outputs": [
    {
     "name": "stderr",
     "output_type": "stream",
     "text": [
      "/Users/baiporthn/opt/anaconda3/lib/python3.9/site-packages/scipy/__init__.py:146: UserWarning: A NumPy version >=1.16.5 and <1.23.0 is required for this version of SciPy (detected version 1.26.0\n",
      "  warnings.warn(f\"A NumPy version >={np_minversion} and <{np_maxversion}\"\n"
     ]
    },
    {
     "name": "stdout",
     "output_type": "stream",
     "text": [
      "Using TensorFlow backend\n"
     ]
    }
   ],
   "source": [
    "# first neural network with keras tutorial\n",
    "import numpy as np\n",
    "import tensorflow as tf\n",
    "import keras\n",
    "import sys\n",
    "import pandas as pd\n",
    "import keras_tuner\n",
    "from tensorflow import keras\n",
    "from sklearn.model_selection import GridSearchCV\n",
    "from keras.wrappers.scikit_learn import KerasRegressor\n",
    "from keras.models import Sequential\n",
    "from keras.layers import Dense"
   ]
  },
  {
   "cell_type": "code",
   "execution_count": 2,
   "metadata": {},
   "outputs": [],
   "source": [
    "sys.path.append('../../src')"
   ]
  },
  {
   "cell_type": "markdown",
   "metadata": {},
   "source": [
    "## Load dataset"
   ]
  },
  {
   "cell_type": "code",
   "execution_count": 3,
   "metadata": {},
   "outputs": [],
   "source": [
    "from data.make_dataset import *\n",
    "X_train, y_train, X_val, y_val, X_test, y_test = load_sets(path='../../data/processed/')"
   ]
  },
  {
   "cell_type": "markdown",
   "metadata": {},
   "source": [
    "## Train keras"
   ]
  },
  {
   "cell_type": "code",
   "execution_count": 37,
   "metadata": {},
   "outputs": [],
   "source": [
    "# define the keras model\n",
    "model = keras.Sequential()\n",
    "model.add(Dense(units=12, input_shape=(12,), activation='relu'))\n",
    "model.add(Dense(units=8, activation='relu'))\n",
    "model.add(Dense(units=1, activation='linear'))"
   ]
  },
  {
   "cell_type": "code",
   "execution_count": 38,
   "metadata": {},
   "outputs": [],
   "source": [
    "model.compile(optimizer='adam', loss='mean_squared_error')"
   ]
  },
  {
   "cell_type": "code",
   "execution_count": 39,
   "metadata": {},
   "outputs": [
    {
     "name": "stdout",
     "output_type": "stream",
     "text": [
      "Epoch 1/5\n",
      "253500/253500 [==============================] - 97s 381us/step - loss: 0.5122\n",
      "Epoch 2/5\n",
      "253500/253500 [==============================] - 95s 375us/step - loss: 0.5011\n",
      "Epoch 3/5\n",
      "253500/253500 [==============================] - 100s 395us/step - loss: 0.4983\n",
      "Epoch 4/5\n",
      "253500/253500 [==============================] - 99s 392us/step - loss: 0.4947\n",
      "Epoch 5/5\n",
      "253500/253500 [==============================] - 98s 386us/step - loss: 0.4935\n"
     ]
    },
    {
     "data": {
      "text/plain": [
       "<keras.callbacks.History at 0x7fcb90c56730>"
      ]
     },
     "execution_count": 39,
     "metadata": {},
     "output_type": "execute_result"
    }
   ],
   "source": [
    "model.fit(X_train, y_train, epochs=5, batch_size=32)"
   ]
  },
  {
   "cell_type": "code",
   "execution_count": null,
   "metadata": {},
   "outputs": [],
   "source": [
    "keras.save('../../models/keras.keras')"
   ]
  },
  {
   "cell_type": "markdown",
   "metadata": {},
   "source": [
    "### Keras evaluate"
   ]
  },
  {
   "cell_type": "code",
   "execution_count": null,
   "metadata": {},
   "outputs": [],
   "source": [
    "import tensorflow as tf\n",
    "\n",
    "keras = tf.keras.models.load_model('../../models/keras.keras')"
   ]
  },
  {
   "cell_type": "code",
   "execution_count": null,
   "metadata": {},
   "outputs": [
    {
     "name": "stdout",
     "output_type": "stream",
     "text": [
      "253500/253500 [==============================] - 89s 351us/step - loss: 0.4943\n",
      "MSE test set: 0.49432602524757385\n"
     ]
    }
   ],
   "source": [
    "keras_loss_train = keras.evaluate(X_train, y_train)\n",
    "print(f\"MSE test set: {keras_loss_train}\")"
   ]
  },
  {
   "cell_type": "code",
   "execution_count": null,
   "metadata": {},
   "outputs": [
    {
     "name": "stdout",
     "output_type": "stream",
     "text": [
      "84500/84500 [==============================] - 33s 394us/step - loss: 0.4940\n",
      "MSE test set: 0.49395307898521423\n"
     ]
    }
   ],
   "source": [
    "keras_loss_test = keras.evaluate(X_test, y_test)\n",
    "print(f\"MSE test set: {keras_loss_test}\")"
   ]
  },
  {
   "attachments": {},
   "cell_type": "markdown",
   "metadata": {},
   "source": [
    "## Keras Tuner"
   ]
  },
  {
   "cell_type": "code",
   "execution_count": 43,
   "metadata": {},
   "outputs": [
    {
     "name": "stdout",
     "output_type": "stream",
     "text": [
      "Requirement already satisfied: keras-tuner in /Users/baiporthn/opt/anaconda3/lib/python3.9/site-packages (1.4.5)\n",
      "Requirement already satisfied: keras-core in /Users/baiporthn/opt/anaconda3/lib/python3.9/site-packages (from keras-tuner) (0.1.7)\n",
      "Requirement already satisfied: packaging in /Users/baiporthn/opt/anaconda3/lib/python3.9/site-packages (from keras-tuner) (23.0)\n",
      "Requirement already satisfied: requests in /Users/baiporthn/opt/anaconda3/lib/python3.9/site-packages (from keras-tuner) (2.31.0)\n",
      "Requirement already satisfied: kt-legacy in /Users/baiporthn/opt/anaconda3/lib/python3.9/site-packages (from keras-tuner) (1.0.5)\n",
      "Requirement already satisfied: absl-py in /Users/baiporthn/opt/anaconda3/lib/python3.9/site-packages (from keras-core->keras-tuner) (1.4.0)\n",
      "Requirement already satisfied: numpy in /Users/baiporthn/opt/anaconda3/lib/python3.9/site-packages (from keras-core->keras-tuner) (1.22.4)\n",
      "Requirement already satisfied: rich in /Users/baiporthn/opt/anaconda3/lib/python3.9/site-packages (from keras-core->keras-tuner) (13.5.2)\n",
      "Requirement already satisfied: namex in /Users/baiporthn/opt/anaconda3/lib/python3.9/site-packages (from keras-core->keras-tuner) (0.0.7)\n",
      "Requirement already satisfied: h5py in /Users/baiporthn/opt/anaconda3/lib/python3.9/site-packages (from keras-core->keras-tuner) (3.7.0)\n",
      "Requirement already satisfied: dm-tree in /Users/baiporthn/opt/anaconda3/lib/python3.9/site-packages (from keras-core->keras-tuner) (0.1.8)\n",
      "Requirement already satisfied: charset-normalizer<4,>=2 in /Users/baiporthn/opt/anaconda3/lib/python3.9/site-packages (from requests->keras-tuner) (2.0.4)\n",
      "Requirement already satisfied: idna<4,>=2.5 in /Users/baiporthn/opt/anaconda3/lib/python3.9/site-packages (from requests->keras-tuner) (3.4)\n",
      "Requirement already satisfied: urllib3<3,>=1.21.1 in /Users/baiporthn/opt/anaconda3/lib/python3.9/site-packages (from requests->keras-tuner) (1.26.16)\n",
      "Requirement already satisfied: certifi>=2017.4.17 in /Users/baiporthn/opt/anaconda3/lib/python3.9/site-packages (from requests->keras-tuner) (2023.7.22)\n",
      "Requirement already satisfied: markdown-it-py>=2.2.0 in /Users/baiporthn/opt/anaconda3/lib/python3.9/site-packages (from rich->keras-core->keras-tuner) (3.0.0)\n",
      "Requirement already satisfied: pygments<3.0.0,>=2.13.0 in /Users/baiporthn/opt/anaconda3/lib/python3.9/site-packages (from rich->keras-core->keras-tuner) (2.15.1)\n",
      "Requirement already satisfied: mdurl~=0.1 in /Users/baiporthn/opt/anaconda3/lib/python3.9/site-packages (from markdown-it-py>=2.2.0->rich->keras-core->keras-tuner) (0.1.2)\n",
      "\u001b[33mWARNING: Error parsing requirements for scikit-learn: [Errno 2] No such file or directory: '/Users/baiporthn/opt/anaconda3/lib/python3.9/site-packages/scikit_learn-1.2.2.dist-info/METADATA'\u001b[0m\u001b[33m\n",
      "\u001b[0mNote: you may need to restart the kernel to use updated packages.\n"
     ]
    }
   ],
   "source": [
    "# pip install keras-tuner --upgrade"
   ]
  },
  {
   "cell_type": "code",
   "execution_count": 3,
   "metadata": {},
   "outputs": [],
   "source": [
    "def build_model_tune(hp):\n",
    "  model_tune = Sequential()\n",
    "  model_tune.add(Dense(hp.Choice('units', [8, 16, 32]), input_shape=(12,), activation='relu'))\n",
    "  model_tune.add(Dense(1, activation='linear'))\n",
    "\n",
    "  model_tune.compile(loss='mean_squared_error', optimizer='adam')\n",
    "  return model_tune"
   ]
  },
  {
   "cell_type": "code",
   "execution_count": 45,
   "metadata": {},
   "outputs": [],
   "source": [
    "tuner = keras_tuner.RandomSearch(\n",
    "    build_model_tune,\n",
    "    objective='val_loss',\n",
    "    max_trials=5)"
   ]
  },
  {
   "cell_type": "code",
   "execution_count": 46,
   "metadata": {},
   "outputs": [
    {
     "name": "stdout",
     "output_type": "stream",
     "text": [
      "Trial 3 Complete [00h 12m 22s]\n",
      "val_loss: 0.4709257483482361\n",
      "\n",
      "Best val_loss So Far: 0.4709257483482361\n",
      "Total elapsed time: 00h 33m 15s\n"
     ]
    }
   ],
   "source": [
    "tuner.search(X_train, y_train, epochs=5, validation_data=(X_val, y_val))\n",
    "best_model = tuner.get_best_models()[0]"
   ]
  },
  {
   "cell_type": "code",
   "execution_count": null,
   "metadata": {},
   "outputs": [],
   "source": [
    "best_model.save('../../models/keras_tuner.keras')"
   ]
  },
  {
   "attachments": {},
   "cell_type": "markdown",
   "metadata": {},
   "source": [
    "### Keras Tuner evaluate"
   ]
  },
  {
   "cell_type": "code",
   "execution_count": null,
   "metadata": {},
   "outputs": [
    {
     "name": "stdout",
     "output_type": "stream",
     "text": [
      "WARNING:tensorflow:Error in loading the saved optimizer state. As a result, your model is starting with a freshly initialized optimizer.\n"
     ]
    }
   ],
   "source": [
    "import tensorflow as tf\n",
    "\n",
    "keras_tuner = tf.keras.models.load_model('../../models/keras_tuner.keras')"
   ]
  },
  {
   "cell_type": "code",
   "execution_count": null,
   "metadata": {},
   "outputs": [
    {
     "name": "stdout",
     "output_type": "stream",
     "text": [
      "253500/253500 [==============================] - 86s 339us/step - loss: 0.4721\n",
      "MSE test set: 0.47212257981300354\n"
     ]
    }
   ],
   "source": [
    "keras_tuner_loss_train = keras_tuner.evaluate(X_train, y_train)\n",
    "print(f\"MSE test set: {keras_tuner_loss_train}\")"
   ]
  },
  {
   "cell_type": "code",
   "execution_count": null,
   "metadata": {},
   "outputs": [
    {
     "name": "stdout",
     "output_type": "stream",
     "text": [
      "84500/84500 [==============================] - 33s 385us/step - loss: 0.4710\n",
      "MSE test set: 0.4709739685058594\n"
     ]
    }
   ],
   "source": [
    "keras_tuner_loss_test = keras_tuner.evaluate(X_test, y_test)\n",
    "print(f\"MSE test set: {keras_tuner_loss_test}\")"
   ]
  },
  {
   "attachments": {},
   "cell_type": "markdown",
   "metadata": {},
   "source": [
    "## Compare model"
   ]
  },
  {
   "cell_type": "code",
   "execution_count": 35,
   "metadata": {},
   "outputs": [
    {
     "data": {
      "image/png": "[encoded data removed]",
      "text/plain": [
       "<Figure size 800x600 with 1 Axes>"
      ]
     },
     "metadata": {},
     "output_type": "display_data"
    }
   ],
   "source": [
    "import pandas as pd\n",
    "import seaborn as sns\n",
    "import matplotlib.pyplot as plt\n",
    "\n",
    "# Example data\n",
    "data = {\n",
    "    'Category': ['Keras', 'Keras', 'KerasTuner', 'KerasTuner'],\n",
    "    'Group': ['Train set', 'Test set', 'Train set', 'Test set'],\n",
    "    'Value': [keras_loss_train, keras_loss_test, keras_tuner_loss_train, keras_tuner_loss_test, ]\n",
    "}\n",
    "\n",
    "# Create a DataFrame\n",
    "df = pd.DataFrame(data)\n",
    "\n",
    "# Create a clustered bar plot\n",
    "plt.figure(figsize=(8, 6))\n",
    "sns.barplot(x='Category', y='Value', hue='Group', data=df, palette='Set2')\n",
    "plt.xlabel('Model')\n",
    "plt.ylabel('MSE score')\n",
    "plt.legend(title='Group')\n",
    "\n",
    "# Annotate bars with their values\n",
    "ax = plt.gca()\n",
    "for p in ax.patches:\n",
    "    ax.annotate(f'{p.get_height():.5f}', (p.get_x() + p.get_width() / 2., p.get_height()/2), ha='center', va='center', fontsize=10, color='black')\n",
    "\n",
    "\n",
    "# Show the plot\n",
    "plt.show()\n"
   ]
  },
  {
   "cell_type": "code",
   "execution_count": 26,
   "metadata": {},
   "outputs": [
    {
     "data": {
      "text/html": [
       "<div>\n",
       "<style scoped>\n",
       "    .dataframe tbody tr th:only-of-type {\n",
       "        vertical-align: middle;\n",
       "    }\n",
       "\n",
       "    .dataframe tbody tr th {\n",
       "        vertical-align: top;\n",
       "    }\n",
       "\n",
       "    .dataframe thead th {\n",
       "        text-align: right;\n",
       "    }\n",
       "</style>\n",
       "<table border=\"1\" class=\"dataframe\">\n",
       "  <thead>\n",
       "    <tr style=\"text-align: right;\">\n",
       "      <th></th>\n",
       "      <th>Category</th>\n",
       "      <th>Group</th>\n",
       "      <th>Value</th>\n",
       "    </tr>\n",
       "  </thead>\n",
       "  <tbody>\n",
       "    <tr>\n",
       "      <th>0</th>\n",
       "      <td>Keras</td>\n",
       "      <td>Train set</td>\n",
       "      <td>0.494326</td>\n",
       "    </tr>\n",
       "    <tr>\n",
       "      <th>1</th>\n",
       "      <td>Keras</td>\n",
       "      <td>Test set</td>\n",
       "      <td>0.493953</td>\n",
       "    </tr>\n",
       "    <tr>\n",
       "      <th>2</th>\n",
       "      <td>KerasTuner</td>\n",
       "      <td>Train set</td>\n",
       "      <td>0.472123</td>\n",
       "    </tr>\n",
       "    <tr>\n",
       "      <th>3</th>\n",
       "      <td>KerasTuner</td>\n",
       "      <td>Test set</td>\n",
       "      <td>0.470974</td>\n",
       "    </tr>\n",
       "  </tbody>\n",
       "</table>\n",
       "</div>"
      ],
      "text/plain": [
       "     Category      Group     Value\n",
       "0       Keras  Train set  0.494326\n",
       "1       Keras   Test set  0.493953\n",
       "2  KerasTuner  Train set  0.472123\n",
       "3  KerasTuner   Test set  0.470974"
      ]
     },
     "execution_count": 26,
     "metadata": {},
     "output_type": "execute_result"
    }
   ],
   "source": [
    "df"
   ]
  }
 ],
 "metadata": {
  "kernelspec": {
   "display_name": "base",
   "language": "python",
   "name": "python3"
  },
  "language_info": {
   "codemirror_mode": {
    "name": "ipython",
    "version": 3
   },
   "file_extension": ".py",
   "mimetype": "text/x-python",
   "name": "python",
   "nbconvert_exporter": "python",
   "pygments_lexer": "ipython3",
   "version": "3.9.13"
  },
  "orig_nbformat": 4,
  "vscode": {
   "interpreter": {
    "hash": "2faf7d233e2b105e8d1a284702cec228a4712bc10b8e33a5c6f4a53cf932b354"
   }
  }
 },
 "nbformat": 4,
 "nbformat_minor": 2
}
