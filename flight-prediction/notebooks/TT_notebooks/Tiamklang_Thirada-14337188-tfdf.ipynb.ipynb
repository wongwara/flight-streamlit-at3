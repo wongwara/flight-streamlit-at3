{
 "cells": [
  {
   "cell_type": "markdown",
   "metadata": {},
   "source": [
    "#  TensorFlow's Decision Forests (TF-DF) algorithm\n",
    "\n",
    "Author: __Thirada Tiamklang 14337188__\n",
    "\n",
    "        AT3 - Data Product with Machine \n",
    "In this experiment, we will train the model with TensorFlow's Decision Forests (TF-DF), including Random Forest and Gradient Boosted Trees, to predict the total fares.\n",
    "\n",
    "\n",
    "__Table of contents__\n",
    "1. [Load dataset](#load-dataset)\n",
    "2. [Train TensorFlow's Decision Forests (TF-DF) algorithm:]()\n",
    "\n",
    "                2.1 Random forest model\n",
    "                2.2 Gradient Boosted Trees\n",
    "3. [Conclusion]()\n",
    "4. [Reference]()"
   ]
  },
  {
   "cell_type": "markdown",
   "metadata": {},
   "source": [
    "## 1. Load Dataset"
   ]
  },
  {
   "cell_type": "code",
   "execution_count": 32,
   "metadata": {},
   "outputs": [],
   "source": [
    "import warnings\n",
    "# Ignore all warnings\n",
    "warnings.filterwarnings(\"ignore\")"
   ]
  },
  {
   "cell_type": "code",
   "execution_count": 33,
   "metadata": {},
   "outputs": [
    {
     "name": "stdout",
     "output_type": "stream",
     "text": [
      "['/Users/thiradatiamklang/Desktop/flight-streamlit-at3/flight-prediction/notebooks/TT_notebooks', '/Library/Frameworks/Python.framework/Versions/3.10/lib/python310.zip', '/Library/Frameworks/Python.framework/Versions/3.10/lib/python3.10', '/Library/Frameworks/Python.framework/Versions/3.10/lib/python3.10/lib-dynload', '', '/Library/Frameworks/Python.framework/Versions/3.10/lib/python3.10/site-packages', '../../src']\n"
     ]
    }
   ],
   "source": [
    "import sys\n",
    "print(sys.path)"
   ]
  },
  {
   "cell_type": "code",
   "execution_count": 34,
   "metadata": {},
   "outputs": [],
   "source": [
    "import sys\n",
    "sys.path.append('../../src')\n"
   ]
  },
  {
   "cell_type": "code",
   "execution_count": 35,
   "metadata": {},
   "outputs": [],
   "source": [
    "from data.make_dataset import load_sets\n",
    "X_train, y_train, X_val, y_val, X_test, y_test = load_sets(path='../../data/processed/')"
   ]
  },
  {
   "cell_type": "code",
   "execution_count": 36,
   "metadata": {},
   "outputs": [],
   "source": [
    "import pandas as pd\n",
    "# Read a Feather file\n",
    "df = pd.read_feather('../../data/processed/df_cleaned_select_cols.feather')"
   ]
  },
  {
   "cell_type": "code",
   "execution_count": 37,
   "metadata": {},
   "outputs": [],
   "source": [
    "from data.make_dataset import pop_target\n",
    "features, target = pop_target(df, 'totalFare')"
   ]
  },
  {
   "cell_type": "code",
   "execution_count": 38,
   "metadata": {},
   "outputs": [
    {
     "data": {
      "text/plain": [
       "array([-0.31391783, -0.50182474, -1.22936172, ..., -0.89209292,\n",
       "        1.17970114, -0.04892092])"
      ]
     },
     "execution_count": 38,
     "metadata": {},
     "output_type": "execute_result"
    }
   ],
   "source": [
    "y_train"
   ]
  },
  {
   "cell_type": "code",
   "execution_count": 41,
   "metadata": {},
   "outputs": [
    {
     "data": {
      "text/plain": [
       "(8111999, 12)"
      ]
     },
     "execution_count": 41,
     "metadata": {},
     "output_type": "execute_result"
    }
   ],
   "source": [
    "X_train.shape"
   ]
  },
  {
   "cell_type": "markdown",
   "metadata": {},
   "source": [
    "## 2. Train TensorFlow's Decision Forests (TF-DF)"
   ]
  },
  {
   "cell_type": "code",
   "execution_count": 42,
   "metadata": {},
   "outputs": [],
   "source": [
    "import tensorflow_decision_forests as tfdf\n",
    "import tensorflow as tf\n",
    "from sklearn.metrics import mean_squared_error\n",
    "\n",
    "# Convert data to tf.data.Datasets\n",
    "batch_size = 100\n",
    "\n",
    "# Assuming X_train, y_train, X_val, y_val, X_test, and y_test are NumPy arrays or tensors\n",
    "train_dataset = tf.data.Dataset.from_tensor_slices((X_train, y_train))\n",
    "train_dataset = train_dataset.batch(batch_size)\n",
    "\n",
    "validation_dataset = tf.data.Dataset.from_tensor_slices((X_val, y_val))\n",
    "validation_dataset = validation_dataset.batch(batch_size)\n",
    "\n",
    "test_dataset = tf.data.Dataset.from_tensor_slices((X_test, y_test))\n",
    "test_dataset = test_dataset.batch(batch_size)\n"
   ]
  },
  {
   "cell_type": "markdown",
   "metadata": {},
   "source": [
    "### [2.1] Train Random Forest models"
   ]
  },
  {
   "cell_type": "code",
   "execution_count": 43,
   "metadata": {},
   "outputs": [
    {
     "name": "stdout",
     "output_type": "stream",
     "text": [
      "Use /var/folders/sb/nxrzyd0n61192x17k7wcyr4w0000gn/T/tmpz8o_vba6 as temporary training directory\n",
      "Reading training dataset...\n",
      "Training dataset read in 0:00:08.272736. Found 8111999 examples.\n",
      "Reading validation dataset...\n",
      "Num validation examples: tf.Tensor(2704000, shape=(), dtype=int32)\n",
      "Validation dataset read in 0:00:02.908717. Found 2704000 examples.\n",
      "Training model...\n"
     ]
    },
    {
     "name": "stderr",
     "output_type": "stream",
     "text": [
      "[INFO 23-11-07 12:59:49.3133 AEDT kernel.cc:1233] Loading model from path /var/folders/sb/nxrzyd0n61192x17k7wcyr4w0000gn/T/tmpz8o_vba6/model/ with prefix 435059869ffc46f5\n",
      "[INFO 23-11-07 12:59:57.9898 AEDT decision_forest.cc:660] Model loaded with 300 root(s), 7246380 node(s), and 8 input feature(s).\n",
      "[INFO 23-11-07 12:59:57.9900 AEDT abstract_model.cc:1344] Engine \"RandomForestOptPred\" built\n",
      "[INFO 23-11-07 12:59:57.9900 AEDT kernel.cc:1061] Use fast generic engine\n"
     ]
    },
    {
     "name": "stdout",
     "output_type": "stream",
     "text": [
      "Model trained in 0:22:39.529805\n",
      "Compiling model...\n",
      "Model compiled.\n"
     ]
    },
    {
     "data": {
      "text/plain": [
       "<keras.src.callbacks.History at 0x2a0015ea0>"
      ]
     },
     "execution_count": 43,
     "metadata": {},
     "output_type": "execute_result"
    }
   ],
   "source": [
    "# Define the TensorFlow Decision Forest model\n",
    "model = tfdf.keras.RandomForestModel(task=tfdf.keras.Task.REGRESSION)\n",
    "\n",
    "# Compile the model\n",
    "model.compile(metrics=[\"mean_squared_error\"])\n",
    "\n",
    "# Fit the model\n",
    "model.fit(train_dataset, epochs=1, validation_data=validation_dataset)"
   ]
  },
  {
   "cell_type": "code",
   "execution_count": 44,
   "metadata": {},
   "outputs": [
    {
     "name": "stdout",
     "output_type": "stream",
     "text": [
      "81120/81120 [==============================] - 325s 4ms/step - loss: 0.0000e+00 - mean_squared_error: 0.3077\n"
     ]
    }
   ],
   "source": [
    "# Evaluate the model on train set\n",
    "results = model.evaluate(train_dataset)"
   ]
  },
  {
   "cell_type": "code",
   "execution_count": 45,
   "metadata": {},
   "outputs": [
    {
     "name": "stdout",
     "output_type": "stream",
     "text": [
      "27040/27040 [==============================] - 110s 4ms/step - loss: 0.0000e+00 - mean_squared_error: 0.3098\n",
      "27040/27040 [==============================] - 108s 4ms/step\n"
     ]
    }
   ],
   "source": [
    "# Evaluate the model on test set\n",
    "results = model.evaluate(test_dataset)\n",
    "\n",
    "# Make predictions\n",
    "predictions = model.predict(test_dataset)"
   ]
  },
  {
   "cell_type": "markdown",
   "metadata": {},
   "source": [
    "__Note:__ It can be seen that the MSE score for the train and test sets is nearly the same with low overfitting, and the MSE score is approximately `0.3098`."
   ]
  },
  {
   "cell_type": "code",
   "execution_count": 46,
   "metadata": {},
   "outputs": [
    {
     "name": "stdout",
     "output_type": "stream",
     "text": [
      "Root Mean Squared Error: 0.5565925761330635\n"
     ]
    }
   ],
   "source": [
    "import numpy as np\n",
    "# Calculate RMSE\n",
    "rmse = np.sqrt(mean_squared_error(y_test, predictions))\n",
    "# Print RMSE\n",
    "print(f'Root Mean Squared Error: {rmse}')"
   ]
  },
  {
   "cell_type": "markdown",
   "metadata": {},
   "source": [
    "#### __Model Architecture__"
   ]
  },
  {
   "cell_type": "markdown",
   "metadata": {},
   "source": [
    "We will try different model architectures to see if they improve the MSE score."
   ]
  },
  {
   "cell_type": "code",
   "execution_count": 47,
   "metadata": {},
   "outputs": [
    {
     "name": "stdout",
     "output_type": "stream",
     "text": [
      "Use /var/folders/sb/nxrzyd0n61192x17k7wcyr4w0000gn/T/tmpjrknm5e5 as temporary training directory\n",
      "Reading training dataset...\n",
      "Training dataset read in 0:00:08.196395. Found 8111999 examples.\n",
      "Reading validation dataset...\n",
      "Num validation examples: tf.Tensor(2704000, shape=(), dtype=int32)\n",
      "Validation dataset read in 0:00:02.734774. Found 2704000 examples.\n",
      "Training model...\n",
      "Model trained in 0:02:46.330383\n",
      "Compiling model...\n"
     ]
    },
    {
     "name": "stderr",
     "output_type": "stream",
     "text": [
      "[INFO 23-11-07 13:30:34.6786 AEDT kernel.cc:1233] Loading model from path /var/folders/sb/nxrzyd0n61192x17k7wcyr4w0000gn/T/tmpjrknm5e5/model/ with prefix f8d44b47c67a4d27\n",
      "[INFO 23-11-07 13:30:34.7878 AEDT decision_forest.cc:660] Model loaded with 100 root(s), 97122 node(s), and 8 input feature(s).\n",
      "[INFO 23-11-07 13:30:34.7878 AEDT abstract_model.cc:1344] Engine \"RandomForestOptPred\" built\n",
      "[INFO 23-11-07 13:30:34.7879 AEDT kernel.cc:1061] Use fast generic engine\n"
     ]
    },
    {
     "name": "stdout",
     "output_type": "stream",
     "text": [
      "Model compiled.\n"
     ]
    },
    {
     "data": {
      "text/plain": [
       "<keras.src.callbacks.History at 0x2a014b970>"
      ]
     },
     "execution_count": 47,
     "metadata": {},
     "output_type": "execute_result"
    }
   ],
   "source": [
    "# Define custom model architecture and hyperparameters\n",
    "model_rf1 = tfdf.keras.RandomForestModel(\n",
    "    task=tfdf.keras.Task.REGRESSION,\n",
    "    num_trees=100,\n",
    "    max_depth=10,     \n",
    ")\n",
    "\n",
    "# Compile the model\n",
    "model_rf1.compile(metrics=[\"mean_squared_error\"])\n",
    "\n",
    "# Train the model\n",
    "model_rf1.fit(train_dataset, epochs=1, validation_data=validation_dataset)"
   ]
  },
  {
   "cell_type": "code",
   "execution_count": 48,
   "metadata": {},
   "outputs": [
    {
     "name": "stdout",
     "output_type": "stream",
     "text": [
      "81120/81120 [==============================] - 55s 680us/step - loss: 0.0000e+00 - mean_squared_error: 0.4261\n"
     ]
    }
   ],
   "source": [
    "# Evaluate the model on train set\n",
    "results1 = model_rf1.evaluate(train_dataset)"
   ]
  },
  {
   "cell_type": "code",
   "execution_count": 49,
   "metadata": {},
   "outputs": [
    {
     "name": "stdout",
     "output_type": "stream",
     "text": [
      "27040/27040 [==============================] - 19s 692us/step - loss: 0.0000e+00 - mean_squared_error: 0.4254\n"
     ]
    }
   ],
   "source": [
    "# Evaluate the model on test set\n",
    "results1 = model_rf1.evaluate(test_dataset)"
   ]
  },
  {
   "cell_type": "markdown",
   "metadata": {},
   "source": [
    "__Note:__ It can be seen that the MSE score with the custom model architecture provides a worse score than the model with default architecture. "
   ]
  },
  {
   "cell_type": "markdown",
   "metadata": {},
   "source": [
    "### [2.2] Gradient Boosted Trees"
   ]
  },
  {
   "cell_type": "code",
   "execution_count": 50,
   "metadata": {},
   "outputs": [
    {
     "name": "stdout",
     "output_type": "stream",
     "text": [
      "Use /var/folders/sb/nxrzyd0n61192x17k7wcyr4w0000gn/T/tmpraxyfcm6 as temporary training directory\n",
      "Reading training dataset...\n"
     ]
    },
    {
     "name": "stderr",
     "output_type": "stream",
     "text": [
      "[WARNING 23-11-07 13:33:51.6759 AEDT gradient_boosted_trees.cc:1830] \"goss_alpha\" set but \"sampling_method\" not equal to \"GOSS\".\n",
      "[WARNING 23-11-07 13:33:51.6778 AEDT gradient_boosted_trees.cc:1841] \"goss_beta\" set but \"sampling_method\" not equal to \"GOSS\".\n",
      "[WARNING 23-11-07 13:33:51.6778 AEDT gradient_boosted_trees.cc:1855] \"selective_gradient_boosting_ratio\" set but \"sampling_method\" not equal to \"SELGB\".\n"
     ]
    },
    {
     "name": "stdout",
     "output_type": "stream",
     "text": [
      "Training dataset read in 0:00:08.047989. Found 8111999 examples.\n",
      "Training model...\n",
      "Model trained in 0:10:01.319621\n",
      "Compiling model...\n",
      "Model compiled.\n"
     ]
    },
    {
     "name": "stderr",
     "output_type": "stream",
     "text": [
      "[INFO 23-11-07 13:44:01.0156 AEDT kernel.cc:1233] Loading model from path /var/folders/sb/nxrzyd0n61192x17k7wcyr4w0000gn/T/tmpraxyfcm6/model/ with prefix ccb819e28b484a1b\n",
      "[INFO 23-11-07 13:44:01.0467 AEDT abstract_model.cc:1344] Engine \"GradientBoostedTreesQuickScorerExtended\" built\n",
      "[INFO 23-11-07 13:44:01.0467 AEDT kernel.cc:1061] Use fast generic engine\n"
     ]
    },
    {
     "data": {
      "text/plain": [
       "<keras.src.callbacks.History at 0x310ab29b0>"
      ]
     },
     "execution_count": 50,
     "metadata": {},
     "output_type": "execute_result"
    }
   ],
   "source": [
    "# Define and train the Gradient Boosted Trees models\n",
    "model_gbdt = tfdf.keras.GradientBoostedTreesModel(task=tfdf.keras.Task.REGRESSION)\n",
    "model_gbdt.compile(metrics=[\"mean_squared_error\"])\n",
    "# fit model\n",
    "model_gbdt.fit(train_dataset)"
   ]
  },
  {
   "cell_type": "code",
   "execution_count": 51,
   "metadata": {},
   "outputs": [
    {
     "name": "stdout",
     "output_type": "stream",
     "text": [
      "81120/81120 [==============================] - 42s 521us/step - loss: 0.0000e+00 - mean_squared_error: 0.3165\n"
     ]
    }
   ],
   "source": [
    "# Evaluate the Gradient Boosted Trees models on training set\n",
    "results_gbdt = model_gbdt.evaluate(train_dataset)"
   ]
  },
  {
   "cell_type": "code",
   "execution_count": 52,
   "metadata": {},
   "outputs": [
    {
     "name": "stdout",
     "output_type": "stream",
     "text": [
      "27040/27040 [==============================] - 14s 512us/step - loss: 0.0000e+00 - mean_squared_error: 0.3160\n"
     ]
    }
   ],
   "source": [
    "# Evaluate the Gradient Boosted Trees models on test set\n",
    "results_gbdt = model_gbdt.evaluate(test_dataset)"
   ]
  },
  {
   "cell_type": "code",
   "execution_count": 54,
   "metadata": {},
   "outputs": [
    {
     "name": "stdout",
     "output_type": "stream",
     "text": [
      "27040/27040 [==============================] - 14s 526us/step\n"
     ]
    }
   ],
   "source": [
    "# Make predictions\n",
    "predictions_gbdt = model_gbdt.predict(test_dataset)"
   ]
  },
  {
   "cell_type": "code",
   "execution_count": 55,
   "metadata": {},
   "outputs": [
    {
     "name": "stdout",
     "output_type": "stream",
     "text": [
      "Root Mean Squared Error: 0.5620956218424686\n"
     ]
    }
   ],
   "source": [
    "import numpy as np\n",
    "# Calculate RMSE\n",
    "rmse = np.sqrt(mean_squared_error(y_test, predictions_gbdt))\n",
    "# Print RMSE\n",
    "print(f'Root Mean Squared Error: {rmse}')"
   ]
  },
  {
   "cell_type": "markdown",
   "metadata": {},
   "source": [
    "__Note:__ We will define the Random Forest model as the best model, as it achieved a slightly better Mean Squared Error (MSE) and Root Mean Squared Error (RMSE) compared to the `Gradient Boosted Trees (GBT) model`. We will use this `Random Forest model` to make predictions on new data in Streamlit."
   ]
  },
  {
   "cell_type": "markdown",
   "metadata": {},
   "source": [
    "## 3. Conclusion"
   ]
  },
  {
   "cell_type": "markdown",
   "metadata": {},
   "source": [
    "### [3.1] save the best model"
   ]
  },
  {
   "cell_type": "markdown",
   "metadata": {},
   "source": [
    "Since the lowest MSE and RMSE are `0.3098` and `0.5565925761330635` respectively, we will save the model, the default Random Forest model, in the 'models' folder."
   ]
  },
  {
   "cell_type": "code",
   "execution_count": 56,
   "metadata": {},
   "outputs": [
    {
     "name": "stdout",
     "output_type": "stream",
     "text": [
      "INFO:tensorflow:Assets written to: ../../models/tfdf_model/assets\n"
     ]
    },
    {
     "name": "stderr",
     "output_type": "stream",
     "text": [
      "INFO:tensorflow:Assets written to: ../../models/tfdf_model/assets\n"
     ]
    }
   ],
   "source": [
    "model.save('../../models/tfdf_model')"
   ]
  },
  {
   "cell_type": "code",
   "execution_count": 60,
   "metadata": {},
   "outputs": [
    {
     "name": "stderr",
     "output_type": "stream",
     "text": [
      "[INFO 23-11-07 13:54:22.5316 AEDT kernel.cc:1233] Loading model from path ../../models/tfdf_model/assets/ with prefix 435059869ffc46f5\n",
      "[INFO 23-11-07 13:54:34.8913 AEDT decision_forest.cc:660] Model loaded with 300 root(s), 7246380 node(s), and 8 input feature(s).\n",
      "[INFO 23-11-07 13:54:34.8916 AEDT abstract_model.cc:1344] Engine \"RandomForestOptPred\" built\n",
      "[INFO 23-11-07 13:54:34.8917 AEDT kernel.cc:1061] Use fast generic engine\n"
     ]
    }
   ],
   "source": [
    "import tensorflow as tf\n",
    "loaded_model = tf.keras.models.load_model(\"../../models/tfdf_model\")"
   ]
  },
  {
   "cell_type": "code",
   "execution_count": 57,
   "metadata": {},
   "outputs": [
    {
     "data": {
      "text/plain": [
       "['../../models/tfdf.joblib']"
      ]
     },
     "execution_count": 57,
     "metadata": {},
     "output_type": "execute_result"
    }
   ],
   "source": [
    "import joblib\n",
    "# Save the object to the file\n",
    "joblib.dump(model, '../../models/tfdf.joblib')"
   ]
  },
  {
   "cell_type": "code",
   "execution_count": 58,
   "metadata": {},
   "outputs": [
    {
     "name": "stdout",
     "output_type": "stream",
     "text": [
      "Use /var/folders/sb/nxrzyd0n61192x17k7wcyr4w0000gn/T/tmpeaglsxyq as temporary training directory\n",
      "WARNING:tensorflow:`compile()` was not called as part of model loading because the model's `compile()` method is custom. All subclassed Models that have `compile()` overridden should also override `get_compile_config()` and `compile_from_config(config)`. Alternatively, you can call `compile()` manually after loading.\n"
     ]
    },
    {
     "name": "stderr",
     "output_type": "stream",
     "text": [
      "WARNING:tensorflow:`compile()` was not called as part of model loading because the model's `compile()` method is custom. All subclassed Models that have `compile()` overridden should also override `get_compile_config()` and `compile_from_config(config)`. Alternatively, you can call `compile()` manually after loading.\n"
     ]
    }
   ],
   "source": [
    "# Load the TensorFlow Decision Forests model\n",
    "tfdf_model = joblib.load('../../models/tfdf.joblib')"
   ]
  },
  {
   "cell_type": "code",
   "execution_count": 61,
   "metadata": {},
   "outputs": [
    {
     "name": "stdout",
     "output_type": "stream",
     "text": [
      "Model: \"random_forest_model_1\"\n",
      "_________________________________________________________________\n",
      " Layer (type)                Output Shape              Param #   \n",
      "=================================================================\n",
      "=================================================================\n",
      "Total params: 1 (1.00 Byte)\n",
      "Trainable params: 0 (0.00 Byte)\n",
      "Non-trainable params: 1 (1.00 Byte)\n",
      "_________________________________________________________________\n",
      "None\n"
     ]
    }
   ],
   "source": [
    "print(loaded_model.summary())"
   ]
  },
  {
   "cell_type": "code",
   "execution_count": 63,
   "metadata": {},
   "outputs": [
    {
     "name": "stdout",
     "output_type": "stream",
     "text": [
      "84500/84500 [==============================] - 125s 1ms/step\n"
     ]
    }
   ],
   "source": [
    "newpredict = loaded_model.predict(X_test)"
   ]
  },
  {
   "cell_type": "code",
   "execution_count": 64,
   "metadata": {},
   "outputs": [
    {
     "name": "stdout",
     "output_type": "stream",
     "text": [
      "Root Mean Squared Error: 0.5565925761330635\n"
     ]
    }
   ],
   "source": [
    "import numpy as np\n",
    "# Calculate RMSE\n",
    "rmse = np.sqrt(mean_squared_error(y_test, newpredict))\n",
    "# Print RMSE\n",
    "print(f'Root Mean Squared Error: {rmse}')"
   ]
  },
  {
   "cell_type": "markdown",
   "metadata": {},
   "source": [
    "__Example for predict__"
   ]
  },
  {
   "cell_type": "code",
   "execution_count": 69,
   "metadata": {},
   "outputs": [
    {
     "name": "stdout",
     "output_type": "stream",
     "text": [
      "1/1 [==============================] - 0s 71ms/step\n",
      "The total fare for your trip with TensorFlow model: $5.70\n"
     ]
    }
   ],
   "source": [
    "# Create input data for prediction (similar to your previous code)\n",
    "input_data = {\n",
    "        'totalTravelDistance': [1569.618],\n",
    "        'isNonStop': [0],\n",
    "        'isBasicEconomy': [1],\n",
    "        'startingAirport': [1],\n",
    "        'destinationAirport': [3],\n",
    "        'segmentsCabinCode': [28],\n",
    "        'flightDate_day': [11],\n",
    "        'flightDate_month': [11],\n",
    "        'flightDate_year': [2023],\n",
    "        'DepartTime_hour': [10],\n",
    "        'DepartTime_minute': [30],\n",
    "        'DepartTime_second': [0],\n",
    "    }\n",
    "\n",
    "# Create a DataFrame with the input data\n",
    "input_df = pd.DataFrame(input_data)\n",
    "\n",
    "# Use the loaded models to make predictions\n",
    "total_fare = loaded_model.predict(input_df)\n",
    "   \n",
    "print(f'The total fare for your trip with TensorFlow model: ${total_fare[0][0]:.2f}')"
   ]
  },
  {
   "cell_type": "markdown",
   "metadata": {},
   "source": [
    "### [3.2] Feature Importance"
   ]
  },
  {
   "cell_type": "code",
   "execution_count": 29,
   "metadata": {},
   "outputs": [],
   "source": [
    "# Get feature importances from trained TF-DF model\n",
    "feature_importances = model.make_inspector().variable_importances()"
   ]
  },
  {
   "cell_type": "code",
   "execution_count": 35,
   "metadata": {},
   "outputs": [
    {
     "name": "stdout",
     "output_type": "stream",
     "text": [
      "Feature: NUM_NODES, Importance: [(\"data:0.0\" (1; #1), 1561994.0), (\"data:0.7\" (1; #11), 1162277.0), (\"data:0.1\" (1; #2), 588198.0), (\"data:0.5\" (1; #9), 297454.0), (\"data:0.8\" (1; #12), 252870.0), (\"data:0.4\" (1; #8), 128530.0), (\"data:0.6\" (1; #10), 51748.0), (\"data:0.2\" (1; #6), 7441.0), (\"data:0.3\" (1; #7), 5040.0)]\n",
      "Feature: INV_MEAN_MIN_DEPTH, Importance: [(\"data:0.1\" (1; #2), 0.6153276550330179), (\"data:0.6\" (1; #10), 0.40275333967392335), (\"data:0.3\" (1; #7), 0.17464396086018844), (\"data:0.8\" (1; #12), 0.10579116166689573), (\"data:0.0\" (1; #1), 0.10132751630984621), (\"data:0.5\" (1; #9), 0.0957802845477692), (\"data:0.7\" (1; #11), 0.0940061788229036), (\"data:0.2\" (1; #6), 0.09389549800383454), (\"data:0.4\" (1; #8), 0.09114631087382391)]\n",
      "Feature: SUM_SCORE, Importance: [(\"data:0.1\" (1; #2), 815167578.0873041), (\"data:0.6\" (1; #10), 360927580.47942644), (\"data:0.5\" (1; #9), 98801333.71974559), (\"data:0.3\" (1; #7), 78518994.37775637), (\"data:0.0\" (1; #1), 68651896.25650981), (\"data:0.4\" (1; #8), 60640143.82438532), (\"data:0.2\" (1; #6), 60147678.76318381), (\"data:0.7\" (1; #11), 52095140.22561256), (\"data:0.8\" (1; #12), 39995380.76824383)]\n",
      "Feature: NUM_AS_ROOT, Importance: [(\"data:0.1\" (1; #2), 194.0), (\"data:0.6\" (1; #10), 79.0), (\"data:0.2\" (1; #6), 24.0), (\"data:0.3\" (1; #7), 3.0)]\n"
     ]
    }
   ],
   "source": [
    "for feature_name, importance_score in feature_importances.items():\n",
    "    print(f'Feature: {feature_name}, Importance: {importance_score}')\n"
   ]
  },
  {
   "cell_type": "markdown",
   "metadata": {},
   "source": [
    "### [3.3] Model Prediction Comparisons"
   ]
  },
  {
   "cell_type": "code",
   "execution_count": 38,
   "metadata": {},
   "outputs": [
    {
     "data": {
      "image/png": "[encoded data removed]",
      "text/plain": [
       "<Figure size 1000x600 with 1 Axes>"
      ]
     },
     "metadata": {},
     "output_type": "display_data"
    }
   ],
   "source": [
    "import seaborn as sns\n",
    "import matplotlib.pyplot as plt\n",
    "\n",
    "# Assuming you have actual test labels (y_test) and predictions (predictions)\n",
    "y_test = y_test.ravel()  # Ensure y_test is 1D\n",
    "predictions = predictions.ravel()  # Ensure predictions are 1D\n",
    "\n",
    "plt.figure(figsize=(10, 6))\n",
    "sns.scatterplot(x=y_test, y=predictions, palette='pastel')\n",
    "plt.xlabel('Actual Values')\n",
    "plt.ylabel('Predicted Values')\n",
    "plt.title('Actual vs. Predicted Values')\n",
    "plt.show()\n",
    "\n"
   ]
  },
  {
   "cell_type": "markdown",
   "metadata": {},
   "source": [
    "## Reference\n",
    "\n",
    "Anthony So. (2023). _36120_AdvMLA_Lab6_Exercise1_Solutions.ipynb_. Google Colab. https://colab.research.google.com/drive/1BD81KJ1ixR1Z-cE1GYJ3RFydkJzy3ZWY?authuser=1#scrollTo=Goi9jTI_B1KE\n",
    "\n",
    "TensorFlow Decision Forests. (2023). _TensorFlow Decision Forests API documentation_. TensorFlow. https://www.tensorflow.org/decision_forests/api_docs/python/tfdf"
   ]
  }
 ],
 "metadata": {
  "kernelspec": {
   "display_name": "Python 3",
   "language": "python",
   "name": "python3"
  },
  "language_info": {
   "codemirror_mode": {
    "name": "ipython",
    "version": 3
   },
   "file_extension": ".py",
   "mimetype": "text/x-python",
   "name": "python",
   "nbconvert_exporter": "python",
   "pygments_lexer": "ipython3",
   "version": "3.10.5"
  },
  "orig_nbformat": 4
 },
 "nbformat": 4,
 "nbformat_minor": 2
}
