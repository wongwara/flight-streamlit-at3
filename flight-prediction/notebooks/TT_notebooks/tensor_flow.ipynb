{
 "cells": [
  {
   "cell_type": "markdown",
   "metadata": {},
   "source": [
    "#  TensorFlow's Decision Forests (TF-DF) algorithm\n",
    "\n",
    "Author: __Thirada Tiamklang 14337188__\n",
    "\n",
    "        AT3 - Data Product with Machine \n",
    "        \n",
    "__Table of contents__\n",
    "1. Load dataset\n",
    "2. Train TensorFlow's Decision Forests (TF-DF) algorithm:\n",
    "\n",
    "        2.1 Decision Forests model\n",
    "        2.2 Random forest model\n",
    "        2.3 Gradient Boosted Trees"
   ]
  },
  {
   "cell_type": "markdown",
   "metadata": {},
   "source": [
    "## 1. Load Dataset"
   ]
  },
  {
   "cell_type": "code",
   "execution_count": 1,
   "metadata": {},
   "outputs": [],
   "source": [
    "import warnings\n",
    "# Ignore all warnings\n",
    "warnings.filterwarnings(\"ignore\")"
   ]
  },
  {
   "cell_type": "code",
   "execution_count": 2,
   "metadata": {},
   "outputs": [
    {
     "name": "stdout",
     "output_type": "stream",
     "text": [
      "['/Users/thiradatiamklang/Desktop/flight-streamlit-at3/flight-prediction/notebooks/TT_notebooks', '/Library/Frameworks/Python.framework/Versions/3.10/lib/python310.zip', '/Library/Frameworks/Python.framework/Versions/3.10/lib/python3.10', '/Library/Frameworks/Python.framework/Versions/3.10/lib/python3.10/lib-dynload', '', '/Library/Frameworks/Python.framework/Versions/3.10/lib/python3.10/site-packages']\n"
     ]
    }
   ],
   "source": [
    "import sys\n",
    "print(sys.path)"
   ]
  },
  {
   "cell_type": "code",
   "execution_count": 3,
   "metadata": {},
   "outputs": [],
   "source": [
    "import sys\n",
    "sys.path.append('../../src')\n"
   ]
  },
  {
   "cell_type": "code",
   "execution_count": 4,
   "metadata": {},
   "outputs": [],
   "source": [
    "from data.make_dataset import load_sets\n",
    "X_train, y_train, X_val, y_val, X_test, y_test = load_sets(path='../../data/processed/')"
   ]
  },
  {
   "cell_type": "code",
   "execution_count": 5,
   "metadata": {},
   "outputs": [],
   "source": [
    "import pandas as pd\n",
    "# Read a Feather file\n",
    "df = pd.read_feather('../../data/processed/df_cleaned_select_cols.feather')"
   ]
  },
  {
   "cell_type": "code",
   "execution_count": 6,
   "metadata": {},
   "outputs": [],
   "source": [
    "from data.make_dataset import pop_target\n",
    "features, target = pop_target(df, 'totalFare')"
   ]
  },
  {
   "cell_type": "code",
   "execution_count": 7,
   "metadata": {},
   "outputs": [
    {
     "data": {
      "text/plain": [
       "array([-0.31391783, -0.50182474, -1.22936172, ..., -0.89209292,\n",
       "        1.17970114, -0.04892092])"
      ]
     },
     "execution_count": 7,
     "metadata": {},
     "output_type": "execute_result"
    }
   ],
   "source": [
    "y_train"
   ]
  },
  {
   "cell_type": "code",
   "execution_count": 8,
   "metadata": {},
   "outputs": [
    {
     "data": {
      "text/plain": [
       "array([[ 1.07916650e+07, -9.95738027e-01,  1.00000000e+00, ...,\n",
       "         0.00000000e+00,  0.00000000e+00,  0.00000000e+00],\n",
       "       [ 8.53247500e+06, -7.88605694e-01,  1.00000000e+00, ...,\n",
       "         0.00000000e+00,  0.00000000e+00,  0.00000000e+00],\n",
       "       [ 1.91918400e+06, -5.74075777e-01,  1.00000000e+00, ...,\n",
       "         0.00000000e+00,  0.00000000e+00,  0.00000000e+00],\n",
       "       ...,\n",
       "       [ 1.18766450e+07, -4.60646166e-01,  0.00000000e+00, ...,\n",
       "         0.00000000e+00,  0.00000000e+00,  0.00000000e+00],\n",
       "       [ 1.16629820e+07,  4.85011571e-01,  0.00000000e+00, ...,\n",
       "         0.00000000e+00,  0.00000000e+00,  0.00000000e+00],\n",
       "       [ 1.58366700e+06,  1.26422368e+00,  0.00000000e+00, ...,\n",
       "         0.00000000e+00,  0.00000000e+00,  0.00000000e+00]])"
      ]
     },
     "execution_count": 8,
     "metadata": {},
     "output_type": "execute_result"
    }
   ],
   "source": [
    "X_train"
   ]
  },
  {
   "cell_type": "markdown",
   "metadata": {},
   "source": [
    "## 2. Train TensorFlow's Decision Forests (TF-DF)"
   ]
  },
  {
   "cell_type": "code",
   "execution_count": 11,
   "metadata": {},
   "outputs": [],
   "source": [
    "import tensorflow_decision_forests as tfdf\n",
    "import tensorflow as tf\n",
    "from sklearn.metrics import mean_squared_error\n",
    "\n",
    "# Convert data to tf.data.Datasets\n",
    "batch_size = 100\n",
    "\n",
    "# Assuming X_train, y_train, X_val, y_val, X_test, and y_test are NumPy arrays or tensors\n",
    "train_dataset = tf.data.Dataset.from_tensor_slices((X_train, y_train))\n",
    "train_dataset = train_dataset.batch(batch_size)\n",
    "\n",
    "validation_dataset = tf.data.Dataset.from_tensor_slices((X_val, y_val))\n",
    "validation_dataset = validation_dataset.batch(batch_size)\n",
    "\n",
    "test_dataset = tf.data.Dataset.from_tensor_slices((X_test, y_test))\n",
    "test_dataset = test_dataset.batch(batch_size)\n"
   ]
  },
  {
   "cell_type": "markdown",
   "metadata": {},
   "source": [
    "### 2.1 TensorFlow Decision Forests (TF-DF) models"
   ]
  },
  {
   "cell_type": "code",
   "execution_count": 12,
   "metadata": {},
   "outputs": [
    {
     "name": "stdout",
     "output_type": "stream",
     "text": [
      "Use /var/folders/sb/nxrzyd0n61192x17k7wcyr4w0000gn/T/tmpxovdtnoa as temporary training directory\n",
      "Reading training dataset...\n",
      "Training dataset read in 0:00:09.935749. Found 8111999 examples.\n",
      "Reading validation dataset...\n",
      "Num validation examples: tf.Tensor(2704000, shape=(), dtype=int32)\n",
      "Validation dataset read in 0:00:03.033918. Found 2704000 examples.\n",
      "Training model...\n"
     ]
    },
    {
     "name": "stderr",
     "output_type": "stream",
     "text": [
      "[INFO 23-11-05 17:15:41.5144 AEDT kernel.cc:1233] Loading model from path /var/folders/sb/nxrzyd0n61192x17k7wcyr4w0000gn/T/tmpxovdtnoa/model/ with prefix 50bb42066cbe42f4\n",
      "[INFO 23-11-05 17:15:50.2774 AEDT decision_forest.cc:660] Model loaded with 300 root(s), 8111404 node(s), and 9 input feature(s).\n",
      "[INFO 23-11-05 17:15:50.2775 AEDT abstract_model.cc:1344] Engine \"RandomForestOptPred\" built\n",
      "[INFO 23-11-05 17:15:50.2775 AEDT kernel.cc:1061] Use fast generic engine\n"
     ]
    },
    {
     "name": "stdout",
     "output_type": "stream",
     "text": [
      "Model trained in 0:25:41.002621\n",
      "Compiling model...\n",
      "Model compiled.\n"
     ]
    },
    {
     "data": {
      "text/plain": [
       "<keras.src.callbacks.History at 0x178b63df0>"
      ]
     },
     "execution_count": 12,
     "metadata": {},
     "output_type": "execute_result"
    }
   ],
   "source": [
    "# Define the TensorFlow Decision Forest model\n",
    "model = tfdf.keras.RandomForestModel(task=tfdf.keras.Task.REGRESSION)\n",
    "\n",
    "# Compile the model\n",
    "model.compile(metrics=[\"mean_squared_error\"])\n",
    "\n",
    "# Fit the model\n",
    "model.fit(train_dataset, epochs=1, validation_data=validation_dataset)"
   ]
  },
  {
   "cell_type": "code",
   "execution_count": 16,
   "metadata": {},
   "outputs": [
    {
     "name": "stdout",
     "output_type": "stream",
     "text": [
      "81120/81120 [==============================] - 312s 4ms/step - loss: 0.0000e+00 - mean_squared_error: 0.3042\n"
     ]
    }
   ],
   "source": [
    "# Evaluate the model on train set\n",
    "results = model.evaluate(train_dataset)"
   ]
  },
  {
   "cell_type": "code",
   "execution_count": 15,
   "metadata": {},
   "outputs": [
    {
     "name": "stdout",
     "output_type": "stream",
     "text": [
      "27040/27040 [==============================] - 104s 4ms/step - loss: 0.0000e+00 - mean_squared_error: 0.3072\n",
      "Mean Squared Error: 0.0\n",
      "27040/27040 [==============================] - 105s 4ms/step\n"
     ]
    }
   ],
   "source": [
    "# Evaluate the model on test set\n",
    "results = model.evaluate(test_dataset)\n",
    "\n",
    "# Print evaluation results\n",
    "mse = results[0]\n",
    "print(f'Mean Squared Error: {mse}')\n",
    "\n",
    "# Make predictions\n",
    "predictions = model.predict(test_dataset)"
   ]
  },
  {
   "cell_type": "markdown",
   "metadata": {},
   "source": [
    "__Note:__ It can be seen that the MSE score for the train and test sets is nearly the same with low overfitting, and the MSE score is approximately `0.3072`."
   ]
  },
  {
   "cell_type": "code",
   "execution_count": null,
   "metadata": {},
   "outputs": [],
   "source": [
    "import tensorflow_decision_forests as tfdf\n",
    "import tensorflow as tf\n",
    "\n",
    "# Define and train the Random Forest models\n",
    "model_rf1 = tfdf.keras.RandomForestModel(task=task)\n",
    "model_rf2 = tfdf.keras.RandomForestModel(\n",
    "    task=task, num_trees=100, max_depth=10, split_axis=\"SPF_OHE\"\n",
    ")\n",
    "\n",
    "model_rf1.fit(train_input)\n",
    "model_rf2.fit(train_input)\n",
    "\n",
    "# Evaluate the Random Forest models\n",
    "results_rf1 = model_rf1.evaluate(test_input)\n",
    "results_rf2 = model_rf2.evaluate(test_input)\n",
    "\n",
    "# Print evaluation results for Random Forest\n",
    "print(\"Random Forest Model 1 Evaluation:\")\n",
    "print(results_rf1)\n",
    "print(\"Random Forest Model 2 Evaluation:\")\n",
    "print(results_rf2)\n",
    "\n",
    "# Define and train the Gradient Boosted Trees models\n",
    "model_gbdt1 = tfdf.keras.GradientBoostedTreesModel(task=task)\n",
    "model_gbdt2 = tfdf.keras.GradientBoostedTreesModel(\n",
    "    task=task, num_trees=100, growing_strategy=\"BEST_FIRST_GLOBAL\"\n",
    ")\n",
    "\n",
    "model_gbdt1.fit(train_input)\n",
    "model_gbdt2.fit(train_input)\n",
    "\n",
    "# Evaluate the Gradient Boosted Trees models\n",
    "results_gbdt1 = model_gbdt1.evaluate(test_input)\n",
    "results_gbdt2 = model_gbdt2.evaluate(test_input)\n",
    "\n",
    "# Print evaluation results for Gradient Boosted Trees\n",
    "print(\"Gradient Boosted Trees Model 1 Evaluation:\")\n",
    "print(results_gbdt1)\n",
    "print(\"Gradient Boosted Trees Model 2 Evaluation:\")\n",
    "print(results_gbdt2)\n"
   ]
  },
  {
   "cell_type": "markdown",
   "metadata": {},
   "source": [
    "### 2.3 Gradient Boosted Trees"
   ]
  },
  {
   "cell_type": "code",
   "execution_count": null,
   "metadata": {},
   "outputs": [],
   "source": []
  }
 ],
 "metadata": {
  "kernelspec": {
   "display_name": "Python 3",
   "language": "python",
   "name": "python3"
  },
  "language_info": {
   "codemirror_mode": {
    "name": "ipython",
    "version": 3
   },
   "file_extension": ".py",
   "mimetype": "text/x-python",
   "name": "python",
   "nbconvert_exporter": "python",
   "pygments_lexer": "ipython3",
   "version": "3.10.5"
  },
  "orig_nbformat": 4
 },
 "nbformat": 4,
 "nbformat_minor": 2
}
