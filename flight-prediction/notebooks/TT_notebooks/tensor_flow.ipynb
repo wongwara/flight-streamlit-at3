{
 "cells": [
  {
   "cell_type": "markdown",
   "metadata": {},
   "source": [
    "#  TensorFlow's Decision Forests (TF-DF) algorithm\n",
    "\n",
    "Author: __Thirada Tiamklang 14337188__\n",
    "\n",
    "        AT3 - Data Product with Machine \n",
    "        \n",
    "__Table of contents__\n",
    "1. Load dataset\n",
    "2. Train TensorFlow's Decision Forests (TF-DF) algorithm:\n",
    "        2.1 Random forest model\n",
    "        2.2 Gradient Boosted Trees\n",
    "3. Reference"
   ]
  },
  {
   "cell_type": "markdown",
   "metadata": {},
   "source": [
    "## 1. Load Dataset"
   ]
  },
  {
   "cell_type": "code",
   "execution_count": 1,
   "metadata": {},
   "outputs": [],
   "source": [
    "import warnings\n",
    "# Ignore all warnings\n",
    "warnings.filterwarnings(\"ignore\")"
   ]
  },
  {
   "cell_type": "code",
   "execution_count": 2,
   "metadata": {},
   "outputs": [
    {
     "name": "stdout",
     "output_type": "stream",
     "text": [
      "['/Users/thiradatiamklang/Desktop/flight-streamlit-at3/flight-prediction/notebooks/TT_notebooks', '/Library/Frameworks/Python.framework/Versions/3.10/lib/python310.zip', '/Library/Frameworks/Python.framework/Versions/3.10/lib/python3.10', '/Library/Frameworks/Python.framework/Versions/3.10/lib/python3.10/lib-dynload', '', '/Library/Frameworks/Python.framework/Versions/3.10/lib/python3.10/site-packages']\n"
     ]
    }
   ],
   "source": [
    "import sys\n",
    "print(sys.path)"
   ]
  },
  {
   "cell_type": "code",
   "execution_count": 3,
   "metadata": {},
   "outputs": [],
   "source": [
    "import sys\n",
    "sys.path.append('../../src')\n"
   ]
  },
  {
   "cell_type": "code",
   "execution_count": 4,
   "metadata": {},
   "outputs": [],
   "source": [
    "from data.make_dataset import load_sets\n",
    "X_train, y_train, X_val, y_val, X_test, y_test = load_sets(path='../../data/processed/')"
   ]
  },
  {
   "cell_type": "code",
   "execution_count": 5,
   "metadata": {},
   "outputs": [],
   "source": [
    "import pandas as pd\n",
    "# Read a Feather file\n",
    "df = pd.read_feather('../../data/processed/df_cleaned_select_cols.feather')"
   ]
  },
  {
   "cell_type": "code",
   "execution_count": 6,
   "metadata": {},
   "outputs": [],
   "source": [
    "from data.make_dataset import pop_target\n",
    "features, target = pop_target(df, 'totalFare')"
   ]
  },
  {
   "cell_type": "code",
   "execution_count": 7,
   "metadata": {},
   "outputs": [
    {
     "data": {
      "text/plain": [
       "array([-0.31391783, -0.50182474, -1.22936172, ..., -0.89209292,\n",
       "        1.17970114, -0.04892092])"
      ]
     },
     "execution_count": 7,
     "metadata": {},
     "output_type": "execute_result"
    }
   ],
   "source": [
    "y_train"
   ]
  },
  {
   "cell_type": "code",
   "execution_count": 8,
   "metadata": {},
   "outputs": [
    {
     "data": {
      "text/plain": [
       "array([[ 1.07916650e+07, -9.95738027e-01,  1.00000000e+00, ...,\n",
       "         0.00000000e+00,  0.00000000e+00,  0.00000000e+00],\n",
       "       [ 8.53247500e+06, -7.88605694e-01,  1.00000000e+00, ...,\n",
       "         0.00000000e+00,  0.00000000e+00,  0.00000000e+00],\n",
       "       [ 1.91918400e+06, -5.74075777e-01,  1.00000000e+00, ...,\n",
       "         0.00000000e+00,  0.00000000e+00,  0.00000000e+00],\n",
       "       ...,\n",
       "       [ 1.18766450e+07, -4.60646166e-01,  0.00000000e+00, ...,\n",
       "         0.00000000e+00,  0.00000000e+00,  0.00000000e+00],\n",
       "       [ 1.16629820e+07,  4.85011571e-01,  0.00000000e+00, ...,\n",
       "         0.00000000e+00,  0.00000000e+00,  0.00000000e+00],\n",
       "       [ 1.58366700e+06,  1.26422368e+00,  0.00000000e+00, ...,\n",
       "         0.00000000e+00,  0.00000000e+00,  0.00000000e+00]])"
      ]
     },
     "execution_count": 8,
     "metadata": {},
     "output_type": "execute_result"
    }
   ],
   "source": [
    "X_train"
   ]
  },
  {
   "cell_type": "markdown",
   "metadata": {},
   "source": [
    "## 2. Train TensorFlow's Decision Forests (TF-DF)"
   ]
  },
  {
   "cell_type": "code",
   "execution_count": 11,
   "metadata": {},
   "outputs": [],
   "source": [
    "import tensorflow_decision_forests as tfdf\n",
    "import tensorflow as tf\n",
    "from sklearn.metrics import mean_squared_error\n",
    "\n",
    "# Convert data to tf.data.Datasets\n",
    "batch_size = 100\n",
    "\n",
    "# Assuming X_train, y_train, X_val, y_val, X_test, and y_test are NumPy arrays or tensors\n",
    "train_dataset = tf.data.Dataset.from_tensor_slices((X_train, y_train))\n",
    "train_dataset = train_dataset.batch(batch_size)\n",
    "\n",
    "validation_dataset = tf.data.Dataset.from_tensor_slices((X_val, y_val))\n",
    "validation_dataset = validation_dataset.batch(batch_size)\n",
    "\n",
    "test_dataset = tf.data.Dataset.from_tensor_slices((X_test, y_test))\n",
    "test_dataset = test_dataset.batch(batch_size)\n"
   ]
  },
  {
   "cell_type": "markdown",
   "metadata": {},
   "source": [
    "### 2.1 Train Random Forest models"
   ]
  },
  {
   "cell_type": "code",
   "execution_count": 12,
   "metadata": {},
   "outputs": [
    {
     "name": "stdout",
     "output_type": "stream",
     "text": [
      "Use /var/folders/sb/nxrzyd0n61192x17k7wcyr4w0000gn/T/tmpxovdtnoa as temporary training directory\n",
      "Reading training dataset...\n",
      "Training dataset read in 0:00:09.935749. Found 8111999 examples.\n",
      "Reading validation dataset...\n",
      "Num validation examples: tf.Tensor(2704000, shape=(), dtype=int32)\n",
      "Validation dataset read in 0:00:03.033918. Found 2704000 examples.\n",
      "Training model...\n"
     ]
    },
    {
     "name": "stderr",
     "output_type": "stream",
     "text": [
      "[INFO 23-11-05 17:15:41.5144 AEDT kernel.cc:1233] Loading model from path /var/folders/sb/nxrzyd0n61192x17k7wcyr4w0000gn/T/tmpxovdtnoa/model/ with prefix 50bb42066cbe42f4\n",
      "[INFO 23-11-05 17:15:50.2774 AEDT decision_forest.cc:660] Model loaded with 300 root(s), 8111404 node(s), and 9 input feature(s).\n",
      "[INFO 23-11-05 17:15:50.2775 AEDT abstract_model.cc:1344] Engine \"RandomForestOptPred\" built\n",
      "[INFO 23-11-05 17:15:50.2775 AEDT kernel.cc:1061] Use fast generic engine\n"
     ]
    },
    {
     "name": "stdout",
     "output_type": "stream",
     "text": [
      "Model trained in 0:25:41.002621\n",
      "Compiling model...\n",
      "Model compiled.\n"
     ]
    },
    {
     "data": {
      "text/plain": [
       "<keras.src.callbacks.History at 0x178b63df0>"
      ]
     },
     "execution_count": 12,
     "metadata": {},
     "output_type": "execute_result"
    }
   ],
   "source": [
    "# Define the TensorFlow Decision Forest model\n",
    "model = tfdf.keras.RandomForestModel(task=tfdf.keras.Task.REGRESSION)\n",
    "\n",
    "# Compile the model\n",
    "model.compile(metrics=[\"mean_squared_error\"])\n",
    "\n",
    "# Fit the model\n",
    "model.fit(train_dataset, epochs=1, validation_data=validation_dataset)"
   ]
  },
  {
   "cell_type": "code",
   "execution_count": 16,
   "metadata": {},
   "outputs": [
    {
     "name": "stdout",
     "output_type": "stream",
     "text": [
      "81120/81120 [==============================] - 312s 4ms/step - loss: 0.0000e+00 - mean_squared_error: 0.3042\n"
     ]
    }
   ],
   "source": [
    "# Evaluate the model on train set\n",
    "results = model.evaluate(train_dataset)"
   ]
  },
  {
   "cell_type": "code",
   "execution_count": 15,
   "metadata": {},
   "outputs": [
    {
     "name": "stdout",
     "output_type": "stream",
     "text": [
      "27040/27040 [==============================] - 104s 4ms/step - loss: 0.0000e+00 - mean_squared_error: 0.3072\n",
      "Mean Squared Error: 0.0\n",
      "27040/27040 [==============================] - 105s 4ms/step\n"
     ]
    }
   ],
   "source": [
    "# Evaluate the model on test set\n",
    "results = model.evaluate(test_dataset)\n",
    "\n",
    "# Print evaluation results\n",
    "mse = results[0]\n",
    "print(f'Mean Squared Error: {mse}')\n",
    "\n",
    "# Make predictions\n",
    "predictions = model.predict(test_dataset)"
   ]
  },
  {
   "cell_type": "markdown",
   "metadata": {},
   "source": [
    "__Note:__ It can be seen that the MSE score for the train and test sets is nearly the same with low overfitting, and the MSE score is approximately `0.3072`."
   ]
  },
  {
   "cell_type": "markdown",
   "metadata": {},
   "source": [
    "#### Model Architecture"
   ]
  },
  {
   "cell_type": "code",
   "execution_count": 22,
   "metadata": {},
   "outputs": [
    {
     "name": "stdout",
     "output_type": "stream",
     "text": [
      "Use /var/folders/sb/nxrzyd0n61192x17k7wcyr4w0000gn/T/tmpc_884n_k as temporary training directory\n",
      "Reading training dataset...\n",
      "Training dataset read in 0:00:08.813471. Found 8111999 examples.\n",
      "Reading validation dataset...\n",
      "Num validation examples: tf.Tensor(2704000, shape=(), dtype=int32)\n",
      "Validation dataset read in 0:00:02.932822. Found 2704000 examples.\n",
      "Training model...\n",
      "Model trained in 0:03:54.328372\n",
      "Compiling model...\n"
     ]
    },
    {
     "name": "stderr",
     "output_type": "stream",
     "text": [
      "[INFO 23-11-05 18:12:55.3693 AEDT kernel.cc:1233] Loading model from path /var/folders/sb/nxrzyd0n61192x17k7wcyr4w0000gn/T/tmpc_884n_k/model/ with prefix f4e04b1c040b4de2\n",
      "[INFO 23-11-05 18:12:55.4977 AEDT decision_forest.cc:660] Model loaded with 100 root(s), 96978 node(s), and 9 input feature(s).\n",
      "[INFO 23-11-05 18:12:55.4977 AEDT abstract_model.cc:1344] Engine \"RandomForestOptPred\" built\n",
      "[INFO 23-11-05 18:12:55.4977 AEDT kernel.cc:1061] Use fast generic engine\n"
     ]
    },
    {
     "name": "stdout",
     "output_type": "stream",
     "text": [
      "Model compiled.\n"
     ]
    },
    {
     "data": {
      "text/plain": [
       "<keras.src.callbacks.History at 0x3c76833d0>"
      ]
     },
     "execution_count": 22,
     "metadata": {},
     "output_type": "execute_result"
    }
   ],
   "source": [
    "# Define custom model architecture and hyperparameters\n",
    "model_rf1 = tfdf.keras.RandomForestModel(\n",
    "    task=tfdf.keras.Task.REGRESSION,\n",
    "    num_trees=100,\n",
    "    max_depth=10,     \n",
    ")\n",
    "\n",
    "# Compile the model\n",
    "model_rf1.compile(metrics=[\"mean_squared_error\"])\n",
    "\n",
    "# Train the model\n",
    "model_rf1.fit(train_dataset, epochs=1, validation_data=validation_dataset)"
   ]
  },
  {
   "cell_type": "code",
   "execution_count": 30,
   "metadata": {},
   "outputs": [
    {
     "name": "stdout",
     "output_type": "stream",
     "text": [
      "81120/81120 [==============================] - 55s 683us/step - loss: 0.0000e+00 - mean_squared_error: 0.4240\n"
     ]
    }
   ],
   "source": [
    "# Evaluate the model on train set\n",
    "results1 = model_rf1.evaluate(train_dataset)"
   ]
  },
  {
   "cell_type": "code",
   "execution_count": 29,
   "metadata": {},
   "outputs": [
    {
     "name": "stdout",
     "output_type": "stream",
     "text": [
      "27040/27040 [==============================] - 18s 676us/step - loss: 0.0000e+00 - mean_squared_error: 0.4233\n"
     ]
    }
   ],
   "source": [
    "# Evaluate the model on test set\n",
    "results1 = model_rf1.evaluate(test_dataset)"
   ]
  },
  {
   "cell_type": "markdown",
   "metadata": {},
   "source": [
    "__Note:__ It can be seen that the MSE score with the custom model architecture provides a worse score than the model with default architecture. "
   ]
  },
  {
   "cell_type": "markdown",
   "metadata": {},
   "source": [
    "### 2.2 Gradient Boosted Trees"
   ]
  },
  {
   "cell_type": "code",
   "execution_count": 26,
   "metadata": {},
   "outputs": [
    {
     "name": "stdout",
     "output_type": "stream",
     "text": [
      "Use /var/folders/sb/nxrzyd0n61192x17k7wcyr4w0000gn/T/tmp3z5s4ykg as temporary training directory\n",
      "Reading training dataset...\n"
     ]
    },
    {
     "name": "stderr",
     "output_type": "stream",
     "text": [
      "[WARNING 23-11-05 18:31:16.5872 AEDT gradient_boosted_trees.cc:1830] \"goss_alpha\" set but \"sampling_method\" not equal to \"GOSS\".\n",
      "[WARNING 23-11-05 18:31:16.5877 AEDT gradient_boosted_trees.cc:1841] \"goss_beta\" set but \"sampling_method\" not equal to \"GOSS\".\n",
      "[WARNING 23-11-05 18:31:16.5878 AEDT gradient_boosted_trees.cc:1855] \"selective_gradient_boosting_ratio\" set but \"sampling_method\" not equal to \"SELGB\".\n"
     ]
    },
    {
     "name": "stdout",
     "output_type": "stream",
     "text": [
      "Training dataset read in 0:00:08.345027. Found 8111999 examples.\n",
      "Training model...\n",
      "Model trained in 0:17:41.473159\n",
      "Compiling model...\n"
     ]
    },
    {
     "name": "stderr",
     "output_type": "stream",
     "text": [
      "[INFO 23-11-05 18:49:06.3711 AEDT kernel.cc:1233] Loading model from path /var/folders/sb/nxrzyd0n61192x17k7wcyr4w0000gn/T/tmp3z5s4ykg/model/ with prefix 15e13e94eeaa4a9f\n",
      "[INFO 23-11-05 18:49:06.4063 AEDT abstract_model.cc:1344] Engine \"GradientBoostedTreesQuickScorerExtended\" built\n",
      "[INFO 23-11-05 18:49:06.4063 AEDT kernel.cc:1061] Use fast generic engine\n"
     ]
    },
    {
     "name": "stdout",
     "output_type": "stream",
     "text": [
      "Model compiled.\n"
     ]
    },
    {
     "data": {
      "text/plain": [
       "<keras.src.callbacks.History at 0x3c7fa1e40>"
      ]
     },
     "execution_count": 26,
     "metadata": {},
     "output_type": "execute_result"
    }
   ],
   "source": [
    "# Define and train the Gradient Boosted Trees models\n",
    "model_gbdt = tfdf.keras.GradientBoostedTreesModel(task=tfdf.keras.Task.REGRESSION)\n",
    "model_gbdt.compile(metrics=[\"mean_squared_error\"])\n",
    "# fit model\n",
    "model_gbdt.fit(train_dataset)"
   ]
  },
  {
   "cell_type": "code",
   "execution_count": 28,
   "metadata": {},
   "outputs": [
    {
     "name": "stdout",
     "output_type": "stream",
     "text": [
      "81120/81120 [==============================] - 44s 540us/step - loss: 0.0000e+00 - mean_squared_error: 0.3125\n"
     ]
    }
   ],
   "source": [
    "# Evaluate the Gradient Boosted Trees models on training set\n",
    "results_gbdt = model_gbdt.evaluate(train_dataset)"
   ]
  },
  {
   "cell_type": "code",
   "execution_count": 27,
   "metadata": {},
   "outputs": [
    {
     "name": "stdout",
     "output_type": "stream",
     "text": [
      "27040/27040 [==============================] - 15s 537us/step - loss: 0.0000e+00 - mean_squared_error: 0.3121\n"
     ]
    }
   ],
   "source": [
    "# Evaluate the Gradient Boosted Trees models on test set\n",
    "results_gbdt = model_gbdt.evaluate(test_dataset)"
   ]
  },
  {
   "cell_type": "markdown",
   "metadata": {},
   "source": [
    "__Note:__ We will define the Random Forest model as the best model, as it achieved a slightly better Mean Squared Error (MSE) compared to the `Gradient Boosted Trees (GBT) model`. We will use this `Random Forest model` to make predictions on new data in Streamlit."
   ]
  },
  {
   "cell_type": "markdown",
   "metadata": {},
   "source": [
    "__save the best model__"
   ]
  },
  {
   "cell_type": "code",
   "execution_count": 31,
   "metadata": {},
   "outputs": [
    {
     "data": {
      "text/plain": [
       "['../../models/tfdf.joblib']"
      ]
     },
     "execution_count": 31,
     "metadata": {},
     "output_type": "execute_result"
    }
   ],
   "source": [
    "import joblib\n",
    "# Replace 'model.joblib' with your desired filename\n",
    "joblib.dump(model, '../../models/tfdf.joblib')"
   ]
  },
  {
   "cell_type": "markdown",
   "metadata": {},
   "source": [
    "## Reference\n",
    "\n",
    "Anthony So. (2023). _36120_AdvMLA_Lab6_Exercise1_Solutions.ipynb_. Google Colab. https://colab.research.google.com/drive/1BD81KJ1ixR1Z-cE1GYJ3RFydkJzy3ZWY?authuser=1#scrollTo=Goi9jTI_B1KE\n",
    "\n",
    "TensorFlow Decision Forests. (2023). _TensorFlow Decision Forests API documentation_. TensorFlow. https://www.tensorflow.org/decision_forests/api_docs/python/tfdf"
   ]
  }
 ],
 "metadata": {
  "kernelspec": {
   "display_name": "Python 3",
   "language": "python",
   "name": "python3"
  },
  "language_info": {
   "codemirror_mode": {
    "name": "ipython",
    "version": 3
   },
   "file_extension": ".py",
   "mimetype": "text/x-python",
   "name": "python",
   "nbconvert_exporter": "python",
   "pygments_lexer": "ipython3",
   "version": "3.10.5"
  },
  "orig_nbformat": 4
 },
 "nbformat": 4,
 "nbformat_minor": 2
}
