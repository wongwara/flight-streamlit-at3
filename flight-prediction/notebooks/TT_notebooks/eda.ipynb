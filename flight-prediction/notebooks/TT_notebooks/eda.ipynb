{
 "cells": [
  {
   "cell_type": "markdown",
   "metadata": {},
   "source": [
    "### Adding longtitude and latitude for mapping on Tableau"
   ]
  },
  {
   "cell_type": "code",
   "execution_count": 1,
   "metadata": {},
   "outputs": [],
   "source": [
    "import pandas as pd\n",
    "df = pd.read_csv('/Users/thiradatiamklang/Downloads/itineraries.csv')"
   ]
  },
  {
   "cell_type": "code",
   "execution_count": 2,
   "metadata": {},
   "outputs": [
    {
     "name": "stdout",
     "output_type": "stream",
     "text": [
      "<class 'pandas.core.frame.DataFrame'>\n",
      "RangeIndex: 13519999 entries, 0 to 13519998\n",
      "Data columns (total 24 columns):\n",
      " #   Column                             Dtype  \n",
      "---  ------                             -----  \n",
      " 0   legId                              object \n",
      " 1   searchDate                         object \n",
      " 2   flightDate                         object \n",
      " 3   startingAirport                    object \n",
      " 4   destinationAirport                 object \n",
      " 5   travelDuration                     object \n",
      " 6   isBasicEconomy                     bool   \n",
      " 7   isRefundable                       bool   \n",
      " 8   isNonStop                          bool   \n",
      " 9   totalFare                          float64\n",
      " 10  totalTravelDistance                float64\n",
      " 11  segmentsDepartureTimeEpochSeconds  object \n",
      " 12  segmentsDepartureTimeRaw           object \n",
      " 13  segmentsArrivalTimeEpochSeconds    object \n",
      " 14  segmentsArrivalTimeRaw             object \n",
      " 15  segmentsArrivalAirportCode         object \n",
      " 16  segmentsDepartureAirportCode       object \n",
      " 17  segmentsAirlineName                object \n",
      " 18  segmentsAirlineCode                object \n",
      " 19  segmentsEquipmentDescription       object \n",
      " 20  segmentsDurationInSeconds          object \n",
      " 21  segmentsDistance                   object \n",
      " 22  segmentsCabinCode                  object \n",
      " 23  dateDifference                     int64  \n",
      "dtypes: bool(3), float64(2), int64(1), object(18)\n",
      "memory usage: 2.2+ GB\n"
     ]
    }
   ],
   "source": [
    "df.info()"
   ]
  },
  {
   "cell_type": "code",
   "execution_count": 7,
   "metadata": {},
   "outputs": [
    {
     "data": {
      "text/plain": [
       "array(['OAK', 'DEN', 'LGA', 'LAX', 'ATL', 'CLT', 'PHL', 'DTW', 'IAD',\n",
       "       'JFK', 'DFW', 'BOS', 'EWR', 'SFO', 'ORD', 'MIA'], dtype=object)"
      ]
     },
     "execution_count": 7,
     "metadata": {},
     "output_type": "execute_result"
    }
   ],
   "source": [
    "df['startingAirport'].unique()"
   ]
  },
  {
   "cell_type": "code",
   "execution_count": 8,
   "metadata": {},
   "outputs": [
    {
     "name": "stdout",
     "output_type": "stream",
     "text": [
      "                                     legId  searchDate  flightDate  \\\n",
      "0         e1b137527b9175d7d930c3af82e70ae0  2022-04-19  2022-05-20   \n",
      "1         d813ebd107e3fa700206c0d96015da7a  2022-04-19  2022-05-20   \n",
      "2         e8ece5ad6f5962c696e06e031fc2a24a  2022-04-19  2022-05-20   \n",
      "3         c004a54681335100f326c9613b3c9448  2022-04-19  2022-05-20   \n",
      "4         4a42bbf77211b4afa7b9e14005949120  2022-04-19  2022-05-20   \n",
      "...                                    ...         ...         ...   \n",
      "13519994  beadd613c46554fa729a77b4037c9ec3  2022-04-23  2022-06-15   \n",
      "13519995  91cfacd351ca736a3ee1123d4d07a524  2022-04-23  2022-06-15   \n",
      "13519996  811f58a0e2609ad1c3a5c8745669a432  2022-04-23  2022-06-15   \n",
      "13519997  e7bdb6780786aecfcbf952aa6910ca06  2022-04-23  2022-06-15   \n",
      "13519998  246de99f674d932434ec729095931800  2022-04-23  2022-06-15   \n",
      "\n",
      "         startingAirport destinationAirport travelDuration  isBasicEconomy  \\\n",
      "0                    OAK                ATL        PT7H52M           False   \n",
      "1                    OAK                ATL        PT6H15M           False   \n",
      "2                    OAK                ATL         PT9H6M           False   \n",
      "3                    OAK                ATL        PT6H17M           False   \n",
      "4                    OAK                ATL       PT14H12M           False   \n",
      "...                  ...                ...            ...             ...   \n",
      "13519994             MIA                SFO        PT14H5M           False   \n",
      "13519995             MIA                SFO       PT11H18M           False   \n",
      "13519996             MIA                SFO       PT12H10M           False   \n",
      "13519997             MIA                SFO       PT12H10M           False   \n",
      "13519998             MIA                SFO        PT16H5M           False   \n",
      "\n",
      "          isRefundable  isNonStop  totalFare  ...  segmentsDurationInSeconds  \\\n",
      "0                False      False     103.98  ...                9180||10620   \n",
      "1                False      False     216.58  ...                4920||15600   \n",
      "2                False      False     216.58  ...                4920||15600   \n",
      "3                False      False     237.58  ...                5580||13980   \n",
      "4                False      False     307.21  ...                7500||17580   \n",
      "...                ...        ...        ...  ...                        ...   \n",
      "13519994         False      False     532.20  ...                6720||18300   \n",
      "13519995         False      False     541.60  ...               11940||23340   \n",
      "13519996         False      False     541.60  ...               11100||23400   \n",
      "13519997         False      False     541.60  ...               10800||23400   \n",
      "13519998         False      False     547.20  ...               10800||23400   \n",
      "\n",
      "         segmentsDistance segmentsCabinCode dateDifference AirportCode_x  \\\n",
      "0               943||1207      coach||coach             31           OAK   \n",
      "1              None||None      coach||coach             31           OAK   \n",
      "2              None||None      coach||coach             31           OAK   \n",
      "3              None||None      coach||coach             31           OAK   \n",
      "4               672||2178      coach||coach             31           OAK   \n",
      "...                   ...               ...            ...           ...   \n",
      "13519994        596||2135      coach||coach             53           MIA   \n",
      "13519995       1104||2566      coach||coach             53           MIA   \n",
      "13519996       1104||2566      coach||coach             53           MIA   \n",
      "13519997       1104||2566      coach||coach             53           MIA   \n",
      "13519998       1104||2566      coach||coach             53           MIA   \n",
      "\n",
      "         startingLatitude startingLongitude AirportCode_y destinationLatitude  \\\n",
      "0               37.721290       -122.221883           ATL           33.640444   \n",
      "1               37.721290       -122.221883           ATL           33.640444   \n",
      "2               37.721290       -122.221883           ATL           33.640444   \n",
      "3               37.721290       -122.221883           ATL           33.640444   \n",
      "4               37.721290       -122.221883           ATL           33.640444   \n",
      "...                   ...               ...           ...                 ...   \n",
      "13519994        25.795865        -80.290389           SFO           37.618817   \n",
      "13519995        25.795865        -80.290389           SFO           37.618817   \n",
      "13519996        25.795865        -80.290389           SFO           37.618817   \n",
      "13519997        25.795865        -80.290389           SFO           37.618817   \n",
      "13519998        25.795865        -80.290389           SFO           37.618817   \n",
      "\n",
      "         destinationLongitude  \n",
      "0                  -84.427933  \n",
      "1                  -84.427933  \n",
      "2                  -84.427933  \n",
      "3                  -84.427933  \n",
      "4                  -84.427933  \n",
      "...                       ...  \n",
      "13519994          -122.375417  \n",
      "13519995          -122.375417  \n",
      "13519996          -122.375417  \n",
      "13519997          -122.375417  \n",
      "13519998          -122.375417  \n",
      "\n",
      "[13519999 rows x 30 columns]\n"
     ]
    }
   ],
   "source": [
    "import pandas as pd\n",
    "\n",
    "# Sample airport information DataFrame (replace with your data)\n",
    "airport_info = pd.DataFrame({\n",
    "    'AirportCode': ['OAK', 'DEN', 'LGA', 'LAX', 'ATL', 'CLT', 'PHL', 'DTW', 'IAD', 'JFK', 'DFW', 'BOS', 'EWR', 'SFO', 'ORD', 'MIA'],\n",
    "    'Latitude': [37.721290, 39.856096, 40.641311, 33.942791, 33.640444, 35.214011, 39.872013, 42.209918, 38.947007, 40.641311, 32.899809, 42.363062, 40.692500, 37.618817, 41.974162, 25.795865],\n",
    "    'Longitude': [-122.221883, -104.673738, -73.778139, -118.408350, -84.427933, -80.947455, -75.240736, -83.530536, -77.455833, -73.778139, -97.040335, -71.007767, -74.168663, -122.375417, -87.907321, -80.290389]\n",
    "})\n",
    "\n",
    "\n",
    "# Merge the airport information DataFrame with your dataset for 'startingAirport'\n",
    "df = df.merge(airport_info, left_on='startingAirport', right_on='AirportCode', how='left')\n",
    "df.rename(columns={'Latitude': 'startingLatitude', 'Longitude': 'startingLongitude'}, inplace=True)\n",
    "\n",
    "# Merge the airport information DataFrame with your dataset for 'destinationAirport'\n",
    "df = df.merge(airport_info, left_on='destinationAirport', right_on='AirportCode', how='left')\n",
    "df.rename(columns={'Latitude': 'destinationLatitude', 'Longitude': 'destinationLongitude'}, inplace=True)\n",
    "\n",
    "# Print the updated DataFrame\n",
    "print(df)\n"
   ]
  },
  {
   "cell_type": "code",
   "execution_count": 12,
   "metadata": {},
   "outputs": [
    {
     "data": {
      "text/html": [
       "<div>\n",
       "<style scoped>\n",
       "    .dataframe tbody tr th:only-of-type {\n",
       "        vertical-align: middle;\n",
       "    }\n",
       "\n",
       "    .dataframe tbody tr th {\n",
       "        vertical-align: top;\n",
       "    }\n",
       "\n",
       "    .dataframe thead th {\n",
       "        text-align: right;\n",
       "    }\n",
       "</style>\n",
       "<table border=\"1\" class=\"dataframe\">\n",
       "  <thead>\n",
       "    <tr style=\"text-align: right;\">\n",
       "      <th></th>\n",
       "      <th>destinationAirport</th>\n",
       "      <th>destinationLatitude</th>\n",
       "      <th>destinationLongitude</th>\n",
       "      <th>startingAirport</th>\n",
       "      <th>startingLatitude</th>\n",
       "      <th>startingLongitude</th>\n",
       "    </tr>\n",
       "  </thead>\n",
       "  <tbody>\n",
       "    <tr>\n",
       "      <th>0</th>\n",
       "      <td>ATL</td>\n",
       "      <td>33.640444</td>\n",
       "      <td>-84.427933</td>\n",
       "      <td>OAK</td>\n",
       "      <td>37.72129</td>\n",
       "      <td>-122.221883</td>\n",
       "    </tr>\n",
       "    <tr>\n",
       "      <th>1</th>\n",
       "      <td>ATL</td>\n",
       "      <td>33.640444</td>\n",
       "      <td>-84.427933</td>\n",
       "      <td>OAK</td>\n",
       "      <td>37.72129</td>\n",
       "      <td>-122.221883</td>\n",
       "    </tr>\n",
       "    <tr>\n",
       "      <th>2</th>\n",
       "      <td>ATL</td>\n",
       "      <td>33.640444</td>\n",
       "      <td>-84.427933</td>\n",
       "      <td>OAK</td>\n",
       "      <td>37.72129</td>\n",
       "      <td>-122.221883</td>\n",
       "    </tr>\n",
       "    <tr>\n",
       "      <th>3</th>\n",
       "      <td>ATL</td>\n",
       "      <td>33.640444</td>\n",
       "      <td>-84.427933</td>\n",
       "      <td>OAK</td>\n",
       "      <td>37.72129</td>\n",
       "      <td>-122.221883</td>\n",
       "    </tr>\n",
       "    <tr>\n",
       "      <th>4</th>\n",
       "      <td>ATL</td>\n",
       "      <td>33.640444</td>\n",
       "      <td>-84.427933</td>\n",
       "      <td>OAK</td>\n",
       "      <td>37.72129</td>\n",
       "      <td>-122.221883</td>\n",
       "    </tr>\n",
       "  </tbody>\n",
       "</table>\n",
       "</div>"
      ],
      "text/plain": [
       "  destinationAirport  destinationLatitude  destinationLongitude  \\\n",
       "0                ATL            33.640444            -84.427933   \n",
       "1                ATL            33.640444            -84.427933   \n",
       "2                ATL            33.640444            -84.427933   \n",
       "3                ATL            33.640444            -84.427933   \n",
       "4                ATL            33.640444            -84.427933   \n",
       "\n",
       "  startingAirport  startingLatitude  startingLongitude  \n",
       "0             OAK          37.72129        -122.221883  \n",
       "1             OAK          37.72129        -122.221883  \n",
       "2             OAK          37.72129        -122.221883  \n",
       "3             OAK          37.72129        -122.221883  \n",
       "4             OAK          37.72129        -122.221883  "
      ]
     },
     "execution_count": 12,
     "metadata": {},
     "output_type": "execute_result"
    }
   ],
   "source": [
    "df[['destinationAirport', 'destinationLatitude', 'destinationLongitude', 'startingAirport', 'startingLatitude', 'startingLongitude']].head()"
   ]
  },
  {
   "cell_type": "code",
   "execution_count": 13,
   "metadata": {},
   "outputs": [],
   "source": [
    "df.to_csv('/Users/thiradatiamklang/Desktop/AML/AT3/map.csv', index=False)"
   ]
  }
 ],
 "metadata": {
  "kernelspec": {
   "display_name": "Python 3",
   "language": "python",
   "name": "python3"
  },
  "language_info": {
   "codemirror_mode": {
    "name": "ipython",
    "version": 3
   },
   "file_extension": ".py",
   "mimetype": "text/x-python",
   "name": "python",
   "nbconvert_exporter": "python",
   "pygments_lexer": "ipython3",
   "version": "3.10.5"
  },
  "orig_nbformat": 4
 },
 "nbformat": 4,
 "nbformat_minor": 2
}
