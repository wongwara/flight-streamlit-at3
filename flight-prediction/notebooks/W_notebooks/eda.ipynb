{
 "cells": [
  {
   "cell_type": "code",
   "execution_count": 6,
   "metadata": {},
   "outputs": [],
   "source": [
    "import zipfile\n",
    "import pandas as pd\n",
    "import os\n",
    "import re\n",
    "\n",
    "# Directory where the ZIP files are located (assuming it's relative)\n",
    "base_directory = '../../data/raw/itineraries_csv/'\n",
    "\n",
    "# Create an empty DataFrame to store the results\n",
    "result_df = pd.DataFrame()\n",
    "\n",
    "# Define a regular expression pattern to match filenames ending with two lowercase letters\n",
    "file_pattern = re.compile(r'.*[a-z][a-z]\\.zip')\n",
    "\n",
    "# List all airport folders in the base directory\n",
    "airport_names = [name for name in os.listdir(base_directory) if os.path.isdir(os.path.join(base_directory, name))]\n",
    "\n",
    "dfs = []  # Create a list to store DataFrames\n",
    "\n",
    "for airport_name in airport_names:\n",
    "    # Directory path for the current airport\n",
    "    zip_directory = os.path.join(base_directory, airport_name)\n",
    "    \n",
    "    # List all files in the airport's folder\n",
    "    file_list = os.listdir(zip_directory)\n",
    "\n",
    "    for filename in file_list:\n",
    "        if file_pattern.match(filename):\n",
    "            zip_file_path = os.path.join(zip_directory, filename)\n",
    "            csv_file_path_inside_zip = filename.replace('.zip', '.csv')\n",
    "            \n",
    "            # Create a ZipFile object and read the CSV file\n",
    "            with zipfile.ZipFile(zip_file_path, 'r') as zf:\n",
    "                df = pd.read_csv(zf.open(csv_file_path_inside_zip))\n",
    "\n",
    "            # Append the DataFrame for this filename to the list of DataFrames\n",
    "            dfs.append(df)\n",
    "\n",
    "# Use pandas.concat to concatenate the list of DataFrames into a single DataFrame\n",
    "all_airport = pd.concat(dfs, ignore_index=True)"
   ]
  },
  {
   "cell_type": "code",
   "execution_count": 7,
   "metadata": {},
   "outputs": [
    {
     "data": {
      "text/html": [
       "<div>\n",
       "<style scoped>\n",
       "    .dataframe tbody tr th:only-of-type {\n",
       "        vertical-align: middle;\n",
       "    }\n",
       "\n",
       "    .dataframe tbody tr th {\n",
       "        vertical-align: top;\n",
       "    }\n",
       "\n",
       "    .dataframe thead th {\n",
       "        text-align: right;\n",
       "    }\n",
       "</style>\n",
       "<table border=\"1\" class=\"dataframe\">\n",
       "  <thead>\n",
       "    <tr style=\"text-align: right;\">\n",
       "      <th></th>\n",
       "      <th>legId</th>\n",
       "      <th>searchDate</th>\n",
       "      <th>flightDate</th>\n",
       "      <th>startingAirport</th>\n",
       "      <th>destinationAirport</th>\n",
       "      <th>travelDuration</th>\n",
       "      <th>isBasicEconomy</th>\n",
       "      <th>isRefundable</th>\n",
       "      <th>isNonStop</th>\n",
       "      <th>totalFare</th>\n",
       "      <th>...</th>\n",
       "      <th>segmentsArrivalTimeEpochSeconds</th>\n",
       "      <th>segmentsArrivalTimeRaw</th>\n",
       "      <th>segmentsArrivalAirportCode</th>\n",
       "      <th>segmentsDepartureAirportCode</th>\n",
       "      <th>segmentsAirlineName</th>\n",
       "      <th>segmentsAirlineCode</th>\n",
       "      <th>segmentsEquipmentDescription</th>\n",
       "      <th>segmentsDurationInSeconds</th>\n",
       "      <th>segmentsDistance</th>\n",
       "      <th>segmentsCabinCode</th>\n",
       "    </tr>\n",
       "  </thead>\n",
       "  <tbody>\n",
       "    <tr>\n",
       "      <th>0</th>\n",
       "      <td>e1b137527b9175d7d930c3af82e70ae0</td>\n",
       "      <td>2022-04-19</td>\n",
       "      <td>2022-05-20</td>\n",
       "      <td>OAK</td>\n",
       "      <td>ATL</td>\n",
       "      <td>PT7H52M</td>\n",
       "      <td>False</td>\n",
       "      <td>False</td>\n",
       "      <td>False</td>\n",
       "      <td>103.98</td>\n",
       "      <td>...</td>\n",
       "      <td>1653107460||1653126600</td>\n",
       "      <td>2022-05-20T22:31:00.000-06:00||2022-05-21T05:5...</td>\n",
       "      <td>DEN||ATL</td>\n",
       "      <td>OAK||DEN</td>\n",
       "      <td>Frontier Airlines||Frontier Airlines</td>\n",
       "      <td>F9||F9</td>\n",
       "      <td>||Airbus A320</td>\n",
       "      <td>9180||10620</td>\n",
       "      <td>943||1207</td>\n",
       "      <td>coach||coach</td>\n",
       "    </tr>\n",
       "    <tr>\n",
       "      <th>1</th>\n",
       "      <td>d813ebd107e3fa700206c0d96015da7a</td>\n",
       "      <td>2022-04-19</td>\n",
       "      <td>2022-05-20</td>\n",
       "      <td>OAK</td>\n",
       "      <td>ATL</td>\n",
       "      <td>PT6H15M</td>\n",
       "      <td>False</td>\n",
       "      <td>False</td>\n",
       "      <td>False</td>\n",
       "      <td>216.58</td>\n",
       "      <td>...</td>\n",
       "      <td>1653067080||1653084660</td>\n",
       "      <td>2022-05-20T10:18:00.000-07:00||2022-05-20T18:1...</td>\n",
       "      <td>LAX||ATL</td>\n",
       "      <td>OAK||LAX</td>\n",
       "      <td>Spirit Airlines||Spirit Airlines</td>\n",
       "      <td>NK||NK</td>\n",
       "      <td>||AIRBUS INDUSTRIE A320 SHARKLETS</td>\n",
       "      <td>4920||15600</td>\n",
       "      <td>None||None</td>\n",
       "      <td>coach||coach</td>\n",
       "    </tr>\n",
       "    <tr>\n",
       "      <th>2</th>\n",
       "      <td>e8ece5ad6f5962c696e06e031fc2a24a</td>\n",
       "      <td>2022-04-19</td>\n",
       "      <td>2022-05-20</td>\n",
       "      <td>OAK</td>\n",
       "      <td>ATL</td>\n",
       "      <td>PT9H6M</td>\n",
       "      <td>False</td>\n",
       "      <td>False</td>\n",
       "      <td>False</td>\n",
       "      <td>216.58</td>\n",
       "      <td>...</td>\n",
       "      <td>1653056820||1653084660</td>\n",
       "      <td>2022-05-20T07:27:00.000-07:00||2022-05-20T18:1...</td>\n",
       "      <td>LAX||ATL</td>\n",
       "      <td>OAK||LAX</td>\n",
       "      <td>Spirit Airlines||Spirit Airlines</td>\n",
       "      <td>NK||NK</td>\n",
       "      <td>AIRBUS INDUSTRIE A320 SHARKLETS||AIRBUS INDUST...</td>\n",
       "      <td>4920||15600</td>\n",
       "      <td>None||None</td>\n",
       "      <td>coach||coach</td>\n",
       "    </tr>\n",
       "    <tr>\n",
       "      <th>3</th>\n",
       "      <td>c004a54681335100f326c9613b3c9448</td>\n",
       "      <td>2022-04-19</td>\n",
       "      <td>2022-05-20</td>\n",
       "      <td>OAK</td>\n",
       "      <td>ATL</td>\n",
       "      <td>PT6H17M</td>\n",
       "      <td>False</td>\n",
       "      <td>False</td>\n",
       "      <td>False</td>\n",
       "      <td>237.58</td>\n",
       "      <td>...</td>\n",
       "      <td>1653110940||1653127980</td>\n",
       "      <td>2022-05-20T22:29:00.000-07:00||2022-05-21T06:1...</td>\n",
       "      <td>LAS||ATL</td>\n",
       "      <td>OAK||LAS</td>\n",
       "      <td>Spirit Airlines||Spirit Airlines</td>\n",
       "      <td>NK||NK</td>\n",
       "      <td>AIRBUS INDUSTRIE A320 SHARKLETS||Airbus A319</td>\n",
       "      <td>5580||13980</td>\n",
       "      <td>None||None</td>\n",
       "      <td>coach||coach</td>\n",
       "    </tr>\n",
       "    <tr>\n",
       "      <th>4</th>\n",
       "      <td>4a42bbf77211b4afa7b9e14005949120</td>\n",
       "      <td>2022-04-19</td>\n",
       "      <td>2022-05-20</td>\n",
       "      <td>OAK</td>\n",
       "      <td>ATL</td>\n",
       "      <td>PT14H12M</td>\n",
       "      <td>False</td>\n",
       "      <td>False</td>\n",
       "      <td>False</td>\n",
       "      <td>307.21</td>\n",
       "      <td>...</td>\n",
       "      <td>1653115560||1653159180</td>\n",
       "      <td>2022-05-20T23:46:00.000-07:00||2022-05-21T14:5...</td>\n",
       "      <td>SEA||ATL</td>\n",
       "      <td>OAK||SEA</td>\n",
       "      <td>Alaska Airlines||Alaska Airlines</td>\n",
       "      <td>AS||AS</td>\n",
       "      <td>Boeing 737-900||Boeing 737-900</td>\n",
       "      <td>7500||17580</td>\n",
       "      <td>672||2178</td>\n",
       "      <td>coach||coach</td>\n",
       "    </tr>\n",
       "  </tbody>\n",
       "</table>\n",
       "<p>5 rows × 23 columns</p>\n",
       "</div>"
      ],
      "text/plain": [
       "                              legId  searchDate  flightDate startingAirport  \\\n",
       "0  e1b137527b9175d7d930c3af82e70ae0  2022-04-19  2022-05-20             OAK   \n",
       "1  d813ebd107e3fa700206c0d96015da7a  2022-04-19  2022-05-20             OAK   \n",
       "2  e8ece5ad6f5962c696e06e031fc2a24a  2022-04-19  2022-05-20             OAK   \n",
       "3  c004a54681335100f326c9613b3c9448  2022-04-19  2022-05-20             OAK   \n",
       "4  4a42bbf77211b4afa7b9e14005949120  2022-04-19  2022-05-20             OAK   \n",
       "\n",
       "  destinationAirport travelDuration  isBasicEconomy  isRefundable  isNonStop  \\\n",
       "0                ATL        PT7H52M           False         False      False   \n",
       "1                ATL        PT6H15M           False         False      False   \n",
       "2                ATL         PT9H6M           False         False      False   \n",
       "3                ATL        PT6H17M           False         False      False   \n",
       "4                ATL       PT14H12M           False         False      False   \n",
       "\n",
       "   totalFare  ...  segmentsArrivalTimeEpochSeconds  \\\n",
       "0     103.98  ...           1653107460||1653126600   \n",
       "1     216.58  ...           1653067080||1653084660   \n",
       "2     216.58  ...           1653056820||1653084660   \n",
       "3     237.58  ...           1653110940||1653127980   \n",
       "4     307.21  ...           1653115560||1653159180   \n",
       "\n",
       "                              segmentsArrivalTimeRaw  \\\n",
       "0  2022-05-20T22:31:00.000-06:00||2022-05-21T05:5...   \n",
       "1  2022-05-20T10:18:00.000-07:00||2022-05-20T18:1...   \n",
       "2  2022-05-20T07:27:00.000-07:00||2022-05-20T18:1...   \n",
       "3  2022-05-20T22:29:00.000-07:00||2022-05-21T06:1...   \n",
       "4  2022-05-20T23:46:00.000-07:00||2022-05-21T14:5...   \n",
       "\n",
       "  segmentsArrivalAirportCode segmentsDepartureAirportCode  \\\n",
       "0                   DEN||ATL                     OAK||DEN   \n",
       "1                   LAX||ATL                     OAK||LAX   \n",
       "2                   LAX||ATL                     OAK||LAX   \n",
       "3                   LAS||ATL                     OAK||LAS   \n",
       "4                   SEA||ATL                     OAK||SEA   \n",
       "\n",
       "                    segmentsAirlineName segmentsAirlineCode  \\\n",
       "0  Frontier Airlines||Frontier Airlines              F9||F9   \n",
       "1      Spirit Airlines||Spirit Airlines              NK||NK   \n",
       "2      Spirit Airlines||Spirit Airlines              NK||NK   \n",
       "3      Spirit Airlines||Spirit Airlines              NK||NK   \n",
       "4      Alaska Airlines||Alaska Airlines              AS||AS   \n",
       "\n",
       "                        segmentsEquipmentDescription  \\\n",
       "0                                      ||Airbus A320   \n",
       "1                  ||AIRBUS INDUSTRIE A320 SHARKLETS   \n",
       "2  AIRBUS INDUSTRIE A320 SHARKLETS||AIRBUS INDUST...   \n",
       "3       AIRBUS INDUSTRIE A320 SHARKLETS||Airbus A319   \n",
       "4                     Boeing 737-900||Boeing 737-900   \n",
       "\n",
       "  segmentsDurationInSeconds segmentsDistance segmentsCabinCode  \n",
       "0               9180||10620        943||1207      coach||coach  \n",
       "1               4920||15600       None||None      coach||coach  \n",
       "2               4920||15600       None||None      coach||coach  \n",
       "3               5580||13980       None||None      coach||coach  \n",
       "4               7500||17580        672||2178      coach||coach  \n",
       "\n",
       "[5 rows x 23 columns]"
      ]
     },
     "execution_count": 7,
     "metadata": {},
     "output_type": "execute_result"
    }
   ],
   "source": [
    "all_airport.head()"
   ]
  },
  {
   "cell_type": "code",
   "execution_count": 8,
   "metadata": {},
   "outputs": [
    {
     "data": {
      "text/plain": [
       "array(['2022-05-20', '2022-05-21', '2022-05-22', '2022-05-07',\n",
       "       '2022-05-08', '2022-05-23', '2022-04-26', '2022-04-27',\n",
       "       '2022-04-28', '2022-06-07', '2022-06-08', '2022-06-09',\n",
       "       '2022-06-01', '2022-06-02', '2022-06-24', '2022-06-25',\n",
       "       '2022-06-26', '2022-06-05', '2022-06-06', '2022-05-06',\n",
       "       '2022-06-14', '2022-06-15', '2022-05-25', '2022-05-26',\n",
       "       '2022-05-27', '2022-05-14', '2022-05-15', '2022-05-16',\n",
       "       '2022-05-17', '2022-05-18', '2022-07-10', '2022-07-11',\n",
       "       '2022-07-15', '2022-07-16', '2022-06-10', '2022-06-11',\n",
       "       '2022-06-12', '2022-06-21', '2022-06-22', '2022-06-13',\n",
       "       '2022-05-13', '2022-05-12', '2022-06-03', '2022-06-04',\n",
       "       '2022-05-24', '2022-06-27', '2022-06-28', '2022-06-18',\n",
       "       '2022-06-19', '2022-06-20', '2022-07-13', '2022-07-14',\n",
       "       '2022-07-12', '2022-05-09', '2022-05-29', '2022-05-30',\n",
       "       '2022-05-31', '2022-04-29', '2022-04-30', '2022-05-19',\n",
       "       '2022-05-10', '2022-05-05', '2022-04-24', '2022-04-25',\n",
       "       '2022-05-04', '2022-06-16', '2022-06-17', '2022-06-23',\n",
       "       '2022-05-28', '2022-07-08', '2022-07-09', '2022-07-02',\n",
       "       '2022-07-03', '2022-06-29', '2022-06-30', '2022-07-01',\n",
       "       '2022-05-11', '2022-05-03', '2022-04-22', '2022-04-23',\n",
       "       '2022-07-17', '2022-04-20', '2022-04-21', '2022-05-01',\n",
       "       '2022-05-02', '2022-07-06', '2022-07-07', '2022-07-04',\n",
       "       '2022-07-05', '2022-04-19', '2022-04-18', '2022-04-17'],\n",
       "      dtype=object)"
      ]
     },
     "execution_count": 8,
     "metadata": {},
     "output_type": "execute_result"
    }
   ],
   "source": [
    "all_airport['flightDate'].unique()"
   ]
  },
  {
   "cell_type": "code",
   "execution_count": null,
   "metadata": {},
   "outputs": [],
   "source": []
  },
  {
   "cell_type": "markdown",
   "metadata": {},
   "source": [
    "### Create `travelLayover` column"
   ]
  },
  {
   "cell_type": "markdown",
   "metadata": {},
   "source": [
    "**Convert `travelDuration` into second**"
   ]
  },
  {
   "cell_type": "code",
   "execution_count": 9,
   "metadata": {},
   "outputs": [],
   "source": [
    "# Function to convert a duration string to seconds\n",
    "def convert_duration_to_seconds(duration):\n",
    "    match = re.match(r'PT(\\d+)H(\\d+)M', duration)\n",
    "    \n",
    "    if match:\n",
    "        hours = int(match.group(1))\n",
    "        minutes = int(match.group(2))\n",
    "        total_seconds = hours * 3600 + minutes * 60\n",
    "        return total_seconds\n",
    "    else:\n",
    "        return None\n",
    "\n",
    "# Apply the function to the 'travelDuration' column and create a new column 'travelDurationInSeconds'\n",
    "all_airport['travelDurationInSeconds'] = all_airport['travelDuration'].apply(convert_duration_to_seconds)\n"
   ]
  },
  {
   "cell_type": "code",
   "execution_count": 10,
   "metadata": {},
   "outputs": [
    {
     "data": {
      "text/plain": [
       "0    28320.0\n",
       "1    22500.0\n",
       "2    32760.0\n",
       "3    22620.0\n",
       "4    51120.0\n",
       "Name: travelDurationInSeconds, dtype: float64"
      ]
     },
     "execution_count": 10,
     "metadata": {},
     "output_type": "execute_result"
    }
   ],
   "source": [
    "all_airport['travelDurationInSeconds'].head()"
   ]
  },
  {
   "cell_type": "markdown",
   "metadata": {},
   "source": [
    "**Convert `durationinsecond`**`"
   ]
  },
  {
   "cell_type": "code",
   "execution_count": 11,
   "metadata": {},
   "outputs": [],
   "source": [
    "# Function to split and sum the values\n",
    "def split_and_sum(segment_duration):\n",
    "    segments = segment_duration.split('||')\n",
    "    return sum(map(int, segments))\n",
    "\n",
    "# Apply the function to the 'segmentsDurationInSeconds' column and create a new column 'totalDurationInSeconds'\n",
    "all_airport['totalDurationInSeconds'] = all_airport['segmentsDurationInSeconds'].apply(split_and_sum)\n"
   ]
  },
  {
   "cell_type": "code",
   "execution_count": 12,
   "metadata": {},
   "outputs": [
    {
     "data": {
      "text/plain": [
       "0    19800\n",
       "1    20520\n",
       "2    20520\n",
       "3    19560\n",
       "4    25080\n",
       "Name: totalDurationInSeconds, dtype: int64"
      ]
     },
     "execution_count": 12,
     "metadata": {},
     "output_type": "execute_result"
    }
   ],
   "source": [
    "all_airport['totalDurationInSeconds'].head()"
   ]
  },
  {
   "cell_type": "markdown",
   "metadata": {},
   "source": [
    "**Calculate `travelLayover`**"
   ]
  },
  {
   "cell_type": "code",
   "execution_count": 13,
   "metadata": {},
   "outputs": [
    {
     "data": {
      "text/plain": [
       "0     8520.0\n",
       "1     1980.0\n",
       "2    12240.0\n",
       "3     3060.0\n",
       "4    26040.0\n",
       "Name: travelLayover, dtype: float64"
      ]
     },
     "execution_count": 13,
     "metadata": {},
     "output_type": "execute_result"
    }
   ],
   "source": [
    "all_airport['travelLayover'] = all_airport['travelDurationInSeconds'] - all_airport['totalDurationInSeconds']\n",
    "all_airport['travelLayover'].head()"
   ]
  },
  {
   "cell_type": "code",
   "execution_count": null,
   "metadata": {},
   "outputs": [],
   "source": []
  }
 ],
 "metadata": {
  "kernelspec": {
   "display_name": "Python 3",
   "language": "python",
   "name": "python3"
  },
  "language_info": {
   "codemirror_mode": {
    "name": "ipython",
    "version": 3
   },
   "file_extension": ".py",
   "mimetype": "text/x-python",
   "name": "python",
   "nbconvert_exporter": "python",
   "pygments_lexer": "ipython3",
   "version": "3.9.13"
  }
 },
 "nbformat": 4,
 "nbformat_minor": 2
}
