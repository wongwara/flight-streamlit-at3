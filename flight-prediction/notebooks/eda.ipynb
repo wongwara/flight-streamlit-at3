{
 "cells": [
  {
   "cell_type": "code",
   "execution_count": 1,
   "metadata": {},
   "outputs": [],
   "source": [
    "import zipfile\n",
    "import pandas as pd\n",
    "import os\n",
    "import re\n",
    "\n",
    "# Directory where the ZIP files are located\n",
    "base_directory = '../../data/raw/itineraries_csv/'\n",
    "\n",
    "# Create an empty DataFrame to store the results\n",
    "result_df = pd.DataFrame()\n",
    "\n",
    "# Define a regular expression pattern to match filenames ending with two lowercase letters\n",
    "file_pattern = re.compile(r'.*[a-z][a-z]\\.zip')\n",
    "\n",
    "# List all airport folders in the base directory\n",
    "airport_names = [name for name in os.listdir(base_directory) if os.path.isdir(os.path.join(base_directory, name))]\n",
    "\n",
    "dfs = []  # Create a list to store DataFrames\n",
    "\n",
    "for airport_name in airport_names:\n",
    "    # Directory path for the current airport\n",
    "    zip_directory = os.path.join(base_directory, airport_name)\n",
    "    \n",
    "    # List all files in the airport's folder\n",
    "    file_list = os.listdir(zip_directory)\n",
    "\n",
    "    for filename in file_list:\n",
    "        if file_pattern.match(filename):\n",
    "            zip_file_path = os.path.join(zip_directory, filename)\n",
    "            csv_file_path_inside_zip = filename.replace('.zip', '.csv')\n",
    "            \n",
    "            # Create a ZipFile object and read the CSV file\n",
    "            with zipfile.ZipFile(zip_file_path, 'r') as zf:\n",
    "                df = pd.read_csv(zf.open(csv_file_path_inside_zip))\n",
    "\n",
    "            # Append the DataFrame for this filename to the list of DataFrames\n",
    "            dfs.append(df)\n",
    "\n",
    "# Use pandas.concat to concatenate the list of DataFrames into a single DataFrame\n",
    "all_airport = pd.concat(dfs, ignore_index=True)"
   ]
  },
  {
   "cell_type": "markdown",
   "metadata": {},
   "source": [
    "## Feature Engineering"
   ]
  },
  {
   "cell_type": "code",
   "execution_count": 2,
   "metadata": {},
   "outputs": [],
   "source": [
    "all_airport['flightDate'] = pd.to_datetime(all_airport['flightDate'])"
   ]
  },
  {
   "cell_type": "code",
   "execution_count": 3,
   "metadata": {},
   "outputs": [],
   "source": [
    "all_airport['searchDate'] = pd.to_datetime(all_airport['searchDate'])"
   ]
  },
  {
   "cell_type": "markdown",
   "metadata": {},
   "source": [
    "## 1. dateDifference"
   ]
  },
  {
   "cell_type": "markdown",
   "metadata": {},
   "source": [
    "`days = flightDate- searchDate` show how many day before book the flight\n",
    "\n",
    "For streamlit we might can use the get current date and do flightDate - currentDate"
   ]
  },
  {
   "cell_type": "code",
   "execution_count": 4,
   "metadata": {},
   "outputs": [],
   "source": [
    "# Calculate the date difference and create a new column 'dateDifference'\n",
    "all_airport['dateDifference'] =all_airport['flightDate'] - all_airport['searchDate']"
   ]
  },
  {
   "cell_type": "code",
   "execution_count": 5,
   "metadata": {},
   "outputs": [],
   "source": [
    "all_airport['dateDifference'] = all_airport['dateDifference'].dt.days"
   ]
  },
  {
   "cell_type": "code",
   "execution_count": 6,
   "metadata": {},
   "outputs": [
    {
     "data": {
      "text/plain": [
       "array([31, 32, 33, 20, 21, 34, 35,  7,  8,  9, 51, 52, 53, 45, 46, 54, 55,\n",
       "       37, 38,  4,  5, 23, 24, 25, 13, 14, 15, 16, 17, 58, 59, 26, 47, 48,\n",
       "       36,  6,  1, 27, 49, 50, 42, 43, 44, 28, 29, 39, 40, 56, 57, 60, 10,\n",
       "       22, 11, 30, 18, 19,  2,  3, 12, 41])"
      ]
     },
     "execution_count": 6,
     "metadata": {},
     "output_type": "execute_result"
    }
   ],
   "source": [
    "all_airport['dateDifference'].unique()"
   ]
  },
  {
   "cell_type": "code",
   "execution_count": 7,
   "metadata": {},
   "outputs": [
    {
     "data": {
      "text/plain": [
       "1783139     51\n",
       "12487230    28\n",
       "11529065    27\n",
       "7680252      1\n",
       "5593487      3\n",
       "3046128     29\n",
       "167834      43\n",
       "3951503     54\n",
       "2561179     38\n",
       "5376210     18\n",
       "Name: dateDifference, dtype: int64"
      ]
     },
     "execution_count": 7,
     "metadata": {},
     "output_type": "execute_result"
    }
   ],
   "source": [
    "all_airport['dateDifference'].sample(10)"
   ]
  },
  {
   "cell_type": "markdown",
   "metadata": {},
   "source": [
    "## List for legs"
   ]
  },
  {
   "cell_type": "code",
   "execution_count": 8,
   "metadata": {},
   "outputs": [],
   "source": [
    "all_airport['segmentsAirlineCode'] = all_airport['segmentsAirlineCode'].apply(lambda x: re.split(r'\\|\\|', x))"
   ]
  },
  {
   "cell_type": "code",
   "execution_count": 9,
   "metadata": {},
   "outputs": [
    {
     "data": {
      "text/plain": [
       "11854337    [DL, DL]\n",
       "6807254         [DL]\n",
       "3616771     [AA, AA]\n",
       "1889297     [DL, DL]\n",
       "5338674         [B6]\n",
       "12668628        [AA]\n",
       "417932          [NK]\n",
       "7846709     [AA, AA]\n",
       "12712147        [AA]\n",
       "13048734    [UA, UA]\n",
       "Name: segmentsAirlineCode, dtype: object"
      ]
     },
     "execution_count": 9,
     "metadata": {},
     "output_type": "execute_result"
    }
   ],
   "source": [
    "all_airport['segmentsAirlineCode'].sample(10)"
   ]
  },
  {
   "cell_type": "code",
   "execution_count": 10,
   "metadata": {},
   "outputs": [
    {
     "data": {
      "text/plain": [
       "array([2, 3, 1, 4])"
      ]
     },
     "execution_count": 10,
     "metadata": {},
     "output_type": "execute_result"
    }
   ],
   "source": [
    "all_airport['segmentsAirlineCode'].apply(lambda x: len(x)).unique()"
   ]
  },
  {
   "cell_type": "code",
   "execution_count": 11,
   "metadata": {},
   "outputs": [],
   "source": [
    "from datetime import datetime"
   ]
  },
  {
   "cell_type": "code",
   "execution_count": 13,
   "metadata": {},
   "outputs": [],
   "source": [
    "# Split the column using '||' as the delimiter and convert to seconds\n",
    "all_airport['segmentsDepartureTimeEpochSeconds'] = all_airport['segmentsDepartureTimeEpochSeconds'].str.split(r'\\|\\|').apply(lambda x: [int(value) for value in x])\n",
    "\n",
    "# Convert the seconds to datetime objects\n",
    "all_airport['segmentsDepartureTimeEpochSeconds'] = all_airport['segmentsDepartureTimeEpochSeconds'].apply(lambda x: [datetime.fromtimestamp(seconds) for seconds in x])\n"
   ]
  },
  {
   "cell_type": "code",
   "execution_count": 14,
   "metadata": {},
   "outputs": [
    {
     "data": {
      "text/plain": [
       "0           [2022-05-21 11:58:00, 2022-05-21 16:53:00]\n",
       "1           [2022-05-21 01:56:00, 2022-05-21 03:51:00]\n",
       "2           [2022-05-20 23:05:00, 2022-05-21 03:51:00]\n",
       "3           [2022-05-21 13:56:00, 2022-05-21 16:20:00]\n",
       "4           [2022-05-21 14:41:00, 2022-05-22 00:00:00]\n",
       "                               ...                    \n",
       "13519994    [2022-06-15 22:05:00, 2022-06-16 07:05:00]\n",
       "13519995    [2022-06-16 05:26:00, 2022-06-16 10:15:00]\n",
       "13519996    [2022-06-16 01:15:00, 2022-06-16 06:55:00]\n",
       "13519997    [2022-06-15 21:20:00, 2022-06-16 03:00:00]\n",
       "13519998    [2022-06-15 21:20:00, 2022-06-16 06:55:00]\n",
       "Name: segmentsDepartureTimeEpochSeconds, Length: 13519999, dtype: object"
      ]
     },
     "execution_count": 14,
     "metadata": {},
     "output_type": "execute_result"
    }
   ],
   "source": [
    "all_airport['segmentsDepartureTimeEpochSeconds']"
   ]
  },
  {
   "cell_type": "code",
   "execution_count": 15,
   "metadata": {},
   "outputs": [],
   "source": [
    "# Convert the list of datetime objects to a list of Unix timestamps (in seconds)\n",
    "all_airport['segmentsDepartureTimeEpochSeconds'] = all_airport['segmentsDepartureTimeEpochSeconds'].apply(lambda x: [int(dt.timestamp()) for dt in x])\n"
   ]
  },
  {
   "cell_type": "code",
   "execution_count": 16,
   "metadata": {},
   "outputs": [
    {
     "data": {
      "text/plain": [
       "0           [1653098280, 1653115980]\n",
       "1           [1653062160, 1653069060]\n",
       "2           [1653051900, 1653069060]\n",
       "3           [1653105360, 1653114000]\n",
       "4           [1653108060, 1653141600]\n",
       "                      ...           \n",
       "13519994    [1655294700, 1655327100]\n",
       "13519995    [1655321160, 1655338500]\n",
       "13519996    [1655306100, 1655326500]\n",
       "13519997    [1655292000, 1655312400]\n",
       "13519998    [1655292000, 1655326500]\n",
       "Name: segmentsDepartureTimeEpochSeconds, Length: 13519999, dtype: object"
      ]
     },
     "execution_count": 16,
     "metadata": {},
     "output_type": "execute_result"
    }
   ],
   "source": [
    "all_airport['segmentsDepartureTimeEpochSeconds']"
   ]
  },
  {
   "cell_type": "code",
   "execution_count": null,
   "metadata": {},
   "outputs": [],
   "source": [
    "columns = ['segmentsDepartureTimeEpochSeconds', 'segmentsDepartureTimeRaw',\n",
    "       'segmentsArrivalTimeEpochSeconds', 'segmentsArrivalTimeRaw',\n",
    "       'segmentsArrivalAirportCode', 'segmentsDepartureAirportCode',\n",
    "       'segmentsAirlineName', 'segmentsAirlineCode',\n",
    "       'segmentsEquipmentDescription', 'segmentsDurationInSeconds',\n",
    "       'segmentsDistance', 'segmentsCabinCode']"
   ]
  },
  {
   "cell_type": "code",
   "execution_count": null,
   "metadata": {},
   "outputs": [],
   "source": [
    "selected_columns = all_airport[columns]"
   ]
  },
  {
   "cell_type": "code",
   "execution_count": null,
   "metadata": {},
   "outputs": [
    {
     "data": {
      "text/html": [
       "<div>\n",
       "<style scoped>\n",
       "    .dataframe tbody tr th:only-of-type {\n",
       "        vertical-align: middle;\n",
       "    }\n",
       "\n",
       "    .dataframe tbody tr th {\n",
       "        vertical-align: top;\n",
       "    }\n",
       "\n",
       "    .dataframe thead th {\n",
       "        text-align: right;\n",
       "    }\n",
       "</style>\n",
       "<table border=\"1\" class=\"dataframe\">\n",
       "  <thead>\n",
       "    <tr style=\"text-align: right;\">\n",
       "      <th></th>\n",
       "      <th>segmentsDepartureTimeEpochSeconds</th>\n",
       "      <th>segmentsDepartureTimeRaw</th>\n",
       "      <th>segmentsArrivalTimeEpochSeconds</th>\n",
       "      <th>segmentsArrivalTimeRaw</th>\n",
       "      <th>segmentsArrivalAirportCode</th>\n",
       "      <th>segmentsDepartureAirportCode</th>\n",
       "      <th>segmentsAirlineName</th>\n",
       "      <th>segmentsAirlineCode</th>\n",
       "      <th>segmentsEquipmentDescription</th>\n",
       "      <th>segmentsDurationInSeconds</th>\n",
       "      <th>segmentsDistance</th>\n",
       "      <th>segmentsCabinCode</th>\n",
       "    </tr>\n",
       "  </thead>\n",
       "  <tbody>\n",
       "    <tr>\n",
       "      <th>0</th>\n",
       "      <td>1653098280||1653115980</td>\n",
       "      <td>2022-05-20T18:58:00.000-07:00||2022-05-21T00:5...</td>\n",
       "      <td>1653107460||1653126600</td>\n",
       "      <td>2022-05-20T22:31:00.000-06:00||2022-05-21T05:5...</td>\n",
       "      <td>DEN||ATL</td>\n",
       "      <td>OAK||DEN</td>\n",
       "      <td>Frontier Airlines||Frontier Airlines</td>\n",
       "      <td>F9||F9</td>\n",
       "      <td>||Airbus A320</td>\n",
       "      <td>9180||10620</td>\n",
       "      <td>943||1207</td>\n",
       "      <td>[coach, coach]</td>\n",
       "    </tr>\n",
       "    <tr>\n",
       "      <th>1</th>\n",
       "      <td>1653062160||1653069060</td>\n",
       "      <td>2022-05-20T08:56:00.000-07:00||2022-05-20T10:5...</td>\n",
       "      <td>1653067080||1653084660</td>\n",
       "      <td>2022-05-20T10:18:00.000-07:00||2022-05-20T18:1...</td>\n",
       "      <td>LAX||ATL</td>\n",
       "      <td>OAK||LAX</td>\n",
       "      <td>Spirit Airlines||Spirit Airlines</td>\n",
       "      <td>NK||NK</td>\n",
       "      <td>||AIRBUS INDUSTRIE A320 SHARKLETS</td>\n",
       "      <td>4920||15600</td>\n",
       "      <td>None||None</td>\n",
       "      <td>[coach, coach]</td>\n",
       "    </tr>\n",
       "    <tr>\n",
       "      <th>2</th>\n",
       "      <td>1653051900||1653069060</td>\n",
       "      <td>2022-05-20T06:05:00.000-07:00||2022-05-20T10:5...</td>\n",
       "      <td>1653056820||1653084660</td>\n",
       "      <td>2022-05-20T07:27:00.000-07:00||2022-05-20T18:1...</td>\n",
       "      <td>LAX||ATL</td>\n",
       "      <td>OAK||LAX</td>\n",
       "      <td>Spirit Airlines||Spirit Airlines</td>\n",
       "      <td>NK||NK</td>\n",
       "      <td>AIRBUS INDUSTRIE A320 SHARKLETS||AIRBUS INDUST...</td>\n",
       "      <td>4920||15600</td>\n",
       "      <td>None||None</td>\n",
       "      <td>[coach, coach]</td>\n",
       "    </tr>\n",
       "    <tr>\n",
       "      <th>3</th>\n",
       "      <td>1653105360||1653114000</td>\n",
       "      <td>2022-05-20T20:56:00.000-07:00||2022-05-20T23:2...</td>\n",
       "      <td>1653110940||1653127980</td>\n",
       "      <td>2022-05-20T22:29:00.000-07:00||2022-05-21T06:1...</td>\n",
       "      <td>LAS||ATL</td>\n",
       "      <td>OAK||LAS</td>\n",
       "      <td>Spirit Airlines||Spirit Airlines</td>\n",
       "      <td>NK||NK</td>\n",
       "      <td>AIRBUS INDUSTRIE A320 SHARKLETS||Airbus A319</td>\n",
       "      <td>5580||13980</td>\n",
       "      <td>None||None</td>\n",
       "      <td>[coach, coach]</td>\n",
       "    </tr>\n",
       "    <tr>\n",
       "      <th>4</th>\n",
       "      <td>1653108060||1653141600</td>\n",
       "      <td>2022-05-20T21:41:00.000-07:00||2022-05-21T07:0...</td>\n",
       "      <td>1653115560||1653159180</td>\n",
       "      <td>2022-05-20T23:46:00.000-07:00||2022-05-21T14:5...</td>\n",
       "      <td>SEA||ATL</td>\n",
       "      <td>OAK||SEA</td>\n",
       "      <td>Alaska Airlines||Alaska Airlines</td>\n",
       "      <td>AS||AS</td>\n",
       "      <td>Boeing 737-900||Boeing 737-900</td>\n",
       "      <td>7500||17580</td>\n",
       "      <td>672||2178</td>\n",
       "      <td>[coach, coach]</td>\n",
       "    </tr>\n",
       "    <tr>\n",
       "      <th>...</th>\n",
       "      <td>...</td>\n",
       "      <td>...</td>\n",
       "      <td>...</td>\n",
       "      <td>...</td>\n",
       "      <td>...</td>\n",
       "      <td>...</td>\n",
       "      <td>...</td>\n",
       "      <td>...</td>\n",
       "      <td>...</td>\n",
       "      <td>...</td>\n",
       "      <td>...</td>\n",
       "      <td>...</td>\n",
       "    </tr>\n",
       "    <tr>\n",
       "      <th>13519994</th>\n",
       "      <td>1655294700||1655327100</td>\n",
       "      <td>2022-06-15T08:05:00.000-04:00||2022-06-15T17:0...</td>\n",
       "      <td>1655301420||1655345400</td>\n",
       "      <td>2022-06-15T09:57:00.000-04:00||2022-06-15T19:1...</td>\n",
       "      <td>ATL||SFO</td>\n",
       "      <td>MIA||ATL</td>\n",
       "      <td>Delta||Delta</td>\n",
       "      <td>DL||DL</td>\n",
       "      <td>Boeing 757||Boeing 757-300</td>\n",
       "      <td>6720||18300</td>\n",
       "      <td>596||2135</td>\n",
       "      <td>[coach, coach]</td>\n",
       "    </tr>\n",
       "    <tr>\n",
       "      <th>13519995</th>\n",
       "      <td>1655321160||1655338500</td>\n",
       "      <td>2022-06-15T15:26:00.000-04:00||2022-06-15T20:1...</td>\n",
       "      <td>1655333100||1655361840</td>\n",
       "      <td>2022-06-15T18:45:00.000-04:00||2022-06-15T23:4...</td>\n",
       "      <td>JFK||SFO</td>\n",
       "      <td>MIA||JFK</td>\n",
       "      <td>Delta||Alaska Airlines</td>\n",
       "      <td>DL||AS</td>\n",
       "      <td>Boeing 737-800||AIRBUS INDUSTRIE A321 SHARKLETS</td>\n",
       "      <td>11940||23340</td>\n",
       "      <td>1104||2566</td>\n",
       "      <td>[coach, coach]</td>\n",
       "    </tr>\n",
       "    <tr>\n",
       "      <th>13519996</th>\n",
       "      <td>1655306100||1655326500</td>\n",
       "      <td>2022-06-15T11:15:00.000-04:00||2022-06-15T16:5...</td>\n",
       "      <td>1655317200||1655349900</td>\n",
       "      <td>2022-06-15T14:20:00.000-04:00||2022-06-15T20:2...</td>\n",
       "      <td>JFK||SFO</td>\n",
       "      <td>MIA||JFK</td>\n",
       "      <td>Delta||Alaska Airlines</td>\n",
       "      <td>DL||AS</td>\n",
       "      <td>Boeing 737-800||Boeing 737-900</td>\n",
       "      <td>11100||23400</td>\n",
       "      <td>1104||2566</td>\n",
       "      <td>[coach, coach]</td>\n",
       "    </tr>\n",
       "    <tr>\n",
       "      <th>13519997</th>\n",
       "      <td>1655292000||1655312400</td>\n",
       "      <td>2022-06-15T07:20:00.000-04:00||2022-06-15T13:0...</td>\n",
       "      <td>1655302800||1655335800</td>\n",
       "      <td>2022-06-15T10:20:00.000-04:00||2022-06-15T16:3...</td>\n",
       "      <td>JFK||SFO</td>\n",
       "      <td>MIA||JFK</td>\n",
       "      <td>Delta||Alaska Airlines</td>\n",
       "      <td>DL||AS</td>\n",
       "      <td>Boeing 737-800||AIRBUS INDUSTRIE A321 SHARKLETS</td>\n",
       "      <td>10800||23400</td>\n",
       "      <td>1104||2566</td>\n",
       "      <td>[coach, coach]</td>\n",
       "    </tr>\n",
       "    <tr>\n",
       "      <th>13519998</th>\n",
       "      <td>1655292000||1655326500</td>\n",
       "      <td>2022-06-15T07:20:00.000-04:00||2022-06-15T16:5...</td>\n",
       "      <td>1655302800||1655349900</td>\n",
       "      <td>2022-06-15T10:20:00.000-04:00||2022-06-15T20:2...</td>\n",
       "      <td>JFK||SFO</td>\n",
       "      <td>MIA||JFK</td>\n",
       "      <td>Delta||Alaska Airlines</td>\n",
       "      <td>DL||AS</td>\n",
       "      <td>Boeing 737-800||Boeing 737-900</td>\n",
       "      <td>10800||23400</td>\n",
       "      <td>1104||2566</td>\n",
       "      <td>[coach, coach]</td>\n",
       "    </tr>\n",
       "  </tbody>\n",
       "</table>\n",
       "<p>13519999 rows × 12 columns</p>\n",
       "</div>"
      ],
      "text/plain": [
       "         segmentsDepartureTimeEpochSeconds  \\\n",
       "0                   1653098280||1653115980   \n",
       "1                   1653062160||1653069060   \n",
       "2                   1653051900||1653069060   \n",
       "3                   1653105360||1653114000   \n",
       "4                   1653108060||1653141600   \n",
       "...                                    ...   \n",
       "13519994            1655294700||1655327100   \n",
       "13519995            1655321160||1655338500   \n",
       "13519996            1655306100||1655326500   \n",
       "13519997            1655292000||1655312400   \n",
       "13519998            1655292000||1655326500   \n",
       "\n",
       "                                   segmentsDepartureTimeRaw  \\\n",
       "0         2022-05-20T18:58:00.000-07:00||2022-05-21T00:5...   \n",
       "1         2022-05-20T08:56:00.000-07:00||2022-05-20T10:5...   \n",
       "2         2022-05-20T06:05:00.000-07:00||2022-05-20T10:5...   \n",
       "3         2022-05-20T20:56:00.000-07:00||2022-05-20T23:2...   \n",
       "4         2022-05-20T21:41:00.000-07:00||2022-05-21T07:0...   \n",
       "...                                                     ...   \n",
       "13519994  2022-06-15T08:05:00.000-04:00||2022-06-15T17:0...   \n",
       "13519995  2022-06-15T15:26:00.000-04:00||2022-06-15T20:1...   \n",
       "13519996  2022-06-15T11:15:00.000-04:00||2022-06-15T16:5...   \n",
       "13519997  2022-06-15T07:20:00.000-04:00||2022-06-15T13:0...   \n",
       "13519998  2022-06-15T07:20:00.000-04:00||2022-06-15T16:5...   \n",
       "\n",
       "         segmentsArrivalTimeEpochSeconds  \\\n",
       "0                 1653107460||1653126600   \n",
       "1                 1653067080||1653084660   \n",
       "2                 1653056820||1653084660   \n",
       "3                 1653110940||1653127980   \n",
       "4                 1653115560||1653159180   \n",
       "...                                  ...   \n",
       "13519994          1655301420||1655345400   \n",
       "13519995          1655333100||1655361840   \n",
       "13519996          1655317200||1655349900   \n",
       "13519997          1655302800||1655335800   \n",
       "13519998          1655302800||1655349900   \n",
       "\n",
       "                                     segmentsArrivalTimeRaw  \\\n",
       "0         2022-05-20T22:31:00.000-06:00||2022-05-21T05:5...   \n",
       "1         2022-05-20T10:18:00.000-07:00||2022-05-20T18:1...   \n",
       "2         2022-05-20T07:27:00.000-07:00||2022-05-20T18:1...   \n",
       "3         2022-05-20T22:29:00.000-07:00||2022-05-21T06:1...   \n",
       "4         2022-05-20T23:46:00.000-07:00||2022-05-21T14:5...   \n",
       "...                                                     ...   \n",
       "13519994  2022-06-15T09:57:00.000-04:00||2022-06-15T19:1...   \n",
       "13519995  2022-06-15T18:45:00.000-04:00||2022-06-15T23:4...   \n",
       "13519996  2022-06-15T14:20:00.000-04:00||2022-06-15T20:2...   \n",
       "13519997  2022-06-15T10:20:00.000-04:00||2022-06-15T16:3...   \n",
       "13519998  2022-06-15T10:20:00.000-04:00||2022-06-15T20:2...   \n",
       "\n",
       "         segmentsArrivalAirportCode segmentsDepartureAirportCode  \\\n",
       "0                          DEN||ATL                     OAK||DEN   \n",
       "1                          LAX||ATL                     OAK||LAX   \n",
       "2                          LAX||ATL                     OAK||LAX   \n",
       "3                          LAS||ATL                     OAK||LAS   \n",
       "4                          SEA||ATL                     OAK||SEA   \n",
       "...                             ...                          ...   \n",
       "13519994                   ATL||SFO                     MIA||ATL   \n",
       "13519995                   JFK||SFO                     MIA||JFK   \n",
       "13519996                   JFK||SFO                     MIA||JFK   \n",
       "13519997                   JFK||SFO                     MIA||JFK   \n",
       "13519998                   JFK||SFO                     MIA||JFK   \n",
       "\n",
       "                           segmentsAirlineName segmentsAirlineCode  \\\n",
       "0         Frontier Airlines||Frontier Airlines              F9||F9   \n",
       "1             Spirit Airlines||Spirit Airlines              NK||NK   \n",
       "2             Spirit Airlines||Spirit Airlines              NK||NK   \n",
       "3             Spirit Airlines||Spirit Airlines              NK||NK   \n",
       "4             Alaska Airlines||Alaska Airlines              AS||AS   \n",
       "...                                        ...                 ...   \n",
       "13519994                          Delta||Delta              DL||DL   \n",
       "13519995                Delta||Alaska Airlines              DL||AS   \n",
       "13519996                Delta||Alaska Airlines              DL||AS   \n",
       "13519997                Delta||Alaska Airlines              DL||AS   \n",
       "13519998                Delta||Alaska Airlines              DL||AS   \n",
       "\n",
       "                               segmentsEquipmentDescription  \\\n",
       "0                                             ||Airbus A320   \n",
       "1                         ||AIRBUS INDUSTRIE A320 SHARKLETS   \n",
       "2         AIRBUS INDUSTRIE A320 SHARKLETS||AIRBUS INDUST...   \n",
       "3              AIRBUS INDUSTRIE A320 SHARKLETS||Airbus A319   \n",
       "4                            Boeing 737-900||Boeing 737-900   \n",
       "...                                                     ...   \n",
       "13519994                         Boeing 757||Boeing 757-300   \n",
       "13519995    Boeing 737-800||AIRBUS INDUSTRIE A321 SHARKLETS   \n",
       "13519996                     Boeing 737-800||Boeing 737-900   \n",
       "13519997    Boeing 737-800||AIRBUS INDUSTRIE A321 SHARKLETS   \n",
       "13519998                     Boeing 737-800||Boeing 737-900   \n",
       "\n",
       "         segmentsDurationInSeconds segmentsDistance segmentsCabinCode  \n",
       "0                      9180||10620        943||1207    [coach, coach]  \n",
       "1                      4920||15600       None||None    [coach, coach]  \n",
       "2                      4920||15600       None||None    [coach, coach]  \n",
       "3                      5580||13980       None||None    [coach, coach]  \n",
       "4                      7500||17580        672||2178    [coach, coach]  \n",
       "...                            ...              ...               ...  \n",
       "13519994               6720||18300        596||2135    [coach, coach]  \n",
       "13519995              11940||23340       1104||2566    [coach, coach]  \n",
       "13519996              11100||23400       1104||2566    [coach, coach]  \n",
       "13519997              10800||23400       1104||2566    [coach, coach]  \n",
       "13519998              10800||23400       1104||2566    [coach, coach]  \n",
       "\n",
       "[13519999 rows x 12 columns]"
      ]
     },
     "execution_count": 42,
     "metadata": {},
     "output_type": "execute_result"
    }
   ],
   "source": [
    "selected_columns"
   ]
  },
  {
   "cell_type": "code",
   "execution_count": null,
   "metadata": {},
   "outputs": [
    {
     "name": "stdout",
     "output_type": "stream",
     "text": [
      "<class 'pandas.core.frame.DataFrame'>\n",
      "RangeIndex: 13519999 entries, 0 to 13519998\n",
      "Data columns (total 23 columns):\n",
      " #   Column                             Dtype  \n",
      "---  ------                             -----  \n",
      " 0   legId                              object \n",
      " 1   searchDate                         object \n",
      " 2   flightDate                         object \n",
      " 3   startingAirport                    object \n",
      " 4   destinationAirport                 object \n",
      " 5   travelDuration                     object \n",
      " 6   isBasicEconomy                     bool   \n",
      " 7   isRefundable                       bool   \n",
      " 8   isNonStop                          bool   \n",
      " 9   totalFare                          float64\n",
      " 10  totalTravelDistance                float64\n",
      " 11  segmentsDepartureTimeEpochSeconds  object \n",
      " 12  segmentsDepartureTimeRaw           object \n",
      " 13  segmentsArrivalTimeEpochSeconds    object \n",
      " 14  segmentsArrivalTimeRaw             object \n",
      " 15  segmentsArrivalAirportCode         object \n",
      " 16  segmentsDepartureAirportCode       object \n",
      " 17  segmentsAirlineName                object \n",
      " 18  segmentsAirlineCode                object \n",
      " 19  segmentsEquipmentDescription       object \n",
      " 20  segmentsDurationInSeconds          object \n",
      " 21  segmentsDistance                   object \n",
      " 22  segmentsCabinCode                  object \n",
      "dtypes: bool(3), float64(2), object(18)\n",
      "memory usage: 2.1+ GB\n"
     ]
    }
   ],
   "source": [
    "all_airport.info()"
   ]
  },
  {
   "cell_type": "markdown",
   "metadata": {},
   "source": [
    "## Split with regular expression"
   ]
  },
  {
   "cell_type": "code",
   "execution_count": null,
   "metadata": {},
   "outputs": [],
   "source": [
    "columns = ['segmentsDepartureTimeEpochSeconds', 'segmentsDepartureTimeRaw',\n",
    "           'segmentsArrivalTimeEpochSeconds', 'segmentsArrivalTimeRaw',\n",
    "           'segmentsArrivalAirportCode', 'segmentsDepartureAirportCode', 'segmentsAirlineCode',\n",
    "           'segmentsEquipmentDescription', 'segmentsDurationInSeconds',\n",
    "           'segmentsDistance', 'segmentsCabinCode']"
   ]
  },
  {
   "cell_type": "code",
   "execution_count": null,
   "metadata": {},
   "outputs": [],
   "source": [
    "# # Apply the split operation to each column using a lambda function\n",
    "# for column in columns:\n",
    "#     all_airport[column] = all_airport[column].apply(lambda x: re.split(r'\\|\\|', x))"
   ]
  },
  {
   "cell_type": "code",
   "execution_count": null,
   "metadata": {},
   "outputs": [
    {
     "data": {
      "text/html": [
       "<div>\n",
       "<style scoped>\n",
       "    .dataframe tbody tr th:only-of-type {\n",
       "        vertical-align: middle;\n",
       "    }\n",
       "\n",
       "    .dataframe tbody tr th {\n",
       "        vertical-align: top;\n",
       "    }\n",
       "\n",
       "    .dataframe thead th {\n",
       "        text-align: right;\n",
       "    }\n",
       "</style>\n",
       "<table border=\"1\" class=\"dataframe\">\n",
       "  <thead>\n",
       "    <tr style=\"text-align: right;\">\n",
       "      <th></th>\n",
       "      <th>totalFare</th>\n",
       "      <th>totalTravelDistance</th>\n",
       "    </tr>\n",
       "  </thead>\n",
       "  <tbody>\n",
       "    <tr>\n",
       "      <th>count</th>\n",
       "      <td>1.352000e+07</td>\n",
       "      <td>1.256038e+07</td>\n",
       "    </tr>\n",
       "    <tr>\n",
       "      <th>mean</th>\n",
       "      <td>3.737535e+02</td>\n",
       "      <td>1.569619e+03</td>\n",
       "    </tr>\n",
       "    <tr>\n",
       "      <th>std</th>\n",
       "      <td>2.075496e+02</td>\n",
       "      <td>8.414888e+02</td>\n",
       "    </tr>\n",
       "    <tr>\n",
       "      <th>min</th>\n",
       "      <td>2.397000e+01</td>\n",
       "      <td>9.700000e+01</td>\n",
       "    </tr>\n",
       "    <tr>\n",
       "      <th>25%</th>\n",
       "      <td>2.235800e+02</td>\n",
       "      <td>8.620000e+02</td>\n",
       "    </tr>\n",
       "    <tr>\n",
       "      <th>50%</th>\n",
       "      <td>3.446000e+02</td>\n",
       "      <td>1.392000e+03</td>\n",
       "    </tr>\n",
       "    <tr>\n",
       "      <th>75%</th>\n",
       "      <td>4.876000e+02</td>\n",
       "      <td>2.376000e+03</td>\n",
       "    </tr>\n",
       "    <tr>\n",
       "      <th>max</th>\n",
       "      <td>8.260610e+03</td>\n",
       "      <td>4.430000e+03</td>\n",
       "    </tr>\n",
       "  </tbody>\n",
       "</table>\n",
       "</div>"
      ],
      "text/plain": [
       "          totalFare  totalTravelDistance\n",
       "count  1.352000e+07         1.256038e+07\n",
       "mean   3.737535e+02         1.569619e+03\n",
       "std    2.075496e+02         8.414888e+02\n",
       "min    2.397000e+01         9.700000e+01\n",
       "25%    2.235800e+02         8.620000e+02\n",
       "50%    3.446000e+02         1.392000e+03\n",
       "75%    4.876000e+02         2.376000e+03\n",
       "max    8.260610e+03         4.430000e+03"
      ]
     },
     "execution_count": 46,
     "metadata": {},
     "output_type": "execute_result"
    }
   ],
   "source": [
    "# all_airport.describe()"
   ]
  },
  {
   "cell_type": "code",
   "execution_count": null,
   "metadata": {},
   "outputs": [],
   "source": []
  },
  {
   "cell_type": "code",
   "execution_count": null,
   "metadata": {},
   "outputs": [],
   "source": []
  },
  {
   "cell_type": "markdown",
   "metadata": {},
   "source": [
    "- legId                                      0\n",
    "- searchDate                                0\n",
    "- flightDate                                0\n",
    "- startingAirport                           0\n",
    "- destinationAirport                        0\n",
    "- travelDuration                            0\n",
    "- isBasicEconomy                            0\n",
    "isRefundable                              0\n",
    "totalFare                                 0 (y)\n",
    "totalTravelDistance                  959619\n",
    "segmentsDepartureTimeEpochSeconds         0\n",
    "segmentsArrivalTimeEpochSeconds           0\n",
    "segmentsArrivalAirportCode                0\n",
    "segmentsDepartureAirportCode              0\n",
    "segmentsAirlineCode                       0\n",
    "segmentsEquipmentDescription         262676\n",
    "segmentsDurationInSeconds                 0 -> sum\n",
    "segmentsDistance                          0 -> sum\n",
    "segmentsCabinCode                         0\n",
    "-------\n",
    "travelLayover (travelDuration - segmentsDurationInSeconds)\n",
    "datediff (flightDate - searchDate)\n",
    "transitAirportCode (list) -> check arrival departure \n",
    "numberOfTransit -> count (transitAirportCode)"
   ]
  },
  {
   "cell_type": "markdown",
   "metadata": {},
   "source": [
    "## Visualisation"
   ]
  },
  {
   "cell_type": "code",
   "execution_count": null,
   "metadata": {},
   "outputs": [
    {
     "data": {
      "image/png": "[encoded data removed]",
      "text/plain": [
       "<Figure size 640x480 with 1 Axes>"
      ]
     },
     "metadata": {},
     "output_type": "display_data"
    }
   ],
   "source": [
    "import matplotlib.pyplot as plt\n",
    "# Calculate the value counts for 'segmentsAirlineCode'\n",
    "value_counts = all_airport['segmentsAirlineCode'].value_counts()\n",
    "\n",
    "# Filter for values with more than 10 counts\n",
    "filtered_value_counts = value_counts[value_counts > 10000]\n",
    "\n",
    "# Create a bar plot for the filtered value counts\n",
    "filtered_value_counts.plot(kind='bar')\n",
    "\n",
    "# Set labels and title\n",
    "plt.xlabel('Airline Code')\n",
    "plt.ylabel('Count')\n",
    "plt.title('Airline Codes with More Than 10 Occurrences')\n",
    "\n",
    "# Show the plot\n",
    "plt.show()"
   ]
  },
  {
   "cell_type": "code",
   "execution_count": null,
   "metadata": {},
   "outputs": [
    {
     "data": {
      "image/png": "[encoded data removed]",
      "text/plain": [
       "<Figure size 640x480 with 1 Axes>"
      ]
     },
     "metadata": {},
     "output_type": "display_data"
    }
   ],
   "source": [
    "import matplotlib.pyplot as plt\n",
    "# Calculate the value counts for 'segmentsAirlineCode'\n",
    "value_counts = all_airport['segmentsCabinCode'].value_counts()\n",
    "\n",
    "# Filter for values with more than 10 counts\n",
    "filtered_value_counts = value_counts[value_counts > 100]\n",
    "\n",
    "# Create a bar plot for the filtered value counts\n",
    "filtered_value_counts.plot(kind='bar')\n",
    "\n",
    "# Set labels and title\n",
    "plt.xlabel('Airline Code')\n",
    "plt.ylabel('Count')\n",
    "plt.title('Airline Codes with More Than 10 Occurrences')\n",
    "\n",
    "# Show the plot\n",
    "plt.show()"
   ]
  }
 ],
 "metadata": {
  "kernelspec": {
   "display_name": "Python 3",
   "language": "python",
   "name": "python3"
  },
  "language_info": {
   "codemirror_mode": {
    "name": "ipython",
    "version": 3
   },
   "file_extension": ".py",
   "mimetype": "text/x-python",
   "name": "python",
   "nbconvert_exporter": "python",
   "pygments_lexer": "ipython3",
   "version": "3.11.2"
  }
 },
 "nbformat": 4,
 "nbformat_minor": 2
}
