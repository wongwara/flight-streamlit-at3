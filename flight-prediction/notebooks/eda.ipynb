{
 "cells": [
  {
   "cell_type": "code",
   "execution_count": 14,
   "metadata": {},
   "outputs": [],
   "source": [
    "import zipfile\n",
    "import pandas as pd\n",
    "import os\n",
    "import re\n",
    "\n",
    "# Directory where the ZIP files are located\n",
    "base_directory = '../data/raw/itineraries_csv'\n",
    "\n",
    "# Create an empty DataFrame to store the results\n",
    "result_df = pd.DataFrame()\n",
    "\n",
    "# Define a regular expression pattern to match filenames ending with two lowercase letters\n",
    "file_pattern = re.compile(r'.*[a-z][a-z]\\.zip')\n",
    "\n",
    "# List all airport folders in the base directory\n",
    "airport_names = [name for name in os.listdir(base_directory) if os.path.isdir(os.path.join(base_directory, name))]\n",
    "\n",
    "dfs = []  # Create a list to store DataFrames\n",
    "\n",
    "for airport_name in airport_names:\n",
    "    # Directory path for the current airport\n",
    "    zip_directory = os.path.join(base_directory, airport_name)\n",
    "    \n",
    "    # List all files in the airport's folder\n",
    "    file_list = os.listdir(zip_directory)\n",
    "\n",
    "    for filename in file_list:\n",
    "        if file_pattern.match(filename):\n",
    "            zip_file_path = os.path.join(zip_directory, filename)\n",
    "            csv_file_path_inside_zip = filename.replace('.zip', '.csv')\n",
    "            \n",
    "            # Create a ZipFile object and read the CSV file\n",
    "            with zipfile.ZipFile(zip_file_path, 'r') as zf:\n",
    "                df = pd.read_csv(zf.open(csv_file_path_inside_zip))\n",
    "\n",
    "            # Append the DataFrame for this filename to the list of DataFrames\n",
    "            dfs.append(df)\n",
    "\n",
    "# Use pandas.concat to concatenate the list of DataFrames into a single DataFrame\n",
    "all_airport = pd.concat(dfs, ignore_index=True)"
   ]
  },
  {
   "cell_type": "markdown",
   "metadata": {},
   "source": [
    "## Feature Engineering"
   ]
  },
  {
   "cell_type": "code",
   "execution_count": 15,
   "metadata": {},
   "outputs": [],
   "source": [
    "all_airport['flightDate'] = pd.to_datetime(all_airport['flightDate'])"
   ]
  },
  {
   "cell_type": "code",
   "execution_count": 16,
   "metadata": {},
   "outputs": [],
   "source": [
    "all_airport['searchDate'] = pd.to_datetime(all_airport['searchDate'])"
   ]
  },
  {
   "cell_type": "markdown",
   "metadata": {},
   "source": [
    "## 1. dateDifference"
   ]
  },
  {
   "cell_type": "markdown",
   "metadata": {},
   "source": [
    "`days = flightDate- searchDate` show how many day before book the flight\n",
    "\n",
    "For streamlit we might can use the get current date and do flightDate - currentDate"
   ]
  },
  {
   "cell_type": "code",
   "execution_count": null,
   "metadata": {},
   "outputs": [],
   "source": [
    "# Calculate the date difference and create a new column 'dateDifference'\n",
    "all_airport['dateDifference'] =all_airport['flightDate'] - all_airport['searchDate']"
   ]
  },
  {
   "cell_type": "code",
   "execution_count": null,
   "metadata": {},
   "outputs": [],
   "source": [
    "all_airport['dateDifference'] = all_airport['dateDifference'].dt.days"
   ]
  },
  {
   "cell_type": "code",
   "execution_count": null,
   "metadata": {},
   "outputs": [],
   "source": [
    "all_airport['dateDifference'].unique()"
   ]
  },
  {
   "cell_type": "code",
   "execution_count": null,
   "metadata": {},
   "outputs": [],
   "source": [
    "all_airport['dateDifference'].sample(10)"
   ]
  },
  {
   "cell_type": "markdown",
   "metadata": {},
   "source": [
    "## List for legs"
   ]
  },
  {
   "cell_type": "code",
   "execution_count": null,
   "metadata": {},
   "outputs": [],
   "source": [
    "all_airport['segmentsAirlineCode'] = all_airport['segmentsAirlineCode'].apply(lambda x: re.split(r'\\|\\|', x))"
   ]
  },
  {
   "cell_type": "code",
   "execution_count": null,
   "metadata": {},
   "outputs": [],
   "source": [
    "all_airport['segmentsAirlineCode'].sample(10)"
   ]
  },
  {
   "cell_type": "code",
   "execution_count": null,
   "metadata": {},
   "outputs": [],
   "source": [
    "all_airport['segmentsAirlineCode'].apply(lambda x: len(x)).unique()"
   ]
  },
  {
   "cell_type": "code",
   "execution_count": null,
   "metadata": {},
   "outputs": [],
   "source": [
    "from datetime import datetime"
   ]
  },
  {
   "cell_type": "code",
   "execution_count": null,
   "metadata": {},
   "outputs": [],
   "source": [
    "# Split the column using '||' as the delimiter and convert to seconds\n",
    "all_airport['segmentsDepartureTimeEpochSeconds'] = all_airport['segmentsDepartureTimeEpochSeconds'].str.split(r'\\|\\|').apply(lambda x: [int(value) for value in x])\n",
    "\n",
    "# Convert the seconds to datetime objects\n",
    "all_airport['segmentsDepartureTimeEpochSeconds'] = all_airport['segmentsDepartureTimeEpochSeconds'].apply(lambda x: [datetime.fromtimestamp(seconds) for seconds in x])\n"
   ]
  },
  {
   "cell_type": "code",
   "execution_count": null,
   "metadata": {},
   "outputs": [],
   "source": [
    "all_airport['segmentsDepartureTimeEpochSeconds']"
   ]
  },
  {
   "cell_type": "code",
   "execution_count": null,
   "metadata": {},
   "outputs": [],
   "source": [
    "# Convert the list of datetime objects to a list of Unix timestamps (in seconds)\n",
    "all_airport['segmentsDepartureTimeEpochSeconds'] = all_airport['segmentsDepartureTimeEpochSeconds'].apply(lambda x: [int(dt.timestamp()) for dt in x])\n"
   ]
  },
  {
   "cell_type": "code",
   "execution_count": null,
   "metadata": {},
   "outputs": [],
   "source": [
    "all_airport['segmentsDepartureTimeEpochSeconds']"
   ]
  },
  {
   "cell_type": "code",
   "execution_count": null,
   "metadata": {},
   "outputs": [],
   "source": [
    "columns = ['segmentsDepartureTimeEpochSeconds', 'segmentsDepartureTimeRaw',\n",
    "       'segmentsArrivalTimeEpochSeconds', 'segmentsArrivalTimeRaw',\n",
    "       'segmentsArrivalAirportCode', 'segmentsDepartureAirportCode',\n",
    "       'segmentsAirlineName', 'segmentsAirlineCode',\n",
    "       'segmentsEquipmentDescription', 'segmentsDurationInSeconds',\n",
    "       'segmentsDistance', 'segmentsCabinCode']"
   ]
  },
  {
   "cell_type": "code",
   "execution_count": null,
   "metadata": {},
   "outputs": [],
   "source": [
    "selected_columns = all_airport[columns]"
   ]
  },
  {
   "cell_type": "code",
   "execution_count": null,
   "metadata": {},
   "outputs": [],
   "source": [
    "selected_columns"
   ]
  },
  {
   "cell_type": "code",
   "execution_count": null,
   "metadata": {},
   "outputs": [],
   "source": [
    "all_airport.info()"
   ]
  },
  {
   "cell_type": "markdown",
   "metadata": {},
   "source": [
    "## Split with regular expression"
   ]
  },
  {
   "cell_type": "code",
   "execution_count": null,
   "metadata": {},
   "outputs": [],
   "source": [
    "columns = ['segmentsDepartureTimeEpochSeconds', 'segmentsDepartureTimeRaw',\n",
    "           'segmentsArrivalTimeEpochSeconds', 'segmentsArrivalTimeRaw',\n",
    "           'segmentsArrivalAirportCode', 'segmentsDepartureAirportCode', 'segmentsAirlineCode',\n",
    "           'segmentsEquipmentDescription', 'segmentsDurationInSeconds',\n",
    "           'segmentsDistance', 'segmentsCabinCode']"
   ]
  },
  {
   "cell_type": "code",
   "execution_count": null,
   "metadata": {},
   "outputs": [],
   "source": [
    "# # Apply the split operation to each column using a lambda function\n",
    "# for column in columns:\n",
    "#     all_airport[column] = all_airport[column].apply(lambda x: re.split(r'\\|\\|', x))"
   ]
  },
  {
   "cell_type": "code",
   "execution_count": null,
   "metadata": {},
   "outputs": [],
   "source": [
    "# all_airport.describe()"
   ]
  },
  {
   "cell_type": "code",
   "execution_count": null,
   "metadata": {},
   "outputs": [],
   "source": []
  },
  {
   "cell_type": "code",
   "execution_count": null,
   "metadata": {},
   "outputs": [],
   "source": []
  },
  {
   "cell_type": "markdown",
   "metadata": {},
   "source": [
    "- legId                                      0\n",
    "- searchDate                                0\n",
    "- flightDate                                0\n",
    "- startingAirport                           0\n",
    "- destinationAirport                        0\n",
    "- travelDuration                            0\n",
    "- isBasicEconomy                            0\n",
    "isRefundable                              0\n",
    "totalFare                                 0 (y)\n",
    "totalTravelDistance                  959619\n",
    "segmentsDepartureTimeEpochSeconds         0\n",
    "segmentsArrivalTimeEpochSeconds           0\n",
    "segmentsArrivalAirportCode                0\n",
    "segmentsDepartureAirportCode              0\n",
    "segmentsAirlineCode                       0\n",
    "segmentsEquipmentDescription         262676\n",
    "segmentsDurationInSeconds                 0 -> sum\n",
    "segmentsDistance                          0 -> sum\n",
    "segmentsCabinCode                         0\n",
    "-------\n",
    "travelLayover (travelDuration - segmentsDurationInSeconds)\n",
    "datediff (flightDate - searchDate)\n",
    "transitAirportCode (list) -> check arrival departure \n",
    "numberOfTransit -> count (transitAirportCode)"
   ]
  },
  {
   "cell_type": "markdown",
   "metadata": {},
   "source": [
    "## Visualisation"
   ]
  },
  {
   "cell_type": "code",
   "execution_count": null,
   "metadata": {},
   "outputs": [],
   "source": [
    "import matplotlib.pyplot as plt\n",
    "# Calculate the value counts for 'segmentsAirlineCode'\n",
    "value_counts = all_airport['segmentsAirlineCode'].value_counts()\n",
    "\n",
    "# Filter for values with more than 10 counts\n",
    "filtered_value_counts = value_counts[value_counts > 10000]\n",
    "\n",
    "# Create a bar plot for the filtered value counts\n",
    "filtered_value_counts.plot(kind='bar')\n",
    "\n",
    "# Set labels and title\n",
    "plt.xlabel('Airline Code')\n",
    "plt.ylabel('Count')\n",
    "plt.title('Airline Codes with More Than 10 Occurrences')\n",
    "\n",
    "# Show the plot\n",
    "plt.show()"
   ]
  },
  {
   "cell_type": "code",
   "execution_count": null,
   "metadata": {},
   "outputs": [],
   "source": [
    "import matplotlib.pyplot as plt\n",
    "# Calculate the value counts for 'segmentsAirlineCode'\n",
    "value_counts = all_airport['segmentsCabinCode'].value_counts()\n",
    "\n",
    "# Filter for values with more than 10 counts\n",
    "filtered_value_counts = value_counts[value_counts > 100]\n",
    "\n",
    "# Create a bar plot for the filtered value counts\n",
    "filtered_value_counts.plot(kind='bar')\n",
    "\n",
    "# Set labels and title\n",
    "plt.xlabel('Airline Code')\n",
    "plt.ylabel('Count')\n",
    "plt.title('Airline Codes with More Than 10 Occurrences')\n",
    "\n",
    "# Show the plot\n",
    "plt.show()"
   ]
  }
 ],
 "metadata": {
  "kernelspec": {
   "display_name": "Python 3",
   "language": "python",
   "name": "python3"
  },
  "language_info": {
   "codemirror_mode": {
    "name": "ipython",
    "version": 3
   },
   "file_extension": ".py",
   "mimetype": "text/x-python",
   "name": "python",
   "nbconvert_exporter": "python",
   "pygments_lexer": "ipython3",
   "version": "3.11.2"
  }
 },
 "nbformat": 4,
 "nbformat_minor": 2
}
