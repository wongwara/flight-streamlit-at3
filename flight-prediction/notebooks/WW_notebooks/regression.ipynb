{
 "cells": [
  {
   "attachments": {},
   "cell_type": "markdown",
   "metadata": {},
   "source": [
    "## import dataset for train model"
   ]
  },
  {
   "cell_type": "code",
   "execution_count": 1,
   "metadata": {},
   "outputs": [],
   "source": [
    "import sys\n",
    "import pandas as pd \n",
    "sys.path.insert(0, '../../src')"
   ]
  },
  {
   "cell_type": "code",
   "execution_count": 2,
   "metadata": {},
   "outputs": [],
   "source": [
    "from data.make_dataset import load_sets\n",
    "X_train, y_train, X_val, y_val, X_test, y_test = load_sets(path='../../data/processed/')"
   ]
  },
  {
   "cell_type": "markdown",
   "metadata": {},
   "source": [
    "## Get Baseline Model"
   ]
  },
  {
   "cell_type": "code",
   "execution_count": 3,
   "metadata": {},
   "outputs": [
    {
     "name": "stdout",
     "output_type": "stream",
     "text": [
      "MSE Training: 1.0008648851928268\n",
      "MAE Training: 0.7466010716968183\n",
      "R2_score Training: 0.0\n"
     ]
    }
   ],
   "source": [
    "from models.null import NullRegressor\n",
    "base_model = NullRegressor()\n",
    "y_base = base_model.fit_predict(y_train)\n",
    "from models.predict_model import print_regressor_scores\n",
    "print_regressor_scores(y_preds=y_base, y_actuals=y_train, set_name='Training')"
   ]
  },
  {
   "cell_type": "markdown",
   "metadata": {},
   "source": [
    "## Modelling\n",
    "Starting with regression approaches, we will use the following models:\n",
    "\n",
    "1. Decision Tree Regression\n",
    "2. XGBoost Regression (default)\n",
    "3. XGBoost Regression (Gridsearch)\n",
    "4. Random Forest Regressor"
   ]
  },
  {
   "cell_type": "markdown",
   "metadata": {},
   "source": [
    "## DecisionTree"
   ]
  },
  {
   "cell_type": "markdown",
   "metadata": {},
   "source": [
    "## Decision Tree Regression\n",
    "Decision Tree Regression is a non-linear regression algorithm that models data as a tree-like structure of decisions and outcomes. It partitions the feature space into regions and assigns a constant value to each region, making it suitable for capturing complex relationships in the data.\n",
    "\n",
    "### Why Decision Tree Regression for fare precition?\n",
    "\n",
    "1. **Non-linearity:**  Decision trees can capture non-linear relationships between input features and the target variable. In the case of fare prediction, factors influencing the fare may not follow a simple linear pattern, and decision trees can model complex relationships.\n",
    "2. **Interpretability:** Decision trees are inherently interpretable, allowing you to visualize and understand how the model makes predictions. This can be beneficial for stakeholders who require transparency.\n",
    "3. **Handling Categorical Data:** Decision trees can handle both categorical and numerical data, making them versatile for various fare prediction tasks.\n",
    "In the following sections, we will build a Decision Tree Regression model using the selected features to predict total fare. We will analyze the tree structure and assess its performance on the dataset."
   ]
  },
  {
   "cell_type": "code",
   "execution_count": 18,
   "metadata": {},
   "outputs": [],
   "source": [
    "# Decsion Tree Regressor\n",
    "from sklearn.tree import DecisionTreeRegressor"
   ]
  },
  {
   "cell_type": "code",
   "execution_count": 19,
   "metadata": {},
   "outputs": [
    {
     "name": "stdout",
     "output_type": "stream",
     "text": [
      "MSE Training: 0.5146222341659272\n",
      "MAE Training: 0.5156166134098724\n",
      "R2_score Training: 0.485822\n"
     ]
    }
   ],
   "source": [
    "tree = DecisionTreeRegressor(max_depth=5)\n",
    "tree.fit(X_train, y_train)\n",
    "\n",
    "# Model evaluation for training set\n",
    "y_train_preds_tree = tree.predict(X_train)\n",
    "\n",
    "# Model evaluation for val set\n",
    "y_val_preds_tree = tree.predict(X_val)\n",
    "print_regressor_scores(y_preds=y_train_preds_tree, y_actuals=y_train, set_name='Training')"
   ]
  },
  {
   "cell_type": "markdown",
   "metadata": {},
   "source": [
    "The training data's MSE is around 0.514. This means that the model's predictions have an average inaccuracy of 0.514 units on the same scale as target variable. Because a lower MSE indicates superior model performance, a lower number is prefered.\n",
    "\n",
    "The MAE on the training data is approximately 0.515. This means that, on average, the model's predictions have an absolute error of about 0.515 units"
   ]
  },
  {
   "cell_type": "code",
   "execution_count": 20,
   "metadata": {},
   "outputs": [
    {
     "name": "stdout",
     "output_type": "stream",
     "text": [
      "MSE Validation: 0.5137273705151021\n",
      "MAE Validation: 0.5154562182257725\n",
      "R2_score Validation: 0.484277\n"
     ]
    }
   ],
   "source": [
    "print_regressor_scores(y_preds=y_val_preds_tree, y_actuals=y_val, set_name='Validation')"
   ]
  },
  {
   "cell_type": "markdown",
   "metadata": {},
   "source": [
    "The validation data's MSE is around 0.513. This means that the model's predictions have an average inaccuracy of 0.513 units on the same scale as target variable. Because a lower MSE indicates superior model performance, a lower number is prefered.\n",
    "\n",
    "the MAE on the validation data is approximately 0.515. This means that, on average, the model's predictions have an absolute error of about 0.515 units"
   ]
  },
  {
   "cell_type": "code",
   "execution_count": 8,
   "metadata": {},
   "outputs": [
    {
     "data": {
      "text/plain": [
       "['../../src/models/regression/decision_tree.joblib']"
      ]
     },
     "execution_count": 8,
     "metadata": {},
     "output_type": "execute_result"
    }
   ],
   "source": [
    "from joblib import dump\n",
    "dump(tree,  '../../src/models/regression/decision_tree.joblib')"
   ]
  },
  {
   "cell_type": "markdown",
   "metadata": {},
   "source": [
    "## XGBoost Regression\n",
    "\n",
    "XGBoost (Extreme Gradient Boosting) is a powerful machine learning algorithm known for its exceptional predictive accuracy and ability to handle complex datasets. It is a gradient boosting algorithm that combines multiple decision trees to make robust predictions. XGBoost has gained popularity in various fields due to its efficiency and effectiveness.\n",
    "\n",
    "### Why XGBoost for fare Prediction?\n",
    "\n",
    "When it comes to predicting total fare, XGBoost offers several advantages:\n",
    "\n",
    "1. **High Predictive Accuracy:** XGBoost excels in capturing intricate patterns and relationships within the data, making it highly accurate in fare prediction. It can handle both linear and nonlinear dependencies effectively.\n",
    "\n",
    "2. **Reduced Overfitting:** XGBoost incorporates techniques like regularization and early stopping, which help prevent overfitting. This ensures that the model generalizes well to unseen data, crucial for fare forecasting.\n",
    "\n",
    "3. **Feature Importance:** XGBoost provides feature importance scores, allowing us to understand which factors (features) have the most significant impact on fare. This insight can be valuable for decision-making and business strategy.\n",
    "\n",
    "4. **Flexibility:** XGBoost can handle a wide range of data types, including numeric and categorical features, making it suitable for diverse fare prediction scenarios.\n",
    "\n",
    "In the following sections, we will build an XGBoost regression model using selected features to predict total fare accurately. We will explore the model's performance and feature importance to gain insights into the factors influencing fare."
   ]
  },
  {
   "cell_type": "code",
   "execution_count": 4,
   "metadata": {},
   "outputs": [],
   "source": [
    "from xgboost import XGBRegressor"
   ]
  },
  {
   "cell_type": "code",
   "execution_count": 5,
   "metadata": {},
   "outputs": [],
   "source": [
    "xgb = XGBRegressor()\n",
    "\n",
    "xgb.fit(X_train, y_train)\n",
    "\n",
    "# Model evaluation for training set\n",
    "y_train_preds_xgb = xgb.predict(X_train)\n",
    "\n",
    "# Model evaluation for validation set\n",
    "y_val_preds_xgb = xgb.predict(X_val)"
   ]
  },
  {
   "cell_type": "code",
   "execution_count": 6,
   "metadata": {},
   "outputs": [
    {
     "name": "stdout",
     "output_type": "stream",
     "text": [
      "MSE Training: 0.29920753456839483\n",
      "MAE Training: 0.36894027772669424\n",
      "R2_score Training: 0.701051\n"
     ]
    }
   ],
   "source": [
    "print_regressor_scores(y_preds=y_train_preds_xgb, y_actuals=y_train, set_name='Training')"
   ]
  },
  {
   "cell_type": "code",
   "execution_count": 7,
   "metadata": {},
   "outputs": [
    {
     "name": "stdout",
     "output_type": "stream",
     "text": [
      "MSE Validation: 0.29927310235002746\n",
      "MAE Validation: 0.3690800871186597\n",
      "R2_score Validation: 0.699564\n"
     ]
    }
   ],
   "source": [
    "print_regressor_scores(y_preds=y_val_preds_xgb, y_actuals=y_val, set_name='Validation')"
   ]
  },
  {
   "cell_type": "markdown",
   "metadata": {},
   "source": [
    "## Best Model"
   ]
  },
  {
   "cell_type": "code",
   "execution_count": 15,
   "metadata": {},
   "outputs": [],
   "source": [
    "# Model evaluation for validation set\n",
    "y_test_preds_xgb = xgb.predict(X_test)"
   ]
  },
  {
   "cell_type": "code",
   "execution_count": 16,
   "metadata": {},
   "outputs": [
    {
     "name": "stdout",
     "output_type": "stream",
     "text": [
      "MSE Validation: 0.2990440912696\n",
      "MAE Validation: 0.3692362936707789\n",
      "R2_score Validation: 0.701337\n"
     ]
    }
   ],
   "source": [
    "print_regressor_scores(y_preds=y_test_preds_xgb, y_actuals=y_test, set_name='Validation')"
   ]
  },
  {
   "cell_type": "code",
   "execution_count": 14,
   "metadata": {},
   "outputs": [
    {
     "data": {
      "image/png": "[encoded data removed]",
      "text/plain": [
       "<Figure size 640x480 with 1 Axes>"
      ]
     },
     "metadata": {},
     "output_type": "display_data"
    }
   ],
   "source": [
    "import matplotlib.pyplot as plt\n",
    "plt.scatter(y_test, y_test_preds_xgb, alpha = 0.5)\n",
    "plt.xlabel(\"y_test\")\n",
    "plt.ylabel(\"y_pred\")\n",
    "plt.show()"
   ]
  },
  {
   "cell_type": "code",
   "execution_count": 8,
   "metadata": {},
   "outputs": [],
   "source": [
    "from joblib import dump"
   ]
  },
  {
   "cell_type": "code",
   "execution_count": 9,
   "metadata": {},
   "outputs": [
    {
     "data": {
      "text/plain": [
       "['../../src/models/regression/xgb_default.joblib']"
      ]
     },
     "execution_count": 9,
     "metadata": {},
     "output_type": "execute_result"
    }
   ],
   "source": [
    "dump(xgb,  '../../src/models/regression/xgb_default.joblib')"
   ]
  },
  {
   "cell_type": "markdown",
   "metadata": {},
   "source": [
    "## GridSearch"
   ]
  },
  {
   "cell_type": "markdown",
   "metadata": {},
   "source": [
    "These hyperparameters were chosen based on common practices and considerations for XGBoost regression models\n",
    "\n",
    "- n_estimators: [100, 200, 300] - The number of boosting rounds or trees in the ensemble.\n",
    "- max_depth: [3, 4, 5] - The maximum depth of the individual trees.\n",
    "- learning_rate: [0.1, 0.2, 0.01] - The learning rate, which controls the step size during optimization."
   ]
  },
  {
   "cell_type": "code",
   "execution_count": 11,
   "metadata": {},
   "outputs": [],
   "source": [
    "from sklearn.model_selection import GridSearchCV\n",
    "\n",
    "# Define a grid of hyperparameters to search\n",
    "param_grid = {\n",
    "    'n_estimators': [100, 200, 300],  # Number of boosting rounds\n",
    "    'max_depth': [3, 4, 5],          # Maximum depth of trees\n",
    "    'learning_rate': [0.1, 0.2, 0.01]  # Learning rate\n",
    "}\n",
    "\n",
    "# Create a GridSearchCV object with the XGBoost model and parameter grid\n",
    "grid_search = GridSearchCV(estimator=xgb, param_grid=param_grid, cv=3, scoring='neg_mean_squared_error', verbose=2)\n",
    "\n",
    "# Fit the GridSearchCV object\n",
    "grid_search.fit(X_train, y_train)\n",
    "\n",
    "# Get the best parameters and the corresponding RMSE score\n",
    "best_params = grid_search.best_params_\n",
    "best_rmse = (-grid_search.best_score_) ** 0.5\n",
    "\n",
    "print(\"Best Parameters:\", best_params)\n",
    "print(\"Best RMSE:\", best_rmse)"
   ]
  },
  {
   "cell_type": "markdown",
   "metadata": {},
   "source": [
    "The above command took 134 minutes to complete\n",
    "Best Parameters: {'learning_rate': 0.2, 'max_depth': 5, 'n_estimators': 300}\n",
    "\n",
    "Best RMSE: 0.548"
   ]
  },
  {
   "cell_type": "markdown",
   "metadata": {},
   "source": [
    "## Best Params"
   ]
  },
  {
   "cell_type": "code",
   "execution_count": 12,
   "metadata": {},
   "outputs": [],
   "source": [
    "import xgboost as xgb\n",
    "\n",
    "# Create an XGBoost regressor with the best hyperparameters\n",
    "bestparam_xgb_model = xgb.XGBRegressor(\n",
    "    n_estimators=300,     # Best number of boosting rounds\n",
    "    max_depth=5,          # Best maximum depth of trees\n",
    "    learning_rate=0.2     # Best learning rate\n",
    ")\n",
    "\n",
    "# Fit the model to your training data\n",
    "bestparam_xgb_model.fit(X_train, y_train)\n",
    "\n",
    "# Model evaluation for training set\n",
    "y_train_preds_xgb01 = bestparam_xgb_model.predict(X_train)\n",
    "\n",
    "# Model evaluation for validation set\n",
    "y_val_preds_xgb01 = bestparam_xgb_model.predict(X_val)"
   ]
  },
  {
   "cell_type": "code",
   "execution_count": 13,
   "metadata": {},
   "outputs": [
    {
     "name": "stdout",
     "output_type": "stream",
     "text": [
      "MSE Training: 0.29885749434138903\n",
      "MAE Training: 0.3682763706048124\n",
      "R2_score Training: 0.701401\n"
     ]
    }
   ],
   "source": [
    "print_regressor_scores(y_preds=y_train_preds_xgb01, y_actuals=y_train, set_name='Training')"
   ]
  },
  {
   "cell_type": "code",
   "execution_count": 14,
   "metadata": {},
   "outputs": [
    {
     "name": "stdout",
     "output_type": "stream",
     "text": [
      "MSE Validation: 0.298779540698141\n",
      "MAE Validation: 0.3683612124191689\n",
      "R2_score Validation: 0.70006\n"
     ]
    }
   ],
   "source": [
    "print_regressor_scores(y_preds=y_val_preds_xgb01, y_actuals=y_val, set_name='Validation')"
   ]
  },
  {
   "cell_type": "code",
   "execution_count": 16,
   "metadata": {},
   "outputs": [],
   "source": [
    "## Best Model is XGBoost with best parameters\n",
    "# Model evaluation for test set\n",
    "y_test_preds_xgb01 = bestparam_xgb_model.predict(X_test)"
   ]
  },
  {
   "cell_type": "code",
   "execution_count": 17,
   "metadata": {},
   "outputs": [
    {
     "name": "stdout",
     "output_type": "stream",
     "text": [
      "MSE test: 0.29856705568664355\n",
      "MAE test: 0.36856696526940136\n",
      "R2_score test: 0.701813\n"
     ]
    }
   ],
   "source": [
    "print_regressor_scores(y_preds=y_test_preds_xgb01, y_actuals=y_test, set_name='test')"
   ]
  },
  {
   "cell_type": "code",
   "execution_count": 21,
   "metadata": {},
   "outputs": [
    {
     "data": {
      "text/plain": [
       "['../../models/xgb_bestparam.joblib']"
      ]
     },
     "execution_count": 21,
     "metadata": {},
     "output_type": "execute_result"
    }
   ],
   "source": [
    "dump(bestparam_xgb_model,  '../../models/xgb_bestparam.joblib')"
   ]
  }
 ],
 "metadata": {
  "kernelspec": {
   "display_name": "base",
   "language": "python",
   "name": "python3"
  },
  "language_info": {
   "codemirror_mode": {
    "name": "ipython",
    "version": 3
   },
   "file_extension": ".py",
   "mimetype": "text/x-python",
   "name": "python",
   "nbconvert_exporter": "python",
   "pygments_lexer": "ipython3",
   "version": "3.11.2"
  },
  "vscode": {
   "interpreter": {
    "hash": "2faf7d233e2b105e8d1a284702cec228a4712bc10b8e33a5c6f4a53cf932b354"
   }
  }
 },
 "nbformat": 4,
 "nbformat_minor": 2
}
