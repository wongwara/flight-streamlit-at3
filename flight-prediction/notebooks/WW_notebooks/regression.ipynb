{
 "cells": [
  {
   "attachments": {},
   "cell_type": "markdown",
   "metadata": {},
   "source": [
    "## Data Product with Machine Learning\n",
    "The task is to build a data product that will help users in the USA to better estimate their local travel airfare. Users will be able to provide details of their trip and the app will predict the expected flight fare.\n",
    "We used `MSE and MAE` as the metric for the model performance.\n",
    "\n",
    "`Author`: Wongwara Wijara 14191732\n",
    "\n",
    "## Table of Content\n",
    "Starting with regression approaches, we will use the following models:\n",
    "1. Get Baseline model\n",
    "2. Decision Tree\n",
    "3. XGBoost regressor(default)\n",
    "4. XGBoost regressor(Gridsearch)\n",
    "5. Adaboost\n",
    "\n",
    "## Import dataset for train model"
   ]
  },
  {
   "cell_type": "code",
   "execution_count": 1,
   "metadata": {},
   "outputs": [],
   "source": [
    "import sys\n",
    "import pandas as pd \n",
    "sys.path.insert(0, '../../src')"
   ]
  },
  {
   "cell_type": "code",
   "execution_count": 2,
   "metadata": {},
   "outputs": [],
   "source": [
    "from data.make_dataset import load_sets\n",
    "X_train, y_train, X_val, y_val, X_test, y_test = load_sets(path='../../data/processed/')"
   ]
  },
  {
   "cell_type": "code",
   "execution_count": 3,
   "metadata": {},
   "outputs": [
    {
     "data": {
      "text/plain": [
       "((8111999, 12),\n",
       " (8111999,),\n",
       " (2704000, 12),\n",
       " (2704000,),\n",
       " (2704000, 12),\n",
       " (2704000,))"
      ]
     },
     "execution_count": 3,
     "metadata": {},
     "output_type": "execute_result"
    }
   ],
   "source": [
    "X_train.shape, y_train.shape, X_val.shape, y_val.shape, X_test.shape, y_test.shape"
   ]
  },
  {
   "cell_type": "markdown",
   "metadata": {},
   "source": [
    "## Get Baseline Model"
   ]
  },
  {
   "cell_type": "code",
   "execution_count": 5,
   "metadata": {},
   "outputs": [
    {
     "name": "stdout",
     "output_type": "stream",
     "text": [
      "MSE Training: 1.0008648851928268\n",
      "MAE Training: 0.7466010716968183\n",
      "R2_score Training: 0.0\n"
     ]
    }
   ],
   "source": [
    "from models.null import NullRegressor\n",
    "base_model = NullRegressor()\n",
    "y_base = base_model.fit_predict(y_train)\n",
    "from models.predict_model import print_regressor_scores\n",
    "print_regressor_scores(y_preds=y_base, y_actuals=y_train, set_name='Training')"
   ]
  },
  {
   "cell_type": "markdown",
   "metadata": {},
   "source": [
    "## Modelling\n",
    "Starting with regression approaches, we will use the following models:\n",
    "\n",
    "1. Decision Tree Regression\n",
    "2. XGBoost Regression (default)\n",
    "3. XGBoost Regression (Gridsearch)\n",
    "4. Adaboost Regressor"
   ]
  },
  {
   "cell_type": "markdown",
   "metadata": {},
   "source": [
    "## DecisionTree"
   ]
  },
  {
   "cell_type": "markdown",
   "metadata": {},
   "source": [
    "## Decision Tree Regression\n",
    "Decision Tree Regression is a non-linear regression algorithm that models data as a tree-like structure of decisions and outcomes. It partitions the feature space into regions and assigns a constant value to each region, making it suitable for capturing complex relationships in the data.\n",
    "\n",
    "### Why Decision Tree Regression for fare precition?\n",
    "\n",
    "1. **Non-linearity:**  Decision trees can capture non-linear relationships between input features and the target variable. In the case of fare prediction, factors influencing the fare may not follow a simple linear pattern, and decision trees can model complex relationships.\n",
    "2. **Interpretability:** Decision trees are inherently interpretable, allowing you to visualize and understand how the model makes predictions. This can be beneficial for stakeholders who require transparency.\n",
    "3. **Handling Categorical Data:** Decision trees can handle both categorical and numerical data, making them versatile for various fare prediction tasks.\n",
    "In the following sections, we will build a Decision Tree Regression model using the selected features to predict total fare. We will analyze the tree structure and assess its performance on the dataset."
   ]
  },
  {
   "cell_type": "code",
   "execution_count": 6,
   "metadata": {},
   "outputs": [],
   "source": [
    "# Decsion Tree Regressor\n",
    "from sklearn.tree import DecisionTreeRegressor"
   ]
  },
  {
   "cell_type": "code",
   "execution_count": 7,
   "metadata": {},
   "outputs": [
    {
     "name": "stdout",
     "output_type": "stream",
     "text": [
      "MSE Training: 0.514622234165927\n",
      "MAE Training: 0.5156166134098837\n",
      "R2_score Training: 0.485822\n"
     ]
    }
   ],
   "source": [
    "tree = DecisionTreeRegressor(max_depth=5)\n",
    "tree.fit(X_train, y_train)\n",
    "\n",
    "# Model evaluation for training set\n",
    "y_train_preds_tree = tree.predict(X_train)\n",
    "\n",
    "# Model evaluation for val set\n",
    "y_val_preds_tree = tree.predict(X_val)\n",
    "print_regressor_scores(y_preds=y_train_preds_tree, y_actuals=y_train, set_name='Training')"
   ]
  },
  {
   "cell_type": "markdown",
   "metadata": {},
   "source": [
    "The training data's MSE is around 0.514. This means that the model's predictions have an average inaccuracy of 0.514 units on the same scale as target variable. Because a lower MSE indicates superior model performance, a lower number is prefered.\n",
    "\n",
    "The MAE on the training data is approximately 0.515. This means that, on average, the model's predictions have an absolute error of about 0.515 units"
   ]
  },
  {
   "cell_type": "code",
   "execution_count": 8,
   "metadata": {},
   "outputs": [
    {
     "name": "stdout",
     "output_type": "stream",
     "text": [
      "MSE Validation: 0.513727370515103\n",
      "MAE Validation: 0.5154562182257849\n",
      "R2_score Validation: 0.484277\n"
     ]
    }
   ],
   "source": [
    "print_regressor_scores(y_preds=y_val_preds_tree, y_actuals=y_val, set_name='Validation')"
   ]
  },
  {
   "cell_type": "markdown",
   "metadata": {},
   "source": [
    "The validation data's MSE is around 0.513. This means that the model's predictions have an average inaccuracy of 0.513 units on the same scale as target variable. Because a lower MSE indicates superior model performance, a lower number is prefered.\n",
    "\n",
    "the MAE on the validation data is approximately 0.515. This means that, on average, the model's predictions have an absolute error of about 0.515 units"
   ]
  },
  {
   "cell_type": "code",
   "execution_count": 9,
   "metadata": {},
   "outputs": [
    {
     "data": {
      "text/plain": [
       "['../../src/models/regression/decision_tree.joblib']"
      ]
     },
     "execution_count": 9,
     "metadata": {},
     "output_type": "execute_result"
    }
   ],
   "source": [
    "from joblib import dump\n",
    "dump(tree,  '../../src/models/regression/decision_tree.joblib')"
   ]
  },
  {
   "cell_type": "markdown",
   "metadata": {},
   "source": [
    "## XGBoost Regression\n",
    "\n",
    "XGBoost (Extreme Gradient Boosting) is a powerful machine learning algorithm known for its exceptional predictive accuracy and ability to handle complex datasets. It is a gradient boosting algorithm that combines multiple decision trees to make robust predictions. XGBoost has gained popularity in various fields due to its efficiency and effectiveness.\n",
    "\n",
    "### Why XGBoost for fare Prediction?\n",
    "\n",
    "When it comes to predicting total fare, XGBoost offers several advantages:\n",
    "\n",
    "1. **High Predictive Accuracy:** XGBoost excels in capturing intricate patterns and relationships within the data, making it highly accurate in fare prediction. It can handle both linear and nonlinear dependencies effectively.\n",
    "\n",
    "2. **Reduced Overfitting:** XGBoost incorporates techniques like regularization and early stopping, which help prevent overfitting. This ensures that the model generalizes well to unseen data, crucial for fare forecasting.\n",
    "\n",
    "3. **Feature Importance:** XGBoost provides feature importance scores, allowing us to understand which factors (features) have the most significant impact on fare. This insight can be valuable for decision-making and business strategy.\n",
    "\n",
    "4. **Flexibility:** XGBoost can handle a wide range of data types, including numeric and categorical features, making it suitable for diverse fare prediction scenarios.\n",
    "\n",
    "In the following sections, we will build an XGBoost regression model using selected features to predict total fare accurately. We will explore the model's performance and feature importance to gain insights into the factors influencing fare."
   ]
  },
  {
   "cell_type": "code",
   "execution_count": 10,
   "metadata": {},
   "outputs": [],
   "source": [
    "from xgboost import XGBRegressor"
   ]
  },
  {
   "cell_type": "code",
   "execution_count": 11,
   "metadata": {},
   "outputs": [],
   "source": [
    "xgb = XGBRegressor()\n",
    "\n",
    "xgb.fit(X_train, y_train)\n",
    "\n",
    "# Model evaluation for training set\n",
    "y_train_preds_xgb = xgb.predict(X_train)\n",
    "\n",
    "# Model evaluation for validation set\n",
    "y_val_preds_xgb = xgb.predict(X_val)"
   ]
  },
  {
   "cell_type": "code",
   "execution_count": 12,
   "metadata": {},
   "outputs": [
    {
     "name": "stdout",
     "output_type": "stream",
     "text": [
      "MSE Training: 0.30150863525581\n",
      "MAE Training: 0.36939060436361343\n",
      "R2_score Training: 0.698752\n"
     ]
    }
   ],
   "source": [
    "print_regressor_scores(y_preds=y_train_preds_xgb, y_actuals=y_train, set_name='Training')"
   ]
  },
  {
   "cell_type": "markdown",
   "metadata": {},
   "source": [
    "The training data's MSE is around 0.3015. This means that the model's predictions have an average inaccuracy of 0.3015 units on the same scale as target variable. Because a lower MSE indicates superior model performance, a lower number is prefered.\n",
    "\n",
    "The MAE on the training data is approximately 0.3693. This means that, on average, the model's predictions have an absolute error of about 0.3693 units"
   ]
  },
  {
   "cell_type": "code",
   "execution_count": 13,
   "metadata": {},
   "outputs": [
    {
     "name": "stdout",
     "output_type": "stream",
     "text": [
      "MSE Validation: 0.3011148881314104\n",
      "MAE Validation: 0.36929267728464793\n",
      "R2_score Validation: 0.697715\n"
     ]
    }
   ],
   "source": [
    "print_regressor_scores(y_preds=y_val_preds_xgb, y_actuals=y_val, set_name='Validation')"
   ]
  },
  {
   "cell_type": "markdown",
   "metadata": {},
   "source": [
    "The training data's MSE is around 0.3011. This means that the model's predictions have an average inaccuracy of 0.3011 units on the same scale as target variable. Because a lower MSE indicates superior model performance, a lower number is prefered.\n",
    "\n",
    "The MAE on the training data is approximately 0.3692. This means that, on average, the model's predictions have an absolute error of about 0.3692 units"
   ]
  },
  {
   "cell_type": "markdown",
   "metadata": {},
   "source": [
    "## Model results between XGBoost and decision tree\n",
    "\n",
    "Xgboost is better than decision tree with less mse score"
   ]
  },
  {
   "cell_type": "code",
   "execution_count": 14,
   "metadata": {},
   "outputs": [],
   "source": [
    "# Model evaluation for validation set\n",
    "y_test_preds_xgb = xgb.predict(X_test)"
   ]
  },
  {
   "cell_type": "code",
   "execution_count": 15,
   "metadata": {},
   "outputs": [
    {
     "name": "stdout",
     "output_type": "stream",
     "text": [
      "MSE Validation: 0.3010264501791764\n",
      "MAE Validation: 0.3695336576220936\n",
      "R2_score Validation: 0.699357\n"
     ]
    }
   ],
   "source": [
    "print_regressor_scores(y_preds=y_test_preds_xgb, y_actuals=y_test, set_name='Validation')"
   ]
  },
  {
   "cell_type": "code",
   "execution_count": 17,
   "metadata": {},
   "outputs": [
    {
     "data": {
      "image/png": "[encoded data removed]",
      "text/plain": [
       "<Figure size 640x480 with 1 Axes>"
      ]
     },
     "metadata": {},
     "output_type": "display_data"
    }
   ],
   "source": [
    "import matplotlib.pyplot as plt\n",
    "plt.scatter(y_test, y_test_preds_xgb, alpha = 0.5)\n",
    "plt.xlabel(\"y_actual\")\n",
    "plt.ylabel(\"y_predict\")\n",
    "plt.show()"
   ]
  },
  {
   "cell_type": "markdown",
   "metadata": {},
   "source": [
    "The MSE test calculates the average magnitude of the differences between anticipated and actual values. An MSE of about 0.3010 in this situation indicates that, on average, the predictions provided by the XGBoost have an inaccuracy of around 0.3010 units when compared to the actual target values in the test set. Lower MSE values imply that the model is performing better.\n",
    "\n",
    "The MAE test calculates the average absolute difference between anticipated and actual values. With an MAE of about 0.3695, it signifies that the model's predictions have an absolute error of about 0.3695 units on average when compared to the actual target values in the test set. Lower MAE values, like MSE, indicate greater model performance."
   ]
  },
  {
   "cell_type": "code",
   "execution_count": 18,
   "metadata": {},
   "outputs": [],
   "source": [
    "from joblib import dump"
   ]
  },
  {
   "cell_type": "code",
   "execution_count": 19,
   "metadata": {},
   "outputs": [
    {
     "data": {
      "text/plain": [
       "['../../src/models/regression/xgb_default.joblib']"
      ]
     },
     "execution_count": 19,
     "metadata": {},
     "output_type": "execute_result"
    }
   ],
   "source": [
    "dump(xgb,  '../../src/models/regression/xgb_default.joblib')"
   ]
  },
  {
   "cell_type": "markdown",
   "metadata": {},
   "source": [
    "## GridSearch"
   ]
  },
  {
   "cell_type": "markdown",
   "metadata": {},
   "source": [
    "These hyperparameters were chosen based on common practices and considerations for XGBoost regression models\n",
    "\n",
    "- n_estimators: [100, 200, 300] - The number of boosting rounds or trees in the ensemble.\n",
    "- max_depth: [3, 4, 5] - The maximum depth of the individual trees.\n",
    "- learning_rate: [0.1, 0.2, 0.01] - The learning rate, which controls the step size during optimization."
   ]
  },
  {
   "cell_type": "code",
   "execution_count": 11,
   "metadata": {},
   "outputs": [],
   "source": [
    "from sklearn.model_selection import GridSearchCV\n",
    "\n",
    "# Define a grid of hyperparameters to search\n",
    "param_grid = {\n",
    "    'n_estimators': [100, 200, 300],  # Number of boosting rounds\n",
    "    'max_depth': [3, 4, 5],          # Maximum depth of trees\n",
    "    'learning_rate': [0.1, 0.2, 0.01]  # Learning rate\n",
    "}\n",
    "\n",
    "# Create a GridSearchCV object with the XGBoost model and parameter grid\n",
    "grid_search = GridSearchCV(estimator=xgb, param_grid=param_grid, cv=3, scoring='neg_mean_squared_error', verbose=2)\n",
    "\n",
    "# Fit the GridSearchCV object\n",
    "grid_search.fit(X_train, y_train)\n",
    "\n",
    "# Get the best parameters and the corresponding RMSE score\n",
    "best_params = grid_search.best_params_\n",
    "best_rmse = (-grid_search.best_score_) ** 0.5\n",
    "\n",
    "print(\"Best Parameters:\", best_params)\n",
    "print(\"Best RMSE:\", best_rmse)"
   ]
  },
  {
   "cell_type": "markdown",
   "metadata": {},
   "source": [
    "The above command took 134 minutes to complete\n",
    "Best Parameters: {'learning_rate': 0.2, 'max_depth': 5, 'n_estimators': 300}\n",
    "\n",
    "Best RMSE: 0.548"
   ]
  },
  {
   "cell_type": "markdown",
   "metadata": {},
   "source": [
    "## Best Params"
   ]
  },
  {
   "cell_type": "code",
   "execution_count": 20,
   "metadata": {},
   "outputs": [],
   "source": [
    "import xgboost as xgb\n",
    "\n",
    "# Create an XGBoost regressor with the best hyperparameters\n",
    "bestparam_xgb_model = xgb.XGBRegressor(\n",
    "    n_estimators=300,     # Best number of boosting rounds\n",
    "    max_depth=5,          # Best maximum depth of trees\n",
    "    learning_rate=0.2     # Best learning rate\n",
    ")\n",
    "\n",
    "# Fit the model to your training data\n",
    "bestparam_xgb_model.fit(X_train, y_train)\n",
    "\n",
    "# Model evaluation for training set\n",
    "y_train_preds_xgb01 = bestparam_xgb_model.predict(X_train)\n",
    "\n",
    "# Model evaluation for validation set\n",
    "y_val_preds_xgb01 = bestparam_xgb_model.predict(X_val)"
   ]
  },
  {
   "cell_type": "code",
   "execution_count": 21,
   "metadata": {},
   "outputs": [
    {
     "name": "stdout",
     "output_type": "stream",
     "text": [
      "MSE Training: 0.29970380180480866\n",
      "MAE Training: 0.368538644324594\n",
      "R2_score Training: 0.700555\n"
     ]
    }
   ],
   "source": [
    "print_regressor_scores(y_preds=y_train_preds_xgb01, y_actuals=y_train, set_name='Training')"
   ]
  },
  {
   "cell_type": "code",
   "execution_count": 22,
   "metadata": {},
   "outputs": [
    {
     "name": "stdout",
     "output_type": "stream",
     "text": [
      "MSE Validation: 0.2992776204642159\n",
      "MAE Validation: 0.36851118119052284\n",
      "R2_score Validation: 0.69956\n"
     ]
    }
   ],
   "source": [
    "print_regressor_scores(y_preds=y_val_preds_xgb01, y_actuals=y_val, set_name='Validation')"
   ]
  },
  {
   "cell_type": "code",
   "execution_count": 24,
   "metadata": {},
   "outputs": [],
   "source": [
    "## Best Model is XGBoost with best parameters\n",
    "# Model evaluation for test set\n",
    "y_test_preds_xgb01 = bestparam_xgb_model.predict(X_test)"
   ]
  },
  {
   "cell_type": "code",
   "execution_count": 25,
   "metadata": {},
   "outputs": [
    {
     "name": "stdout",
     "output_type": "stream",
     "text": [
      "MSE test: 0.29906887490558826\n",
      "MAE test: 0.3687010286728132\n",
      "R2_score test: 0.701312\n"
     ]
    }
   ],
   "source": [
    "print_regressor_scores(y_preds=y_test_preds_xgb01, y_actuals=y_test, set_name='test')"
   ]
  },
  {
   "cell_type": "markdown",
   "metadata": {},
   "source": [
    "The MSE test calculates the average magnitude of the differences between anticipated and actual values. An MSE of about 0.2985 in this situation indicates that, on average, the predictions provided by the XGBoost have an inaccuracy of around 0.2985 units when compared to the actual target values in the test set. Lower MSE values imply that the model is performing better.\n",
    "\n",
    "The MAE test calculates the average absolute difference between anticipated and actual values. With an MAE of about 0.3685, it signifies that the model's predictions have an absolute error of about 0.3685 units on average when compared to the actual target values in the test set. Lower MAE values, like MSE, indicate greater model performance."
   ]
  },
  {
   "cell_type": "markdown",
   "metadata": {},
   "source": [
    "The best model for this experiment is XGBoost Regressor with the best params"
   ]
  },
  {
   "cell_type": "code",
   "execution_count": 21,
   "metadata": {},
   "outputs": [
    {
     "data": {
      "text/plain": [
       "['../../models/xgb_bestparam.joblib']"
      ]
     },
     "execution_count": 21,
     "metadata": {},
     "output_type": "execute_result"
    }
   ],
   "source": [
    "dump(bestparam_xgb_model,  '../../models/xgb_bestparam.joblib')"
   ]
  },
  {
   "cell_type": "markdown",
   "metadata": {},
   "source": [
    "## Feature importance "
   ]
  },
  {
   "cell_type": "code",
   "execution_count": 31,
   "metadata": {},
   "outputs": [
    {
     "name": "stdout",
     "output_type": "stream",
     "text": [
      "                feature  importance\n",
      "5     segmentsCabinCode    0.281847\n",
      "2        isBasicEconomy    0.277410\n",
      "0   totalTravelDistance    0.209181\n",
      "1             isNonStop    0.049425\n",
      "7      flightDate_month    0.048964\n",
      "6        flightDate_day    0.047107\n",
      "3       startingAirport    0.043270\n",
      "4    destinationAirport    0.042796\n",
      "8       flightDate_year    0.000000\n",
      "9       DepartTime_hour    0.000000\n",
      "10    DepartTime_minute    0.000000\n",
      "11    DepartTime_second    0.000000\n"
     ]
    }
   ],
   "source": [
    "# List of feature names\n",
    "features = ['totalTravelDistance', 'isNonStop', 'isBasicEconomy', 'startingAirport', 'destinationAirport', 'segmentsCabinCode',\n",
    "            'flightDate_day', 'flightDate_month', 'flightDate_year', 'DepartTime_hour', 'DepartTime_minute', 'DepartTime_second']\n",
    "\n",
    "# Feature importances\n",
    "feat_imp = bestparam_xgb_model.feature_importances_\n",
    "\n",
    "# Create a DataFrame to store feature names and their importances\n",
    "feat_imp_df = pd.DataFrame({'feature': features, 'importance': feat_imp})\n",
    "\n",
    "# Sort the DataFrame by importance in descending order\n",
    "feat_imp_df = feat_imp_df.sort_values(by='importance', ascending=False)\n",
    "\n",
    "# Display the sorted feature importances\n",
    "print(feat_imp_df)"
   ]
  },
  {
   "cell_type": "code",
   "execution_count": 35,
   "metadata": {},
   "outputs": [
    {
     "data": {
      "image/png": "[encoded data removed]",
      "text/plain": [
       "<Figure size 1000x600 with 1 Axes>"
      ]
     },
     "metadata": {},
     "output_type": "display_data"
    }
   ],
   "source": [
    "import seaborn as sns\n",
    "# Create a colorful bar plot\n",
    "plt.figure(figsize=(10, 6))\n",
    "sns.barplot(x='importance', y='feature', data=feat_imp_df, palette='viridis')\n",
    "plt.xlabel('Feature Importance')\n",
    "plt.ylabel('Feature')\n",
    "plt.title('Feature Importances (Importance > 0.004)')\n",
    "plt.tight_layout()\n",
    "plt.show()"
   ]
  },
  {
   "cell_type": "markdown",
   "metadata": {},
   "source": [
    "## Adaboost \n"
   ]
  },
  {
   "cell_type": "code",
   "execution_count": 32,
   "metadata": {},
   "outputs": [
    {
     "name": "stderr",
     "output_type": "stream",
     "text": [
      "/Library/Frameworks/Python.framework/Versions/3.11/lib/python3.11/site-packages/sklearn/ensemble/_base.py:166: FutureWarning: `base_estimator` was renamed to `estimator` in version 1.2 and will be removed in 1.4.\n",
      "  warnings.warn(\n"
     ]
    }
   ],
   "source": [
    "from sklearn.ensemble import AdaBoostRegressor\n",
    "# Create an AdaBoostRegressor with DecisionTree as the base estimator\n",
    "ada_boost_model = AdaBoostRegressor(base_estimator=DecisionTreeRegressor(max_depth=2), n_estimators=50, random_state=42)\n",
    "\n",
    "# Train the model on the training data\n",
    "ada_boost_model.fit(X_train, y_train)\n",
    "\n",
    "# Model evaluation for training set\n",
    "y_train_preds_ada = ada_boost_model.predict(X_train)\n",
    "\n",
    "# Model evaluation for validation set\n",
    "y_val_preds_ada = ada_boost_model.predict(X_val)"
   ]
  },
  {
   "cell_type": "code",
   "execution_count": 33,
   "metadata": {},
   "outputs": [
    {
     "name": "stdout",
     "output_type": "stream",
     "text": [
      "MSE Training: 0.6438086013885033\n",
      "MAE Training: 0.5989128252886454\n",
      "R2_score Training: 0.356748\n"
     ]
    }
   ],
   "source": [
    "print_regressor_scores(y_preds=y_train_preds_ada, y_actuals=y_train, set_name='Training')"
   ]
  },
  {
   "cell_type": "code",
   "execution_count": 34,
   "metadata": {},
   "outputs": [
    {
     "name": "stdout",
     "output_type": "stream",
     "text": [
      "MSE Validation: 0.6420047543249067\n",
      "MAE Validation: 0.598884721128226\n",
      "R2_score Validation: 0.355501\n"
     ]
    }
   ],
   "source": [
    "print_regressor_scores(y_preds=y_val_preds_ada, y_actuals=y_val, set_name='Validation')"
   ]
  },
  {
   "cell_type": "markdown",
   "metadata": {},
   "source": [
    "However, the XGBoost with params n_estimators=300,   max_depth=5,learning_rate=0.2   are the best model in this experiment"
   ]
  },
  {
   "cell_type": "markdown",
   "metadata": {},
   "source": [
    "## Results in deploy app "
   ]
  },
  {
   "cell_type": "code",
   "execution_count": 29,
   "metadata": {},
   "outputs": [
    {
     "name": "stdout",
     "output_type": "stream",
     "text": [
      "The total fare for your trip with Linear regression: $10.46\n"
     ]
    }
   ],
   "source": [
    "# Create input data for prediction (similar to your previous code)\n",
    "input_data = {\n",
    "        'totalTravelDistance': [1569.618],\n",
    "        'isNonStop': [True],\n",
    "        'isBasicEconomy': [False],\n",
    "        'startingAirport': [1],\n",
    "        'destinationAirport': [3],\n",
    "        'segmentsCabinCode': [28],\n",
    "        'flightDate_day': [11],\n",
    "        'flightDate_month': [11],\n",
    "        'flightDate_year': [2023],\n",
    "        'DepartTime_hour': [10],\n",
    "        'DepartTime_minute': [30],\n",
    "        'DepartTime_second': [0],\n",
    "    }\n",
    "\n",
    "# Create a DataFrame with the input data\n",
    "input_df = pd.DataFrame(input_data)\n",
    "\n",
    "# Use the loaded models to make predictions\n",
    "total_fare = bestparam_xgb_model.predict(input_df)\n",
    "   \n",
    "print(f'The total fare for your trip with Linear regression: ${total_fare[0]:.2f}')"
   ]
  },
  {
   "cell_type": "markdown",
   "metadata": {},
   "source": [
    "## Reference\n",
    "So, A. (2023, August).36120_AdvMLA-Lab1_Exercise2-Solutions.ipynb. https://colab.research.google.com/drive/15OZMUMwUBoAmtrfuzJaEhF1Ta8XkCmQZ?authuser=2#scrollTo=Pw_LqGuGC9Oz\n",
    "\n",
    "So, A. (2023, August).36120_AdvMLA-Lab2_Exercise1-Solutions.ipynb. https://colab.research.google.com/drive/15OZMUMwUBoAmtrfuzJaEhF1Ta8XkCmQZ?authuser=2#scrollTo=Pw_LqGuGC9Oz\n",
    "\n",
    "So, A. (2023, August).36120_AdvMLA-Lab2_Exercise2-Solutions.ipynb. https://colab.research.google.com/drive/1HzN0kcWIFmApxJFDYQoiBZVurVZd9HJk?authuser=2\n",
    "\n",
    "So, A. (2023, August).36120_AdvMLA-Lab2_Exercise3-Solutions.ipynb. https://colab.research.google.com/drive/1LzgqM0bRDNL9hf0GiE2t2xCzpamOvwAJ?authuser=2\n"
   ]
  },
  {
   "cell_type": "markdown",
   "metadata": {},
   "source": [
    "***\n",
    "**Name**: Wongwara Wijara\n",
    "\n",
    "**Student id**: 14191732\n",
    "\n",
    "**Email**: Wongwara.Wijara@student.uts.edu.au\n",
    "\n",
    "**Subject**: 36120 Advanced Machine Learning Application - Spring 2023\n",
    "\n",
    "**University**: University of Technology Sydney\n",
    "***"
   ]
  }
 ],
 "metadata": {
  "kernelspec": {
   "display_name": "base",
   "language": "python",
   "name": "python3"
  },
  "language_info": {
   "codemirror_mode": {
    "name": "ipython",
    "version": 3
   },
   "file_extension": ".py",
   "mimetype": "text/x-python",
   "name": "python",
   "nbconvert_exporter": "python",
   "pygments_lexer": "ipython3",
   "version": "3.11.2"
  },
  "vscode": {
   "interpreter": {
    "hash": "2faf7d233e2b105e8d1a284702cec228a4712bc10b8e33a5c6f4a53cf932b354"
   }
  }
 },
 "nbformat": 4,
 "nbformat_minor": 2
}
