{
 "cells": [
  {
   "attachments": {},
   "cell_type": "markdown",
   "metadata": {},
   "source": [
    "## Data Product with Machine Learning\n",
    "The task is to build a data product that will help users in the USA to better estimate their local travel airfare. Users will be able to provide details of their trip and the app will predict the expected flight fare.\n",
    "We used `MSE and MAE` as the metric for the model performance.\n",
    "\n",
    "`Author`: Wongwara Wijara 14191732\n",
    "\n",
    "## Table of Content\n",
    "Starting with regression approaches, we will use the following models:\n",
    "1. Get Baseline model\n",
    "2. Decision Tree\n",
    "3. XGBoost regressor(default)\n",
    "4. XGBoost regressor(Gridsearch)\n",
    "5. Adaboost\n",
    "\n",
    "## Import dataset for train model"
   ]
  },
  {
   "cell_type": "code",
   "execution_count": 1,
   "metadata": {},
   "outputs": [],
   "source": [
    "import sys\n",
    "import pandas as pd \n",
    "sys.path.insert(0, '../../src')"
   ]
  },
  {
   "cell_type": "code",
   "execution_count": 2,
   "metadata": {},
   "outputs": [],
   "source": [
    "from data.make_dataset import load_sets\n",
    "X_train, y_train, X_val, y_val, X_test, y_test = load_sets(path='../../data/processed/')"
   ]
  },
  {
   "cell_type": "code",
   "execution_count": 3,
   "metadata": {},
   "outputs": [
    {
     "data": {
      "text/plain": [
       "((8111999, 12),\n",
       " (8111999,),\n",
       " (2704000, 12),\n",
       " (2704000,),\n",
       " (2704000, 12),\n",
       " (2704000,))"
      ]
     },
     "execution_count": 3,
     "metadata": {},
     "output_type": "execute_result"
    }
   ],
   "source": [
    "X_train.shape, y_train.shape, X_val.shape, y_val.shape, X_test.shape, y_test.shape"
   ]
  },
  {
   "cell_type": "markdown",
   "metadata": {},
   "source": [
    "## Get Baseline Model"
   ]
  },
  {
   "cell_type": "code",
   "execution_count": 5,
   "metadata": {},
   "outputs": [
    {
     "name": "stdout",
     "output_type": "stream",
     "text": [
      "MSE Training: 1.0008648851928268\n",
      "MAE Training: 0.7466010716968183\n",
      "R2_score Training: 0.0\n"
     ]
    }
   ],
   "source": [
    "from models.null import NullRegressor\n",
    "base_model = NullRegressor()\n",
    "y_base = base_model.fit_predict(y_train)\n",
    "from models.predict_model import print_regressor_scores\n",
    "print_regressor_scores(y_preds=y_base, y_actuals=y_train, set_name='Training')"
   ]
  },
  {
   "cell_type": "markdown",
   "metadata": {},
   "source": [
    "MSE for baseline model = 1 with R2 score = 0"
   ]
  },
  {
   "cell_type": "markdown",
   "metadata": {},
   "source": [
    "## Modelling\n",
    "Starting with regression approaches, we will use the following models:\n",
    "\n",
    "1. Decision Tree Regression\n",
    "2. XGBoost Regression (default)\n",
    "3. XGBoost Regression (Gridsearch)\n",
    "4. Adaboost Regressor"
   ]
  },
  {
   "cell_type": "markdown",
   "metadata": {},
   "source": [
    "## DecisionTree"
   ]
  },
  {
   "cell_type": "markdown",
   "metadata": {},
   "source": [
    "## Decision Tree Regression\n",
    "Decision Tree Regression is a non-linear regression algorithm that models data as a tree-like structure of decisions and outcomes. It partitions the feature space into regions and assigns a constant value to each region, making it suitable for capturing complex relationships in the data.\n",
    "\n",
    "### Why Decision Tree Regression for fare precition?\n",
    "\n",
    "1. **Non-linearity:**  Decision trees can capture non-linear relationships between input features and the target variable. In the case of fare prediction, factors influencing the fare may not follow a simple linear pattern, and decision trees can model complex relationships.\n",
    "2. **Interpretability:** Decision trees are inherently interpretable, allowing you to visualize and understand how the model makes predictions. This can be beneficial for stakeholders who require transparency.\n",
    "3. **Handling Categorical Data:** Decision trees can handle both categorical and numerical data, making them versatile for various fare prediction tasks.\n",
    "In the following sections, we will build a Decision Tree Regression model using the selected features to predict total fare. We will analyze the tree structure and assess its performance on the dataset."
   ]
  },
  {
   "cell_type": "code",
   "execution_count": 6,
   "metadata": {},
   "outputs": [],
   "source": [
    "# Decsion Tree Regressor\n",
    "from sklearn.tree import DecisionTreeRegressor"
   ]
  },
  {
   "cell_type": "code",
   "execution_count": 7,
   "metadata": {},
   "outputs": [
    {
     "name": "stdout",
     "output_type": "stream",
     "text": [
      "MSE Training: 0.514622234165927\n",
      "MAE Training: 0.5156166134098837\n",
      "R2_score Training: 0.485822\n"
     ]
    }
   ],
   "source": [
    "tree = DecisionTreeRegressor(max_depth=5)\n",
    "tree.fit(X_train, y_train)\n",
    "\n",
    "# Model evaluation for training set\n",
    "y_train_preds_tree = tree.predict(X_train)\n",
    "\n",
    "# Model evaluation for val set\n",
    "y_val_preds_tree = tree.predict(X_val)\n",
    "print_regressor_scores(y_preds=y_train_preds_tree, y_actuals=y_train, set_name='Training')"
   ]
  },
  {
   "cell_type": "code",
   "execution_count": 37,
   "metadata": {},
   "outputs": [],
   "source": [
    "from sklearn.metrics import mean_squared_error, mean_absolute_error\n",
    "\n",
    "# Calculate MSE and MAE for the training set\n",
    "mse_train_tree = mean_squared_error(y_train, y_train_preds_tree)\n",
    "mae_train_tree = mean_absolute_error(y_train, y_train_preds_tree)\n",
    "\n",
    "# Calculate MSE and MAE for the validation set\n",
    "mse_val_tree = mean_squared_error(y_val, y_val_preds_tree)\n",
    "mae_val_tree = mean_absolute_error(y_val, y_val_preds_tree)"
   ]
  },
  {
   "cell_type": "markdown",
   "metadata": {},
   "source": [
    "The training data's MSE is around 0.514. This means that the model's predictions have an average inaccuracy of 0.514 units on the same scale as target variable. Because a lower MSE indicates superior model performance, a lower number is prefered.\n",
    "\n",
    "The MAE on the training data is approximately 0.515. This means that, on average, the model's predictions have an absolute error of about 0.515 units"
   ]
  },
  {
   "cell_type": "code",
   "execution_count": 8,
   "metadata": {},
   "outputs": [
    {
     "name": "stdout",
     "output_type": "stream",
     "text": [
      "MSE Validation: 0.513727370515103\n",
      "MAE Validation: 0.5154562182257849\n",
      "R2_score Validation: 0.484277\n"
     ]
    }
   ],
   "source": [
    "print_regressor_scores(y_preds=y_val_preds_tree, y_actuals=y_val, set_name='Validation')"
   ]
  },
  {
   "cell_type": "markdown",
   "metadata": {},
   "source": [
    "The validation data's MSE is around 0.513. This means that the model's predictions have an average inaccuracy of 0.513 units on the same scale as target variable. Because a lower MSE indicates superior model performance, a lower number is prefered.\n",
    "\n",
    "the MAE on the validation data is approximately 0.515. This means that, on average, the model's predictions have an absolute error of about 0.515 units"
   ]
  },
  {
   "cell_type": "code",
   "execution_count": 9,
   "metadata": {},
   "outputs": [
    {
     "data": {
      "text/plain": [
       "['../../src/models/regression/decision_tree.joblib']"
      ]
     },
     "execution_count": 9,
     "metadata": {},
     "output_type": "execute_result"
    }
   ],
   "source": [
    "from joblib import dump\n",
    "dump(tree,  '../../src/models/regression/decision_tree.joblib')"
   ]
  },
  {
   "cell_type": "markdown",
   "metadata": {},
   "source": [
    "## XGBoost Regression\n",
    "\n",
    "XGBoost (Extreme Gradient Boosting) is a powerful machine learning algorithm known for its exceptional predictive accuracy and ability to handle complex datasets. It is a gradient boosting algorithm that combines multiple decision trees to make robust predictions. XGBoost has gained popularity in various fields due to its efficiency and effectiveness.\n",
    "\n",
    "### Why XGBoost for fare Prediction?\n",
    "\n",
    "When it comes to predicting total fare, XGBoost offers several advantages:\n",
    "\n",
    "1. **High Predictive Accuracy:** XGBoost excels in capturing intricate patterns and relationships within the data, making it highly accurate in fare prediction. It can handle both linear and nonlinear dependencies effectively.\n",
    "\n",
    "2. **Reduced Overfitting:** XGBoost incorporates techniques like regularization and early stopping, which help prevent overfitting. This ensures that the model generalizes well to unseen data, crucial for fare forecasting.\n",
    "\n",
    "3. **Feature Importance:** XGBoost provides feature importance scores, allowing us to understand which factors (features) have the most significant impact on fare. This insight can be valuable for decision-making and business strategy.\n",
    "\n",
    "4. **Flexibility:** XGBoost can handle a wide range of data types, including numeric and categorical features, making it suitable for diverse fare prediction scenarios.\n",
    "\n",
    "In the following sections, we will build an XGBoost regression model using selected features to predict total fare accurately. We will explore the model's performance and feature importance to gain insights into the factors influencing fare."
   ]
  },
  {
   "cell_type": "code",
   "execution_count": 10,
   "metadata": {},
   "outputs": [],
   "source": [
    "from xgboost import XGBRegressor"
   ]
  },
  {
   "cell_type": "code",
   "execution_count": 11,
   "metadata": {},
   "outputs": [],
   "source": [
    "xgb = XGBRegressor()\n",
    "\n",
    "xgb.fit(X_train, y_train)\n",
    "\n",
    "# Model evaluation for training set\n",
    "y_train_preds_xgb = xgb.predict(X_train)\n",
    "\n",
    "# Model evaluation for validation set\n",
    "y_val_preds_xgb = xgb.predict(X_val)"
   ]
  },
  {
   "cell_type": "code",
   "execution_count": 12,
   "metadata": {},
   "outputs": [
    {
     "name": "stdout",
     "output_type": "stream",
     "text": [
      "MSE Training: 0.30150863525581\n",
      "MAE Training: 0.36939060436361343\n",
      "R2_score Training: 0.698752\n"
     ]
    }
   ],
   "source": [
    "print_regressor_scores(y_preds=y_train_preds_xgb, y_actuals=y_train, set_name='Training')"
   ]
  },
  {
   "cell_type": "markdown",
   "metadata": {},
   "source": [
    "The training data's MSE is around 0.3015. This means that the model's predictions have an average inaccuracy of 0.3015 units on the same scale as target variable. Because a lower MSE indicates superior model performance, a lower number is prefered.\n",
    "\n",
    "The MAE on the training data is approximately 0.3693. This means that, on average, the model's predictions have an absolute error of about 0.3693 units"
   ]
  },
  {
   "cell_type": "code",
   "execution_count": 13,
   "metadata": {},
   "outputs": [
    {
     "name": "stdout",
     "output_type": "stream",
     "text": [
      "MSE Validation: 0.3011148881314104\n",
      "MAE Validation: 0.36929267728464793\n",
      "R2_score Validation: 0.697715\n"
     ]
    }
   ],
   "source": [
    "print_regressor_scores(y_preds=y_val_preds_xgb, y_actuals=y_val, set_name='Validation')"
   ]
  },
  {
   "cell_type": "code",
   "execution_count": 38,
   "metadata": {},
   "outputs": [],
   "source": [
    "# Calculate MSE and MAE for the training set\n",
    "mse_train_xgb = mean_squared_error(y_train, y_train_preds_xgb)\n",
    "mae_train_xgb = mean_absolute_error(y_train, y_train_preds_xgb)\n",
    "\n",
    "# Calculate MSE and MAE for the validation set\n",
    "mse_val_xgb = mean_squared_error(y_val, y_val_preds_xgb)\n",
    "mae_val_xgb = mean_absolute_error(y_val, y_val_preds_xgb)"
   ]
  },
  {
   "cell_type": "markdown",
   "metadata": {},
   "source": [
    "The training data's MSE is around 0.3011. This means that the model's predictions have an average inaccuracy of 0.3011 units on the same scale as target variable. Because a lower MSE indicates superior model performance, a lower number is prefered.\n",
    "\n",
    "The MAE on the training data is approximately 0.3692. This means that, on average, the model's predictions have an absolute error of about 0.3692 units"
   ]
  },
  {
   "cell_type": "markdown",
   "metadata": {},
   "source": [
    "## Model results between XGBoost and decision tree\n",
    "\n",
    "Xgboost is better than decision tree with less mse score"
   ]
  },
  {
   "cell_type": "code",
   "execution_count": 14,
   "metadata": {},
   "outputs": [],
   "source": [
    "# Model evaluation for validation set\n",
    "y_test_preds_xgb = xgb.predict(X_test)"
   ]
  },
  {
   "cell_type": "code",
   "execution_count": 15,
   "metadata": {},
   "outputs": [
    {
     "name": "stdout",
     "output_type": "stream",
     "text": [
      "MSE Validation: 0.3010264501791764\n",
      "MAE Validation: 0.3695336576220936\n",
      "R2_score Validation: 0.699357\n"
     ]
    }
   ],
   "source": [
    "print_regressor_scores(y_preds=y_test_preds_xgb, y_actuals=y_test, set_name='Validation')"
   ]
  },
  {
   "cell_type": "code",
   "execution_count": 17,
   "metadata": {},
   "outputs": [
    {
     "data": {
      "image/png": "[encoded data removed]",
      "text/plain": [
       "<Figure size 640x480 with 1 Axes>"
      ]
     },
     "metadata": {},
     "output_type": "display_data"
    }
   ],
   "source": [
    "import matplotlib.pyplot as plt\n",
    "plt.scatter(y_test, y_test_preds_xgb, alpha = 0.5)\n",
    "plt.xlabel(\"y_actual\")\n",
    "plt.ylabel(\"y_predict\")\n",
    "plt.show()"
   ]
  },
  {
   "cell_type": "markdown",
   "metadata": {},
   "source": [
    "The MSE test calculates the average magnitude of the differences between anticipated and actual values. An MSE of about 0.3010 in this situation indicates that, on average, the predictions provided by the XGBoost have an inaccuracy of around 0.3010 units when compared to the actual target values in the test set. Lower MSE values imply that the model is performing better.\n",
    "\n",
    "The MAE test calculates the average absolute difference between anticipated and actual values. With an MAE of about 0.3695, it signifies that the model's predictions have an absolute error of about 0.3695 units on average when compared to the actual target values in the test set. Lower MAE values, like MSE, indicate greater model performance."
   ]
  },
  {
   "cell_type": "code",
   "execution_count": 18,
   "metadata": {},
   "outputs": [],
   "source": [
    "from joblib import dump"
   ]
  },
  {
   "cell_type": "code",
   "execution_count": 19,
   "metadata": {},
   "outputs": [
    {
     "data": {
      "text/plain": [
       "['../../src/models/regression/xgb_default.joblib']"
      ]
     },
     "execution_count": 19,
     "metadata": {},
     "output_type": "execute_result"
    }
   ],
   "source": [
    "dump(xgb,  '../../src/models/regression/xgb_default.joblib')"
   ]
  },
  {
   "cell_type": "markdown",
   "metadata": {},
   "source": [
    "## GridSearch"
   ]
  },
  {
   "cell_type": "markdown",
   "metadata": {},
   "source": [
    "These hyperparameters were chosen based on common practices and considerations for XGBoost regression models\n",
    "\n",
    "- n_estimators: [100, 200, 300] - The number of boosting rounds or trees in the ensemble.\n",
    "- max_depth: [3, 4, 5] - The maximum depth of the individual trees.\n",
    "- learning_rate: [0.1, 0.2, 0.01] - The learning rate, which controls the step size during optimization."
   ]
  },
  {
   "cell_type": "code",
   "execution_count": 11,
   "metadata": {},
   "outputs": [],
   "source": [
    "from sklearn.model_selection import GridSearchCV\n",
    "\n",
    "# Define a grid of hyperparameters to search\n",
    "param_grid = {\n",
    "    'n_estimators': [100, 200, 300],  # Number of boosting rounds\n",
    "    'max_depth': [3, 4, 5],          # Maximum depth of trees\n",
    "    'learning_rate': [0.1, 0.2, 0.01]  # Learning rate\n",
    "}\n",
    "\n",
    "# Create a GridSearchCV object with the XGBoost model and parameter grid\n",
    "grid_search = GridSearchCV(estimator=xgb, param_grid=param_grid, cv=3, scoring='neg_mean_squared_error', verbose=2)\n",
    "\n",
    "# Fit the GridSearchCV object\n",
    "grid_search.fit(X_train, y_train)\n",
    "\n",
    "# Get the best parameters and the corresponding RMSE score\n",
    "best_params = grid_search.best_params_\n",
    "best_rmse = (-grid_search.best_score_) ** 0.5\n",
    "\n",
    "print(\"Best Parameters:\", best_params)\n",
    "print(\"Best RMSE:\", best_rmse)"
   ]
  },
  {
   "cell_type": "markdown",
   "metadata": {},
   "source": [
    "The above command took 134 minutes to complete\n",
    "Best Parameters: {'learning_rate': 0.2, 'max_depth': 5, 'n_estimators': 300}\n",
    "\n",
    "Best RMSE: 0.548"
   ]
  },
  {
   "cell_type": "markdown",
   "metadata": {},
   "source": [
    "## Best Params"
   ]
  },
  {
   "cell_type": "code",
   "execution_count": 20,
   "metadata": {},
   "outputs": [],
   "source": [
    "import xgboost as xgb\n",
    "\n",
    "# Create an XGBoost regressor with the best hyperparameters\n",
    "bestparam_xgb_model = xgb.XGBRegressor(\n",
    "    n_estimators=300,     # Best number of boosting rounds\n",
    "    max_depth=5,          # Best maximum depth of trees\n",
    "    learning_rate=0.2     # Best learning rate\n",
    ")\n",
    "\n",
    "# Fit the model to your training data\n",
    "bestparam_xgb_model.fit(X_train, y_train)\n",
    "\n",
    "# Model evaluation for training set\n",
    "y_train_preds_xgb01 = bestparam_xgb_model.predict(X_train)\n",
    "\n",
    "# Model evaluation for validation set\n",
    "y_val_preds_xgb01 = bestparam_xgb_model.predict(X_val)"
   ]
  },
  {
   "cell_type": "code",
   "execution_count": 21,
   "metadata": {},
   "outputs": [
    {
     "name": "stdout",
     "output_type": "stream",
     "text": [
      "MSE Training: 0.29970380180480866\n",
      "MAE Training: 0.368538644324594\n",
      "R2_score Training: 0.700555\n"
     ]
    }
   ],
   "source": [
    "print_regressor_scores(y_preds=y_train_preds_xgb01, y_actuals=y_train, set_name='Training')"
   ]
  },
  {
   "cell_type": "code",
   "execution_count": 22,
   "metadata": {},
   "outputs": [
    {
     "name": "stdout",
     "output_type": "stream",
     "text": [
      "MSE Validation: 0.2992776204642159\n",
      "MAE Validation: 0.36851118119052284\n",
      "R2_score Validation: 0.69956\n"
     ]
    }
   ],
   "source": [
    "print_regressor_scores(y_preds=y_val_preds_xgb01, y_actuals=y_val, set_name='Validation')"
   ]
  },
  {
   "cell_type": "code",
   "execution_count": 39,
   "metadata": {},
   "outputs": [],
   "source": [
    "# Calculate MSE and MAE for the training set\n",
    "mse_train_xgb01 = mean_squared_error(y_train, y_train_preds_xgb01)\n",
    "mae_train_xgb01 = mean_absolute_error(y_train, y_train_preds_xgb01)\n",
    "\n",
    "# Calculate MSE and MAE for the validation set\n",
    "mse_val_xgb01 = mean_squared_error(y_val, y_val_preds_xgb01)\n",
    "mae_val_xgb01 = mean_absolute_error(y_val, y_val_preds_xgb01)"
   ]
  },
  {
   "cell_type": "code",
   "execution_count": 24,
   "metadata": {},
   "outputs": [],
   "source": [
    "## Best Model is XGBoost with best parameters\n",
    "# Model evaluation for test set\n",
    "y_test_preds_xgb01 = bestparam_xgb_model.predict(X_test)"
   ]
  },
  {
   "cell_type": "code",
   "execution_count": 25,
   "metadata": {},
   "outputs": [
    {
     "name": "stdout",
     "output_type": "stream",
     "text": [
      "MSE test: 0.29906887490558826\n",
      "MAE test: 0.3687010286728132\n",
      "R2_score test: 0.701312\n"
     ]
    }
   ],
   "source": [
    "print_regressor_scores(y_preds=y_test_preds_xgb01, y_actuals=y_test, set_name='test')"
   ]
  },
  {
   "cell_type": "markdown",
   "metadata": {},
   "source": [
    "The MSE test calculates the average magnitude of the differences between anticipated and actual values. An MSE of about 0.2985 in this situation indicates that, on average, the predictions provided by the XGBoost have an inaccuracy of around 0.2985 units when compared to the actual target values in the test set. Lower MSE values imply that the model is performing better.\n",
    "\n",
    "The MAE test calculates the average absolute difference between anticipated and actual values. With an MAE of about 0.3685, it signifies that the model's predictions have an absolute error of about 0.3685 units on average when compared to the actual target values in the test set. Lower MAE values, like MSE, indicate greater model performance."
   ]
  },
  {
   "cell_type": "markdown",
   "metadata": {},
   "source": [
    "The best model for this experiment is XGBoost Regressor with the best params"
   ]
  },
  {
   "cell_type": "code",
   "execution_count": 36,
   "metadata": {},
   "outputs": [
    {
     "data": {
      "text/plain": [
       "['../../models/xgb_bestparam.joblib']"
      ]
     },
     "execution_count": 36,
     "metadata": {},
     "output_type": "execute_result"
    }
   ],
   "source": [
    "dump(bestparam_xgb_model,  '../../models/xgb_bestparam.joblib')"
   ]
  },
  {
   "cell_type": "markdown",
   "metadata": {},
   "source": [
    "## Feature importance "
   ]
  },
  {
   "cell_type": "code",
   "execution_count": 31,
   "metadata": {},
   "outputs": [
    {
     "name": "stdout",
     "output_type": "stream",
     "text": [
      "                feature  importance\n",
      "5     segmentsCabinCode    0.281847\n",
      "2        isBasicEconomy    0.277410\n",
      "0   totalTravelDistance    0.209181\n",
      "1             isNonStop    0.049425\n",
      "7      flightDate_month    0.048964\n",
      "6        flightDate_day    0.047107\n",
      "3       startingAirport    0.043270\n",
      "4    destinationAirport    0.042796\n",
      "8       flightDate_year    0.000000\n",
      "9       DepartTime_hour    0.000000\n",
      "10    DepartTime_minute    0.000000\n",
      "11    DepartTime_second    0.000000\n"
     ]
    }
   ],
   "source": [
    "# List of feature names\n",
    "features = ['totalTravelDistance', 'isNonStop', 'isBasicEconomy', 'startingAirport', 'destinationAirport', 'segmentsCabinCode',\n",
    "            'flightDate_day', 'flightDate_month', 'flightDate_year', 'DepartTime_hour', 'DepartTime_minute', 'DepartTime_second']\n",
    "\n",
    "# Feature importances\n",
    "feat_imp = bestparam_xgb_model.feature_importances_\n",
    "\n",
    "# Create a DataFrame to store feature names and their importances\n",
    "feat_imp_df = pd.DataFrame({'feature': features, 'importance': feat_imp})\n",
    "\n",
    "# Sort the DataFrame by importance in descending order\n",
    "feat_imp_df = feat_imp_df.sort_values(by='importance', ascending=False)\n",
    "\n",
    "# Display the sorted feature importances\n",
    "print(feat_imp_df)"
   ]
  },
  {
   "cell_type": "code",
   "execution_count": 35,
   "metadata": {},
   "outputs": [
    {
     "data": {
      "image/png": "[encoded data removed]",
      "text/plain": [
       "<Figure size 1000x600 with 1 Axes>"
      ]
     },
     "metadata": {},
     "output_type": "display_data"
    }
   ],
   "source": [
    "import seaborn as sns\n",
    "# Create a colorful bar plot\n",
    "plt.figure(figsize=(10, 6))\n",
    "sns.barplot(x='importance', y='feature', data=feat_imp_df, palette='viridis')\n",
    "plt.xlabel('Feature Importance')\n",
    "plt.ylabel('Feature')\n",
    "plt.title('Feature Importances (Importance > 0.004)')\n",
    "plt.tight_layout()\n",
    "plt.show()"
   ]
  },
  {
   "cell_type": "markdown",
   "metadata": {},
   "source": [
    "According to the feature importance analysis, `segmentsCabinCode` and `isBasicEconomy` have the most predictive power, each of which contributes significantly to the model's performance.`totalTravelDistance` is also important. \n",
    "\n",
    "In comparison, factors such as `flightDate_year,` `DepartTime_hour,` `DepartTime_minute,` and `DepartTime_second` have no effect on predicting airline ticket prices."
   ]
  },
  {
   "cell_type": "markdown",
   "metadata": {},
   "source": [
    "## Adaboost \n"
   ]
  },
  {
   "cell_type": "markdown",
   "metadata": {},
   "source": [
    "AdaBoostRegressor is an ensemble learning strategy that combines the predictions of numerous weak learners (often decision trees) to construct a stronger, more accurate predictive model. This ensemble strategy frequently outperforms individual models and can handle complex data interactions."
   ]
  },
  {
   "cell_type": "code",
   "execution_count": 32,
   "metadata": {},
   "outputs": [
    {
     "name": "stderr",
     "output_type": "stream",
     "text": [
      "/Library/Frameworks/Python.framework/Versions/3.11/lib/python3.11/site-packages/sklearn/ensemble/_base.py:166: FutureWarning: `base_estimator` was renamed to `estimator` in version 1.2 and will be removed in 1.4.\n",
      "  warnings.warn(\n"
     ]
    }
   ],
   "source": [
    "from sklearn.ensemble import AdaBoostRegressor\n",
    "# Create an AdaBoostRegressor with DecisionTree as the base estimator\n",
    "ada_boost_model = AdaBoostRegressor(base_estimator=DecisionTreeRegressor(max_depth=2), n_estimators=50, random_state=42)\n",
    "\n",
    "# Train the model on the training data\n",
    "ada_boost_model.fit(X_train, y_train)\n",
    "\n",
    "# Model evaluation for training set\n",
    "y_train_preds_ada = ada_boost_model.predict(X_train)\n",
    "\n",
    "# Model evaluation for validation set\n",
    "y_val_preds_ada = ada_boost_model.predict(X_val)"
   ]
  },
  {
   "cell_type": "code",
   "execution_count": 33,
   "metadata": {},
   "outputs": [
    {
     "name": "stdout",
     "output_type": "stream",
     "text": [
      "MSE Training: 0.6438086013885033\n",
      "MAE Training: 0.5989128252886454\n",
      "R2_score Training: 0.356748\n"
     ]
    }
   ],
   "source": [
    "print_regressor_scores(y_preds=y_train_preds_ada, y_actuals=y_train, set_name='Training')"
   ]
  },
  {
   "cell_type": "code",
   "execution_count": 34,
   "metadata": {},
   "outputs": [
    {
     "name": "stdout",
     "output_type": "stream",
     "text": [
      "MSE Validation: 0.6420047543249067\n",
      "MAE Validation: 0.598884721128226\n",
      "R2_score Validation: 0.355501\n"
     ]
    }
   ],
   "source": [
    "print_regressor_scores(y_preds=y_val_preds_ada, y_actuals=y_val, set_name='Validation')"
   ]
  },
  {
   "cell_type": "code",
   "execution_count": 40,
   "metadata": {},
   "outputs": [],
   "source": [
    "# Calculate MSE and MAE for the training set\n",
    "mse_train_ada = mean_squared_error(y_train, y_train_preds_ada)\n",
    "mae_train_ada = mean_absolute_error(y_train, y_train_preds_ada)\n",
    "\n",
    "# Calculate MSE and MAE for the validation set\n",
    "mse_val_ada = mean_squared_error(y_val, y_val_preds_ada)\n",
    "mae_val_ada = mean_absolute_error(y_val, y_val_preds_ada)"
   ]
  },
  {
   "cell_type": "markdown",
   "metadata": {},
   "source": [
    "However, the XGBoost with params n_estimators=300,   max_depth=5,learning_rate=0.2   are the best model in this experiment"
   ]
  },
  {
   "cell_type": "code",
   "execution_count": 50,
   "metadata": {},
   "outputs": [
    {
     "data": {
      "image/png": "[encoded data removed]",
      "text/plain": [
       "<Figure size 1200x600 with 2 Axes>"
      ]
     },
     "metadata": {},
     "output_type": "display_data"
    }
   ],
   "source": [
    "import matplotlib.pyplot as plt\n",
    "\n",
    "# Define the models and corresponding MSE and MAE values\n",
    "models = [\"Decision Tree\", \"XGBoost\", \"XGBoost best params\", \"AdaBoost\"]\n",
    "mse_train_values = [mse_train_tree, mse_train_xgb, mse_train_xgb01, mse_train_ada]\n",
    "mae_train_values = [mae_train_tree, mae_train_xgb, mae_train_xgb01, mae_train_ada]\n",
    "mse_val_values = [mse_val_tree, mse_val_xgb, mse_val_xgb01, mse_val_ada]\n",
    "mae_val_values = [mae_val_tree, mae_val_xgb, mae_val_xgb01, mae_val_ada]\n",
    "\n",
    "# Create subplots for training and validation sets\n",
    "plt.figure(figsize=(12, 6))\n",
    "\n",
    "# Plot MSE for training set\n",
    "plt.subplot(1, 2, 1)\n",
    "bars = plt.bar(models, mse_train_values, color='b', alpha=0.7)\n",
    "plt.title('MSE on Training Set')\n",
    "plt.xlabel('Models')\n",
    "plt.ylabel('MSE')\n",
    "plt.ylim(0, max(mse_train_values) * 1.2)\n",
    "\n",
    "# Add values on top of the bars for training set\n",
    "for bar, value in zip(bars, mse_train_values):\n",
    "    plt.text(bar.get_x() + bar.get_width() / 2, bar.get_height(), round(value, 4), ha='center', va='bottom')\n",
    "\n",
    "# Plot MSE for validation set\n",
    "plt.subplot(1, 2, 2)\n",
    "bars = plt.bar(models, mse_val_values, color='r', alpha=0.7)\n",
    "plt.title('MSE on Validation Set')\n",
    "plt.xlabel('Models')\n",
    "plt.ylabel('MSE')\n",
    "plt.ylim(0, max(mse_val_values) * 1.2)\n",
    "\n",
    "# Add values on top of the bars for validation set\n",
    "for bar, value in zip(bars, mse_val_values):\n",
    "    plt.text(bar.get_x() + bar.get_width() / 2, bar.get_height(), round(value, 4), ha='center', va='bottom')\n",
    "\n",
    "plt.tight_layout()  # Ensures the subplots do not overlap\n",
    "\n",
    "# Show the plot\n",
    "plt.show()\n"
   ]
  },
  {
   "cell_type": "markdown",
   "metadata": {},
   "source": [
    "The evaluation of Mean Squared Error (MSE) scores reveals that the model performance differs significantly. On the training set, the MSE score of the XGBoost model with optimised parameters (0.2997) marginally outperforms that of the default XGBoost configuration (0.3015). This distinction emphasises the tuned XGBoost model's improved predictive capability. Furthermore, when compared to the Decision Tree (MSE: 0.5146) and AdaBoost (MSE: 0.6438) models, XGBoost outperforms both.\n",
    "\n",
    "Similar trends can be seen in the validation set, where the MSE of the optimised XGBoost (0.2993) remains marginally higher than that of the default XGBoost (0.3011). XGBoost outperforms the Decision Tree (MSE: 0.5137) and AdaBoost (MSE: 0.642) models in this context."
   ]
  },
  {
   "cell_type": "code",
   "execution_count": 49,
   "metadata": {},
   "outputs": [
    {
     "data": {
      "image/png": "[encoded data removed]",
      "text/plain": [
       "<Figure size 1200x600 with 2 Axes>"
      ]
     },
     "metadata": {},
     "output_type": "display_data"
    }
   ],
   "source": [
    "# Create subplots for training and validation sets\n",
    "plt.figure(figsize=(12, 6))\n",
    "\n",
    "# Plot MAE for training set\n",
    "plt.subplot(1, 2, 1)\n",
    "bars = plt.bar(models, mae_train_values, color='b', alpha=0.7)\n",
    "plt.title('MAE on Training Set')\n",
    "plt.xlabel('Models')\n",
    "plt.ylabel('MAE')\n",
    "plt.ylim(0, max(mae_train_values) * 1.2)\n",
    "\n",
    "# Add values on top of the bars for training set\n",
    "for bar, value in zip(bars, mae_train_values):\n",
    "    plt.text(bar.get_x() + bar.get_width() / 2, bar.get_height(), round(value, 4), ha='center', va='bottom')\n",
    "\n",
    "# Plot MAE for validation set\n",
    "plt.subplot(1, 2, 2)\n",
    "bars = plt.bar(models, mae_val_values, color='r', alpha=0.7)\n",
    "plt.title('MAE on Validation Set')\n",
    "plt.xlabel('Models')\n",
    "plt.ylabel('MAE')\n",
    "plt.ylim(0, max(mae_val_values) * 1.2)\n",
    "\n",
    "# Add values on top of the bars for validation set\n",
    "for bar, value in zip(bars, mae_val_values):\n",
    "    plt.text(bar.get_x() + bar.get_width() / 2, bar.get_height(), round(value, 4), ha='center', va='bottom')\n",
    "\n",
    "plt.tight_layout()  # Ensures the subplots do not overlap\n",
    "\n",
    "# Show the plot\n",
    "plt.show()"
   ]
  },
  {
   "cell_type": "markdown",
   "metadata": {},
   "source": [
    "The evaluation of MAE scores reveals that the model performance differs significantly. On the training set, the MAE score of the XGBoost model with optimised parameters (0.3685) marginally outperforms that of the default XGBoost configuration (0.3694). This distinction emphasises the tuned XGBoost model's improved predictive capability. Furthermore, when compared to the Decision Tree (MAE: 0.5156) and AdaBoost (MAE: 0.5989) models, XGBoost outperforms both.\n",
    "\n",
    "Similar trends can be seen in the validation set, where the MAE of the optimised XGBoost (0.3685) remains marginally higher than that of the default XGBoost (0.3693). XGBoost outperforms the Decision Tree (MAE: 0.5155) and AdaBoost (MAE: 0.5989) models in this context."
   ]
  },
  {
   "cell_type": "code",
   "execution_count": 53,
   "metadata": {},
   "outputs": [
    {
     "data": {
      "image/png": "[encoded data removed]",
      "text/plain": [
       "<Figure size 1200x600 with 1 Axes>"
      ]
     },
     "metadata": {},
     "output_type": "display_data"
    }
   ],
   "source": [
    "import numpy as np\n",
    "# Create an array of indices for the models\n",
    "x = np.arange(len(models))\n",
    "\n",
    "# Create subplots for training and validation sets\n",
    "plt.figure(figsize=(12, 6))\n",
    "\n",
    "# Plot MSE for training set\n",
    "plt.plot(x, mse_train_values, marker='o', label='MSE (Training)', color='b')\n",
    "\n",
    "# Plot MSE for validation set\n",
    "plt.plot(x, mse_val_values, marker='o', label='MSE (Validation)', color='r')\n",
    "\n",
    "# Plot MAE for training set\n",
    "plt.plot(x, mae_train_values, marker='x', label='MAE (Training)', color='g')\n",
    "\n",
    "# Plot MAE for validation set\n",
    "plt.plot(x, mae_val_values, marker='x', label='MAE (Validation)', color='m')\n",
    "\n",
    "# Set the x-axis labels to model names\n",
    "plt.xticks(x, models, rotation=45)\n",
    "\n",
    "# # Add values on top of the data points\n",
    "# for i in range(len(models)):\n",
    "#     plt.text(x[i], mse_train_values[i], f\"{mse_train_values[i]:.4f}\", ha='center', va='bottom', color='b')\n",
    "#     plt.text(x[i], mse_val_values[i], f\"{mse_val_values[i]:.4f}\", ha='center', va='bottom', color='r')\n",
    "#     plt.text(x[i], mae_train_values[i], f\"{mae_train_values[i]:.4f}\", ha='center', va='top', color='g')\n",
    "#     plt.text(x[i], mae_val_values[i], f\"{mae_val_values[i]:.4f}\", ha='center', va='top', color='m')\n",
    "\n",
    "plt.title('MSE and MAE Comparison')\n",
    "plt.xlabel('Models')\n",
    "plt.ylabel('Error')\n",
    "plt.legend()\n",
    "plt.grid()\n",
    "\n",
    "# Show the plot\n",
    "plt.show()\n"
   ]
  },
  {
   "cell_type": "code",
   "execution_count": 55,
   "metadata": {},
   "outputs": [
    {
     "data": {
      "application/vnd.plotly.v1+json": {
       "config": {
        "plotlyServerURL": "https://plot.ly"
       },
       "data": [
        {
         "hovertemplate": "Error Type=MSE<br>Model=%{x}<br>Error Value=%{y}<extra></extra>",
         "legendgroup": "MSE",
         "line": {
          "color": "#636efa",
          "dash": "solid"
         },
         "marker": {
          "symbol": "circle"
         },
         "mode": "lines",
         "name": "MSE",
         "orientation": "v",
         "showlegend": true,
         "type": "scatter",
         "x": [
          "Decision Tree",
          "XGBoost",
          "XGBoost best params",
          "AdaBoost"
         ],
         "xaxis": "x",
         "y": [
          0.514622234165927,
          0.30150863525581,
          0.29970380180480866,
          0.6438086013885033
         ],
         "yaxis": "y"
        },
        {
         "hovertemplate": "Error Type=MAE<br>Model=%{x}<br>Error Value=%{y}<extra></extra>",
         "legendgroup": "MAE",
         "line": {
          "color": "#EF553B",
          "dash": "solid"
         },
         "marker": {
          "symbol": "circle"
         },
         "mode": "lines",
         "name": "MAE",
         "orientation": "v",
         "showlegend": true,
         "type": "scatter",
         "x": [
          "Decision Tree",
          "XGBoost",
          "XGBoost best params",
          "AdaBoost"
         ],
         "xaxis": "x",
         "y": [
          0.5156166134098837,
          0.36939060436361343,
          0.368538644324594,
          0.5989128252886454
         ],
         "yaxis": "y"
        }
       ],
       "layout": {
        "legend": {
         "title": {
          "text": "Error Type"
         },
         "tracegroupgap": 0
        },
        "template": {
         "data": {
          "bar": [
           {
            "error_x": {
             "color": "#2a3f5f"
            },
            "error_y": {
             "color": "#2a3f5f"
            },
            "marker": {
             "line": {
              "color": "#E5ECF6",
              "width": 0.5
             },
             "pattern": {
              "fillmode": "overlay",
              "size": 10,
              "solidity": 0.2
             }
            },
            "type": "bar"
           }
          ],
          "barpolar": [
           {
            "marker": {
             "line": {
              "color": "#E5ECF6",
              "width": 0.5
             },
             "pattern": {
              "fillmode": "overlay",
              "size": 10,
              "solidity": 0.2
             }
            },
            "type": "barpolar"
           }
          ],
          "carpet": [
           {
            "aaxis": {
             "endlinecolor": "#2a3f5f",
             "gridcolor": "white",
             "linecolor": "white",
             "minorgridcolor": "white",
             "startlinecolor": "#2a3f5f"
            },
            "baxis": {
             "endlinecolor": "#2a3f5f",
             "gridcolor": "white",
             "linecolor": "white",
             "minorgridcolor": "white",
             "startlinecolor": "#2a3f5f"
            },
            "type": "carpet"
           }
          ],
          "choropleth": [
           {
            "colorbar": {
             "outlinewidth": 0,
             "ticks": ""
            },
            "type": "choropleth"
           }
          ],
          "contour": [
           {
            "colorbar": {
             "outlinewidth": 0,
             "ticks": ""
            },
            "colorscale": [
             [
              0,
              "#0d0887"
             ],
             [
              0.1111111111111111,
              "#46039f"
             ],
             [
              0.2222222222222222,
              "#7201a8"
             ],
             [
              0.3333333333333333,
              "#9c179e"
             ],
             [
              0.4444444444444444,
              "#bd3786"
             ],
             [
              0.5555555555555556,
              "#d8576b"
             ],
             [
              0.6666666666666666,
              "#ed7953"
             ],
             [
              0.7777777777777778,
              "#fb9f3a"
             ],
             [
              0.8888888888888888,
              "#fdca26"
             ],
             [
              1,
              "#f0f921"
             ]
            ],
            "type": "contour"
           }
          ],
          "contourcarpet": [
           {
            "colorbar": {
             "outlinewidth": 0,
             "ticks": ""
            },
            "type": "contourcarpet"
           }
          ],
          "heatmap": [
           {
            "colorbar": {
             "outlinewidth": 0,
             "ticks": ""
            },
            "colorscale": [
             [
              0,
              "#0d0887"
             ],
             [
              0.1111111111111111,
              "#46039f"
             ],
             [
              0.2222222222222222,
              "#7201a8"
             ],
             [
              0.3333333333333333,
              "#9c179e"
             ],
             [
              0.4444444444444444,
              "#bd3786"
             ],
             [
              0.5555555555555556,
              "#d8576b"
             ],
             [
              0.6666666666666666,
              "#ed7953"
             ],
             [
              0.7777777777777778,
              "#fb9f3a"
             ],
             [
              0.8888888888888888,
              "#fdca26"
             ],
             [
              1,
              "#f0f921"
             ]
            ],
            "type": "heatmap"
           }
          ],
          "heatmapgl": [
           {
            "colorbar": {
             "outlinewidth": 0,
             "ticks": ""
            },
            "colorscale": [
             [
              0,
              "#0d0887"
             ],
             [
              0.1111111111111111,
              "#46039f"
             ],
             [
              0.2222222222222222,
              "#7201a8"
             ],
             [
              0.3333333333333333,
              "#9c179e"
             ],
             [
              0.4444444444444444,
              "#bd3786"
             ],
             [
              0.5555555555555556,
              "#d8576b"
             ],
             [
              0.6666666666666666,
              "#ed7953"
             ],
             [
              0.7777777777777778,
              "#fb9f3a"
             ],
             [
              0.8888888888888888,
              "#fdca26"
             ],
             [
              1,
              "#f0f921"
             ]
            ],
            "type": "heatmapgl"
           }
          ],
          "histogram": [
           {
            "marker": {
             "pattern": {
              "fillmode": "overlay",
              "size": 10,
              "solidity": 0.2
             }
            },
            "type": "histogram"
           }
          ],
          "histogram2d": [
           {
            "colorbar": {
             "outlinewidth": 0,
             "ticks": ""
            },
            "colorscale": [
             [
              0,
              "#0d0887"
             ],
             [
              0.1111111111111111,
              "#46039f"
             ],
             [
              0.2222222222222222,
              "#7201a8"
             ],
             [
              0.3333333333333333,
              "#9c179e"
             ],
             [
              0.4444444444444444,
              "#bd3786"
             ],
             [
              0.5555555555555556,
              "#d8576b"
             ],
             [
              0.6666666666666666,
              "#ed7953"
             ],
             [
              0.7777777777777778,
              "#fb9f3a"
             ],
             [
              0.8888888888888888,
              "#fdca26"
             ],
             [
              1,
              "#f0f921"
             ]
            ],
            "type": "histogram2d"
           }
          ],
          "histogram2dcontour": [
           {
            "colorbar": {
             "outlinewidth": 0,
             "ticks": ""
            },
            "colorscale": [
             [
              0,
              "#0d0887"
             ],
             [
              0.1111111111111111,
              "#46039f"
             ],
             [
              0.2222222222222222,
              "#7201a8"
             ],
             [
              0.3333333333333333,
              "#9c179e"
             ],
             [
              0.4444444444444444,
              "#bd3786"
             ],
             [
              0.5555555555555556,
              "#d8576b"
             ],
             [
              0.6666666666666666,
              "#ed7953"
             ],
             [
              0.7777777777777778,
              "#fb9f3a"
             ],
             [
              0.8888888888888888,
              "#fdca26"
             ],
             [
              1,
              "#f0f921"
             ]
            ],
            "type": "histogram2dcontour"
           }
          ],
          "mesh3d": [
           {
            "colorbar": {
             "outlinewidth": 0,
             "ticks": ""
            },
            "type": "mesh3d"
           }
          ],
          "parcoords": [
           {
            "line": {
             "colorbar": {
              "outlinewidth": 0,
              "ticks": ""
             }
            },
            "type": "parcoords"
           }
          ],
          "pie": [
           {
            "automargin": true,
            "type": "pie"
           }
          ],
          "scatter": [
           {
            "fillpattern": {
             "fillmode": "overlay",
             "size": 10,
             "solidity": 0.2
            },
            "type": "scatter"
           }
          ],
          "scatter3d": [
           {
            "line": {
             "colorbar": {
              "outlinewidth": 0,
              "ticks": ""
             }
            },
            "marker": {
             "colorbar": {
              "outlinewidth": 0,
              "ticks": ""
             }
            },
            "type": "scatter3d"
           }
          ],
          "scattercarpet": [
           {
            "marker": {
             "colorbar": {
              "outlinewidth": 0,
              "ticks": ""
             }
            },
            "type": "scattercarpet"
           }
          ],
          "scattergeo": [
           {
            "marker": {
             "colorbar": {
              "outlinewidth": 0,
              "ticks": ""
             }
            },
            "type": "scattergeo"
           }
          ],
          "scattergl": [
           {
            "marker": {
             "colorbar": {
              "outlinewidth": 0,
              "ticks": ""
             }
            },
            "type": "scattergl"
           }
          ],
          "scattermapbox": [
           {
            "marker": {
             "colorbar": {
              "outlinewidth": 0,
              "ticks": ""
             }
            },
            "type": "scattermapbox"
           }
          ],
          "scatterpolar": [
           {
            "marker": {
             "colorbar": {
              "outlinewidth": 0,
              "ticks": ""
             }
            },
            "type": "scatterpolar"
           }
          ],
          "scatterpolargl": [
           {
            "marker": {
             "colorbar": {
              "outlinewidth": 0,
              "ticks": ""
             }
            },
            "type": "scatterpolargl"
           }
          ],
          "scatterternary": [
           {
            "marker": {
             "colorbar": {
              "outlinewidth": 0,
              "ticks": ""
             }
            },
            "type": "scatterternary"
           }
          ],
          "surface": [
           {
            "colorbar": {
             "outlinewidth": 0,
             "ticks": ""
            },
            "colorscale": [
             [
              0,
              "#0d0887"
             ],
             [
              0.1111111111111111,
              "#46039f"
             ],
             [
              0.2222222222222222,
              "#7201a8"
             ],
             [
              0.3333333333333333,
              "#9c179e"
             ],
             [
              0.4444444444444444,
              "#bd3786"
             ],
             [
              0.5555555555555556,
              "#d8576b"
             ],
             [
              0.6666666666666666,
              "#ed7953"
             ],
             [
              0.7777777777777778,
              "#fb9f3a"
             ],
             [
              0.8888888888888888,
              "#fdca26"
             ],
             [
              1,
              "#f0f921"
             ]
            ],
            "type": "surface"
           }
          ],
          "table": [
           {
            "cells": {
             "fill": {
              "color": "#EBF0F8"
             },
             "line": {
              "color": "white"
             }
            },
            "header": {
             "fill": {
              "color": "#C8D4E3"
             },
             "line": {
              "color": "white"
             }
            },
            "type": "table"
           }
          ]
         },
         "layout": {
          "annotationdefaults": {
           "arrowcolor": "#2a3f5f",
           "arrowhead": 0,
           "arrowwidth": 1
          },
          "autotypenumbers": "strict",
          "coloraxis": {
           "colorbar": {
            "outlinewidth": 0,
            "ticks": ""
           }
          },
          "colorscale": {
           "diverging": [
            [
             0,
             "#8e0152"
            ],
            [
             0.1,
             "#c51b7d"
            ],
            [
             0.2,
             "#de77ae"
            ],
            [
             0.3,
             "#f1b6da"
            ],
            [
             0.4,
             "#fde0ef"
            ],
            [
             0.5,
             "#f7f7f7"
            ],
            [
             0.6,
             "#e6f5d0"
            ],
            [
             0.7,
             "#b8e186"
            ],
            [
             0.8,
             "#7fbc41"
            ],
            [
             0.9,
             "#4d9221"
            ],
            [
             1,
             "#276419"
            ]
           ],
           "sequential": [
            [
             0,
             "#0d0887"
            ],
            [
             0.1111111111111111,
             "#46039f"
            ],
            [
             0.2222222222222222,
             "#7201a8"
            ],
            [
             0.3333333333333333,
             "#9c179e"
            ],
            [
             0.4444444444444444,
             "#bd3786"
            ],
            [
             0.5555555555555556,
             "#d8576b"
            ],
            [
             0.6666666666666666,
             "#ed7953"
            ],
            [
             0.7777777777777778,
             "#fb9f3a"
            ],
            [
             0.8888888888888888,
             "#fdca26"
            ],
            [
             1,
             "#f0f921"
            ]
           ],
           "sequentialminus": [
            [
             0,
             "#0d0887"
            ],
            [
             0.1111111111111111,
             "#46039f"
            ],
            [
             0.2222222222222222,
             "#7201a8"
            ],
            [
             0.3333333333333333,
             "#9c179e"
            ],
            [
             0.4444444444444444,
             "#bd3786"
            ],
            [
             0.5555555555555556,
             "#d8576b"
            ],
            [
             0.6666666666666666,
             "#ed7953"
            ],
            [
             0.7777777777777778,
             "#fb9f3a"
            ],
            [
             0.8888888888888888,
             "#fdca26"
            ],
            [
             1,
             "#f0f921"
            ]
           ]
          },
          "colorway": [
           "#636efa",
           "#EF553B",
           "#00cc96",
           "#ab63fa",
           "#FFA15A",
           "#19d3f3",
           "#FF6692",
           "#B6E880",
           "#FF97FF",
           "#FECB52"
          ],
          "font": {
           "color": "#2a3f5f"
          },
          "geo": {
           "bgcolor": "white",
           "lakecolor": "white",
           "landcolor": "#E5ECF6",
           "showlakes": true,
           "showland": true,
           "subunitcolor": "white"
          },
          "hoverlabel": {
           "align": "left"
          },
          "hovermode": "closest",
          "mapbox": {
           "style": "light"
          },
          "paper_bgcolor": "white",
          "plot_bgcolor": "#E5ECF6",
          "polar": {
           "angularaxis": {
            "gridcolor": "white",
            "linecolor": "white",
            "ticks": ""
           },
           "bgcolor": "#E5ECF6",
           "radialaxis": {
            "gridcolor": "white",
            "linecolor": "white",
            "ticks": ""
           }
          },
          "scene": {
           "xaxis": {
            "backgroundcolor": "#E5ECF6",
            "gridcolor": "white",
            "gridwidth": 2,
            "linecolor": "white",
            "showbackground": true,
            "ticks": "",
            "zerolinecolor": "white"
           },
           "yaxis": {
            "backgroundcolor": "#E5ECF6",
            "gridcolor": "white",
            "gridwidth": 2,
            "linecolor": "white",
            "showbackground": true,
            "ticks": "",
            "zerolinecolor": "white"
           },
           "zaxis": {
            "backgroundcolor": "#E5ECF6",
            "gridcolor": "white",
            "gridwidth": 2,
            "linecolor": "white",
            "showbackground": true,
            "ticks": "",
            "zerolinecolor": "white"
           }
          },
          "shapedefaults": {
           "line": {
            "color": "#2a3f5f"
           }
          },
          "ternary": {
           "aaxis": {
            "gridcolor": "white",
            "linecolor": "white",
            "ticks": ""
           },
           "baxis": {
            "gridcolor": "white",
            "linecolor": "white",
            "ticks": ""
           },
           "bgcolor": "#E5ECF6",
           "caxis": {
            "gridcolor": "white",
            "linecolor": "white",
            "ticks": ""
           }
          },
          "title": {
           "x": 0.05
          },
          "xaxis": {
           "automargin": true,
           "gridcolor": "white",
           "linecolor": "white",
           "ticks": "",
           "title": {
            "standoff": 15
           },
           "zerolinecolor": "white",
           "zerolinewidth": 2
          },
          "yaxis": {
           "automargin": true,
           "gridcolor": "white",
           "linecolor": "white",
           "ticks": "",
           "title": {
            "standoff": 15
           },
           "zerolinecolor": "white",
           "zerolinewidth": 2
          }
         }
        },
        "title": {
         "text": "MSE and MAE Comparison for Different Models (Training Set)"
        },
        "xaxis": {
         "anchor": "y",
         "domain": [
          0,
          1
         ],
         "title": {
          "text": "Model"
         }
        },
        "yaxis": {
         "anchor": "x",
         "domain": [
          0,
          1
         ],
         "title": {
          "text": "Error Value"
         }
        }
       }
      }
     },
     "metadata": {},
     "output_type": "display_data"
    }
   ],
   "source": [
    "import plotly.express as px\n",
    "# Create a DataFrame for the data\n",
    "data = pd.DataFrame({\n",
    "    'Model': models * 2,\n",
    "    'Error Type': ['MSE'] * len(models) + ['MAE'] * len(models),\n",
    "    'Value': mse_train_values + mae_train_values\n",
    "})\n",
    "\n",
    "# Create a line chart using Plotly\n",
    "fig = px.line(data, x='Model', y='Value', color='Error Type',\n",
    "              labels={'Value': 'Error Value'},\n",
    "              title='MSE and MAE Comparison for Different Models (Training Set)')\n",
    "\n",
    "# Show the plot\n",
    "fig.show()"
   ]
  },
  {
   "cell_type": "markdown",
   "metadata": {},
   "source": [
    "The consistent superior performance of XGBoost across both training and validation sets reinforces its position as the most effective model for the given task, making it the prefered choice for further analysis and implementation."
   ]
  },
  {
   "cell_type": "markdown",
   "metadata": {},
   "source": [
    "## Results in deploy app "
   ]
  },
  {
   "cell_type": "code",
   "execution_count": 56,
   "metadata": {},
   "outputs": [
    {
     "name": "stdout",
     "output_type": "stream",
     "text": [
      "The total fare for your trip with XGBoost prediction: $10.46\n"
     ]
    }
   ],
   "source": [
    "# Create input data for prediction (similar to your previous code)\n",
    "input_data = {\n",
    "        'totalTravelDistance': [1569.618],\n",
    "        'isNonStop': [True],\n",
    "        'isBasicEconomy': [False],\n",
    "        'startingAirport': [1],\n",
    "        'destinationAirport': [3],\n",
    "        'segmentsCabinCode': [28],\n",
    "        'flightDate_day': [11],\n",
    "        'flightDate_month': [11],\n",
    "        'flightDate_year': [2023],\n",
    "        'DepartTime_hour': [10],\n",
    "        'DepartTime_minute': [30],\n",
    "        'DepartTime_second': [0],\n",
    "    }\n",
    "\n",
    "# Create a DataFrame with the input data\n",
    "input_df = pd.DataFrame(input_data)\n",
    "\n",
    "# Use the loaded models to make predictions\n",
    "total_fare = bestparam_xgb_model.predict(input_df)\n",
    "   \n",
    "print(f'The total fare for your trip with XGBoost prediction: ${total_fare[0]:.2f}')"
   ]
  },
  {
   "cell_type": "markdown",
   "metadata": {},
   "source": [
    "## Limitation\n",
    "\n",
    "The discrepancy in the prediction of the total fare with XGBoost may be attributed to various factors. \n",
    "\n",
    "Here are some possible reasons for the prediction result:\n",
    "1. **Limited Data Range**: The primary cause of the XGBoost prediction divergence is due to the training data's temporal constraints. Forecasting airfare prices for a date in 2023 becomes inherently difficult with a training dataset spanning the period from April 2022 to July 2022. Inadequate historical data within the desired timeframe can have a significant impact on prediction accuracy. To address this, the training dataset must be supplemented with historical data that extends into 2023, allowing the model to better understand evolving pricing trends.\n",
    "\n",
    "2. **External Factors**: Flight prices are highly volatile due to a variety of external factors such as seasonality, holidays, economic conditions, and demand fluctuations. The predictive model's accuracy may suffer if these extraneous determinants are not taken into account. A comprehensive approach includes features that capture the subtleties of seasonality and other external factors. As a result, the model can adapt to the ever-changing landscape of airfare pricing and provide more accurate predictions for future dates.\n",
    "\n",
    "3. **Feature Importance**: The feature \"flightDate_year\" is important in predictions, but its weighting within the model may not be proportional to its importance. If it is fixed at 2023, the model's predictive capability may be compromised. To address this issue, feature importance must be reevaluated, and the model's focus on the \"flightDate_year\" feature must be adjusted.\n",
    "\n",
    "To enhance prediction accuracy for future dates, we recommend the following actions:\n",
    "1. **Collect and integrate historical data spanning 2023 and beyond into the training dataset**, allowing the model to accommodate future scenarios.\n",
    "\n",
    "2. **Add variables capable of capturing seasonality, holiday effects**, and other external influences on airfare prices to the feature set.\n",
    "\n",
    "3. **Ensure meticulous feature engineering and preprocessing** to effectively harness the underlying complexities of the data.\n",
    "\n",
    "4. **Reevaluate the model's feature importance** and overall performance to fine-tune its parameters and align them with the problem's specific requirements.\n",
    "\n",
    "Given the airline industry's multifaceted and dynamic nature, it is critical to recognise the inherent complexity of accurately predicting airfare prices. To produce reliable predictions, effective solutions frequently necessitate a combination of domain expertise and data-driven refinement."
   ]
  },
  {
   "cell_type": "markdown",
   "metadata": {},
   "source": [
    "## Reference\n",
    "So, A. (2023, August).36120_AdvMLA-Lab1_Exercise2-Solutions.ipynb. https://colab.research.google.com/drive/15OZMUMwUBoAmtrfuzJaEhF1Ta8XkCmQZ?authuser=2#scrollTo=Pw_LqGuGC9Oz\n",
    "\n",
    "So, A. (2023, August).36120_AdvMLA-Lab2_Exercise1-Solutions.ipynb. https://colab.research.google.com/drive/15OZMUMwUBoAmtrfuzJaEhF1Ta8XkCmQZ?authuser=2#scrollTo=Pw_LqGuGC9Oz\n",
    "\n",
    "So, A. (2023, August).36120_AdvMLA-Lab2_Exercise2-Solutions.ipynb. https://colab.research.google.com/drive/1HzN0kcWIFmApxJFDYQoiBZVurVZd9HJk?authuser=2\n",
    "\n",
    "So, A. (2023, August).36120_AdvMLA-Lab2_Exercise3-Solutions.ipynb. https://colab.research.google.com/drive/1LzgqM0bRDNL9hf0GiE2t2xCzpamOvwAJ?authuser=2\n"
   ]
  },
  {
   "cell_type": "markdown",
   "metadata": {},
   "source": [
    "***\n",
    "**Name**: Wongwara Wijara\n",
    "\n",
    "**Student id**: 14191732\n",
    "\n",
    "**Email**: Wongwara.Wijara@student.uts.edu.au\n",
    "\n",
    "**Subject**: 36120 Advanced Machine Learning Application - Spring 2023\n",
    "\n",
    "**University**: University of Technology Sydney\n",
    "***"
   ]
  }
 ],
 "metadata": {
  "kernelspec": {
   "display_name": "base",
   "language": "python",
   "name": "python3"
  },
  "language_info": {
   "codemirror_mode": {
    "name": "ipython",
    "version": 3
   },
   "file_extension": ".py",
   "mimetype": "text/x-python",
   "name": "python",
   "nbconvert_exporter": "python",
   "pygments_lexer": "ipython3",
   "version": "3.11.2"
  },
  "vscode": {
   "interpreter": {
    "hash": "2faf7d233e2b105e8d1a284702cec228a4712bc10b8e33a5c6f4a53cf932b354"
   }
  }
 },
 "nbformat": 4,
 "nbformat_minor": 2
}
