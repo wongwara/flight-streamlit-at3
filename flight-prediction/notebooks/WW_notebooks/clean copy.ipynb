{
 "cells": [
  {
   "attachments": {},
   "cell_type": "markdown",
   "metadata": {},
   "source": [
    "## 1. import dataset"
   ]
  },
  {
   "cell_type": "code",
   "execution_count": 1,
   "metadata": {},
   "outputs": [],
   "source": [
    "import zipfile\n",
    "import pandas as pd\n",
    "import os\n",
    "import re\n",
    "\n",
    "# Directory where the ZIP files are located (assuming it's relative)\n",
    "base_directory = '../data/raw/itineraries_csv'  \n",
    "\n",
    "# Create an empty DataFrame to store the results\n",
    "result_df = pd.DataFrame()\n",
    "\n",
    "# Define a regular expression pattern to match filenames ending with two lowercase letters\n",
    "file_pattern = re.compile(r'.*[a-z][a-z]\\.zip')\n",
    "\n",
    "# List all airport folders in the base directory\n",
    "airport_names = [name for name in os.listdir(base_directory) if os.path.isdir(os.path.join(base_directory, name))]\n",
    "\n",
    "dfs = []  # Create a list to store DataFrames\n",
    "\n",
    "for airport_name in airport_names:\n",
    "    # Directory path for the current airport\n",
    "    zip_directory = os.path.join(base_directory, airport_name)\n",
    "    \n",
    "    # List all files in the airport's folder\n",
    "    file_list = os.listdir(zip_directory)\n",
    "\n",
    "    for filename in file_list:\n",
    "        if file_pattern.match(filename):\n",
    "            zip_file_path = os.path.join(zip_directory, filename)\n",
    "            csv_file_path_inside_zip = filename.replace('.zip', '.csv')\n",
    "            \n",
    "            # Create a ZipFile object and read the CSV file\n",
    "            with zipfile.ZipFile(zip_file_path, 'r') as zf:\n",
    "                df = pd.read_csv(zf.open(csv_file_path_inside_zip))\n",
    "\n",
    "            # Append the DataFrame for this filename to the list of DataFrames\n",
    "            dfs.append(df)\n",
    "\n",
    "# Use pandas.concat to concatenate the list of DataFrames into a single DataFrame\n",
    "all_airport = pd.concat(dfs, ignore_index=True)"
   ]
  },
  {
   "cell_type": "code",
   "execution_count": 2,
   "metadata": {},
   "outputs": [],
   "source": [
    "\n",
    "# legId                                      0\n",
    "# searchDate                                0\n",
    "# flightDate                                0\n",
    "# startingAirport                           0\n",
    "# destinationAirport                        0\n",
    "# travelDuration                            0\n",
    "# isBasicEconomy                            0\n",
    "# isRefundable                              0\n",
    "# totalFare                                 0 (y)\n",
    "# totalTravelDistance                  959619\n",
    "# segmentsDepartureTimeEpochSeconds         0\n",
    "# segmentsArrivalTimeEpochSeconds           0\n",
    "# segmentsArrivalAirportCode                0\n",
    "# segmentsDepartureAirportCode              0\n",
    "# segmentsAirlineCode                       0\n",
    "# segmentsEquipmentDescription         262676\n",
    "# segmentsDurationInSeconds                 0 -> sum\n",
    "# segmentsDistance                          0 -> sum\n",
    "# segmentsCabinCode                         0\n",
    "# -------\n",
    "# travelLayover (travelDuration - segmentsDurationInSeconds)\n",
    "# datediff (flightDate - searchDate)\n",
    "# transitAirportCode (list) -> check arrival departure \n",
    "# numberOfTransit -> count (transitAirportCode)"
   ]
  },
  {
   "cell_type": "markdown",
   "metadata": {},
   "source": [
    "## 2. Data preprocessing"
   ]
  },
  {
   "cell_type": "code",
   "execution_count": 3,
   "metadata": {},
   "outputs": [],
   "source": [
    "import sys\n",
    "sys.path.insert(0, '../src')"
   ]
  },
  {
   "cell_type": "markdown",
   "metadata": {},
   "source": [
    "### Create `travelLayover` column"
   ]
  },
  {
   "cell_type": "markdown",
   "metadata": {},
   "source": [
    "**Convert `travelDuration` into second**"
   ]
  },
  {
   "cell_type": "code",
   "execution_count": 4,
   "metadata": {},
   "outputs": [],
   "source": [
    "from features.build_features import convert_duration_to_seconds"
   ]
  },
  {
   "cell_type": "code",
   "execution_count": 5,
   "metadata": {},
   "outputs": [],
   "source": [
    "# Apply the function to the 'travelDuration' column and create a new column 'travelDurationInSeconds'\n",
    "all_airport['travelDurationInSeconds'] = all_airport['travelDuration'].apply(convert_duration_to_seconds)\n"
   ]
  },
  {
   "cell_type": "code",
   "execution_count": 6,
   "metadata": {},
   "outputs": [
    {
     "data": {
      "text/plain": [
       "0    28320.0\n",
       "1    22500.0\n",
       "2    32760.0\n",
       "3    22620.0\n",
       "4    51120.0\n",
       "Name: travelDurationInSeconds, dtype: float64"
      ]
     },
     "execution_count": 6,
     "metadata": {},
     "output_type": "execute_result"
    }
   ],
   "source": [
    "all_airport['travelDurationInSeconds'].head()"
   ]
  },
  {
   "cell_type": "markdown",
   "metadata": {},
   "source": [
    "**Convert `durationinsecond`**`"
   ]
  },
  {
   "cell_type": "code",
   "execution_count": 7,
   "metadata": {},
   "outputs": [],
   "source": [
    "from features.build_features import split_and_sum\n",
    "# Apply the function to the 'segmentsDurationInSeconds' column and create a new column 'totalDurationInSeconds'\n",
    "all_airport['totalDurationInSeconds'] = all_airport['segmentsDurationInSeconds'].apply(split_and_sum)\n"
   ]
  },
  {
   "cell_type": "code",
   "execution_count": 8,
   "metadata": {},
   "outputs": [
    {
     "data": {
      "text/plain": [
       "0    19800\n",
       "1    20520\n",
       "2    20520\n",
       "3    19560\n",
       "4    25080\n",
       "Name: totalDurationInSeconds, dtype: int64"
      ]
     },
     "execution_count": 8,
     "metadata": {},
     "output_type": "execute_result"
    }
   ],
   "source": [
    "all_airport['totalDurationInSeconds'].head()"
   ]
  },
  {
   "cell_type": "markdown",
   "metadata": {},
   "source": [
    "**Calculate `travelLayover`**"
   ]
  },
  {
   "cell_type": "code",
   "execution_count": 9,
   "metadata": {},
   "outputs": [
    {
     "data": {
      "text/plain": [
       "0     8520.0\n",
       "1     1980.0\n",
       "2    12240.0\n",
       "3     3060.0\n",
       "4    26040.0\n",
       "Name: travelLayover, dtype: float64"
      ]
     },
     "execution_count": 9,
     "metadata": {},
     "output_type": "execute_result"
    }
   ],
   "source": [
    "all_airport['travelLayover'] = all_airport['travelDurationInSeconds'] - all_airport['totalDurationInSeconds']\n",
    "all_airport['travelLayover'].head()"
   ]
  },
  {
   "cell_type": "markdown",
   "metadata": {},
   "source": [
    "Calculate **`SumDurationinseconds`**"
   ]
  },
  {
   "cell_type": "code",
   "execution_count": 10,
   "metadata": {},
   "outputs": [],
   "source": [
    "### Find Sum of duration\n",
    "all_airport['SumsegmentsDurationInSeconds'] = all_airport['segmentsDurationInSeconds'].str.split(r'\\|\\|').apply(lambda x: [pd.to_numeric(value, errors='coerce') for value in x])\n",
    "all_airport['SumsegmentsDurationInSeconds'] = all_airport['SumsegmentsDurationInSeconds'].apply(sum)"
   ]
  },
  {
   "cell_type": "code",
   "execution_count": 11,
   "metadata": {},
   "outputs": [],
   "source": [
    "#sepearte col by ||\n",
    "all_airport['segmentsArrivalAirportCode'] = all_airport['segmentsArrivalAirportCode'].str.split(r'\\|\\|')\n",
    "all_airport['segmentsDepartureAirportCode'] = all_airport['segmentsDepartureAirportCode'].str.split(r'\\|\\|')\n",
    "#find departure and arrival\n",
    "all_airport['Departure'] = all_airport['segmentsDepartureAirportCode'].apply(lambda x: x[0])\n",
    "all_airport['Arrival'] = all_airport['segmentsArrivalAirportCode'].apply(lambda x: x[-1])"
   ]
  },
  {
   "cell_type": "markdown",
   "metadata": {},
   "source": [
    "calculate `DateDiff`\n",
    "`days = flightDate- searchDate` show how many day before book the flight\n",
    "\n",
    "For streamlit we might can use the get current date and do flightDate - currentDate"
   ]
  },
  {
   "cell_type": "code",
   "execution_count": 12,
   "metadata": {},
   "outputs": [],
   "source": [
    "# Convert 'flightDate' and 'searchDate' to datetime objects\n",
    "all_airport['flightDate'] = pd.to_datetime(all_airport['flightDate'])\n",
    "all_airport['searchDate'] = pd.to_datetime(all_airport['searchDate'])\n",
    "\n",
    "# Calculate the time difference in days and store it in a new column 'datediff'\n",
    "all_airport['datediff'] = (all_airport['flightDate'] - all_airport['searchDate']).dt.days"
   ]
  },
  {
   "cell_type": "code",
   "execution_count": 13,
   "metadata": {},
   "outputs": [
    {
     "data": {
      "text/plain": [
       "0            943||1207\n",
       "1           None||None\n",
       "2           None||None\n",
       "3           None||None\n",
       "4            672||2178\n",
       "               ...    \n",
       "13519994     596||2135\n",
       "13519995    1104||2566\n",
       "13519996    1104||2566\n",
       "13519997    1104||2566\n",
       "13519998    1104||2566\n",
       "Name: segmentsDistance, Length: 13519999, dtype: object"
      ]
     },
     "execution_count": 13,
     "metadata": {},
     "output_type": "execute_result"
    }
   ],
   "source": [
    "all_airport['segmentsDistance']"
   ]
  },
  {
   "cell_type": "code",
   "execution_count": 14,
   "metadata": {},
   "outputs": [],
   "source": [
    "### Find Sum of duration\n",
    "all_airport['SumsegmentsDistance'] = all_airport['segmentsDistance'].str.split(r'\\|\\|').apply(lambda x: [pd.to_numeric(value, errors='coerce') for value in x])\n",
    "all_airport['SumsegmentsDistance'] = all_airport['SumsegmentsDistance'].apply(sum)"
   ]
  },
  {
   "cell_type": "code",
   "execution_count": 15,
   "metadata": {},
   "outputs": [
    {
     "ename": "KeyError",
     "evalue": "'transitAirportCode'",
     "output_type": "error",
     "traceback": [
      "\u001b[0;31m---------------------------------------------------------------------------\u001b[0m",
      "\u001b[0;31mKeyError\u001b[0m                                  Traceback (most recent call last)",
      "File \u001b[0;32m/Library/Frameworks/Python.framework/Versions/3.11/lib/python3.11/site-packages/pandas/core/indexes/base.py:3802\u001b[0m, in \u001b[0;36mIndex.get_loc\u001b[0;34m(self, key, method, tolerance)\u001b[0m\n\u001b[1;32m   3801\u001b[0m \u001b[39mtry\u001b[39;00m:\n\u001b[0;32m-> 3802\u001b[0m     \u001b[39mreturn\u001b[39;00m \u001b[39mself\u001b[39;49m\u001b[39m.\u001b[39;49m_engine\u001b[39m.\u001b[39;49mget_loc(casted_key)\n\u001b[1;32m   3803\u001b[0m \u001b[39mexcept\u001b[39;00m \u001b[39mKeyError\u001b[39;00m \u001b[39mas\u001b[39;00m err:\n",
      "File \u001b[0;32m/Library/Frameworks/Python.framework/Versions/3.11/lib/python3.11/site-packages/pandas/_libs/index.pyx:138\u001b[0m, in \u001b[0;36mpandas._libs.index.IndexEngine.get_loc\u001b[0;34m()\u001b[0m\n",
      "File \u001b[0;32m/Library/Frameworks/Python.framework/Versions/3.11/lib/python3.11/site-packages/pandas/_libs/index.pyx:165\u001b[0m, in \u001b[0;36mpandas._libs.index.IndexEngine.get_loc\u001b[0;34m()\u001b[0m\n",
      "File \u001b[0;32mpandas/_libs/hashtable_class_helper.pxi:5745\u001b[0m, in \u001b[0;36mpandas._libs.hashtable.PyObjectHashTable.get_item\u001b[0;34m()\u001b[0m\n",
      "File \u001b[0;32mpandas/_libs/hashtable_class_helper.pxi:5753\u001b[0m, in \u001b[0;36mpandas._libs.hashtable.PyObjectHashTable.get_item\u001b[0;34m()\u001b[0m\n",
      "\u001b[0;31mKeyError\u001b[0m: 'transitAirportCode'",
      "\nThe above exception was the direct cause of the following exception:\n",
      "\u001b[0;31mKeyError\u001b[0m                                  Traceback (most recent call last)",
      "\u001b[1;32m/Users/lilywijara/Desktop/crybaby/flight-streamlit-at3/flight-prediction/notebooks/clean copy.ipynb Cell 23\u001b[0m line \u001b[0;36m2\n\u001b[1;32m      <a href='vscode-notebook-cell:/Users/lilywijara/Desktop/crybaby/flight-streamlit-at3/flight-prediction/notebooks/clean%20copy.ipynb#X24sZmlsZQ%3D%3D?line=0'>1</a>\u001b[0m \u001b[39m#create a new col to collect all airport\u001b[39;00m\n\u001b[0;32m----> <a href='vscode-notebook-cell:/Users/lilywijara/Desktop/crybaby/flight-streamlit-at3/flight-prediction/notebooks/clean%20copy.ipynb#X24sZmlsZQ%3D%3D?line=1'>2</a>\u001b[0m all_airport[\u001b[39m'\u001b[39m\u001b[39mAllAirport\u001b[39m\u001b[39m'\u001b[39m] \u001b[39m=\u001b[39m all_airport[\u001b[39m'\u001b[39;49m\u001b[39mtransitAirportCode\u001b[39;49m\u001b[39m'\u001b[39;49m]\n\u001b[1;32m      <a href='vscode-notebook-cell:/Users/lilywijara/Desktop/crybaby/flight-streamlit-at3/flight-prediction/notebooks/clean%20copy.ipynb#X24sZmlsZQ%3D%3D?line=2'>3</a>\u001b[0m all_airport[\u001b[39m'\u001b[39m\u001b[39mAllAirport\u001b[39m\u001b[39m'\u001b[39m] \u001b[39m=\u001b[39m all_airport\u001b[39m.\u001b[39mapply(\u001b[39mlambda\u001b[39;00m row: [row[\u001b[39m'\u001b[39m\u001b[39mDeparture\u001b[39m\u001b[39m'\u001b[39m]] \u001b[39m+\u001b[39m row[\u001b[39m'\u001b[39m\u001b[39mAllAirport\u001b[39m\u001b[39m'\u001b[39m], axis\u001b[39m=\u001b[39m\u001b[39m1\u001b[39m)\n\u001b[1;32m      <a href='vscode-notebook-cell:/Users/lilywijara/Desktop/crybaby/flight-streamlit-at3/flight-prediction/notebooks/clean%20copy.ipynb#X24sZmlsZQ%3D%3D?line=3'>4</a>\u001b[0m all_airport[\u001b[39m'\u001b[39m\u001b[39mAllAirport\u001b[39m\u001b[39m'\u001b[39m] \u001b[39m=\u001b[39m all_airport\u001b[39m.\u001b[39mapply(\u001b[39mlambda\u001b[39;00m row: row[\u001b[39m'\u001b[39m\u001b[39mAllAirport\u001b[39m\u001b[39m'\u001b[39m] \u001b[39m+\u001b[39m [row[\u001b[39m'\u001b[39m\u001b[39mArrival\u001b[39m\u001b[39m'\u001b[39m]], axis\u001b[39m=\u001b[39m\u001b[39m1\u001b[39m)\n",
      "File \u001b[0;32m/Library/Frameworks/Python.framework/Versions/3.11/lib/python3.11/site-packages/pandas/core/frame.py:3807\u001b[0m, in \u001b[0;36mDataFrame.__getitem__\u001b[0;34m(self, key)\u001b[0m\n\u001b[1;32m   3805\u001b[0m \u001b[39mif\u001b[39;00m \u001b[39mself\u001b[39m\u001b[39m.\u001b[39mcolumns\u001b[39m.\u001b[39mnlevels \u001b[39m>\u001b[39m \u001b[39m1\u001b[39m:\n\u001b[1;32m   3806\u001b[0m     \u001b[39mreturn\u001b[39;00m \u001b[39mself\u001b[39m\u001b[39m.\u001b[39m_getitem_multilevel(key)\n\u001b[0;32m-> 3807\u001b[0m indexer \u001b[39m=\u001b[39m \u001b[39mself\u001b[39;49m\u001b[39m.\u001b[39;49mcolumns\u001b[39m.\u001b[39;49mget_loc(key)\n\u001b[1;32m   3808\u001b[0m \u001b[39mif\u001b[39;00m is_integer(indexer):\n\u001b[1;32m   3809\u001b[0m     indexer \u001b[39m=\u001b[39m [indexer]\n",
      "File \u001b[0;32m/Library/Frameworks/Python.framework/Versions/3.11/lib/python3.11/site-packages/pandas/core/indexes/base.py:3804\u001b[0m, in \u001b[0;36mIndex.get_loc\u001b[0;34m(self, key, method, tolerance)\u001b[0m\n\u001b[1;32m   3802\u001b[0m     \u001b[39mreturn\u001b[39;00m \u001b[39mself\u001b[39m\u001b[39m.\u001b[39m_engine\u001b[39m.\u001b[39mget_loc(casted_key)\n\u001b[1;32m   3803\u001b[0m \u001b[39mexcept\u001b[39;00m \u001b[39mKeyError\u001b[39;00m \u001b[39mas\u001b[39;00m err:\n\u001b[0;32m-> 3804\u001b[0m     \u001b[39mraise\u001b[39;00m \u001b[39mKeyError\u001b[39;00m(key) \u001b[39mfrom\u001b[39;00m \u001b[39merr\u001b[39;00m\n\u001b[1;32m   3805\u001b[0m \u001b[39mexcept\u001b[39;00m \u001b[39mTypeError\u001b[39;00m:\n\u001b[1;32m   3806\u001b[0m     \u001b[39m# If we have a listlike key, _check_indexing_error will raise\u001b[39;00m\n\u001b[1;32m   3807\u001b[0m     \u001b[39m#  InvalidIndexError. Otherwise we fall through and re-raise\u001b[39;00m\n\u001b[1;32m   3808\u001b[0m     \u001b[39m#  the TypeError.\u001b[39;00m\n\u001b[1;32m   3809\u001b[0m     \u001b[39mself\u001b[39m\u001b[39m.\u001b[39m_check_indexing_error(key)\n",
      "\u001b[0;31mKeyError\u001b[0m: 'transitAirportCode'"
     ]
    }
   ],
   "source": [
    "#create a new col to collect all airport\n",
    "all_airport['AllAirport'] = all_airport['transitAirportCode']\n",
    "all_airport['AllAirport'] = all_airport.apply(lambda row: [row['Departure']] + row['AllAirport'], axis=1)\n",
    "all_airport['AllAirport'] = all_airport.apply(lambda row: row['AllAirport'] + [row['Arrival']], axis=1)"
   ]
  },
  {
   "cell_type": "code",
   "execution_count": null,
   "metadata": {},
   "outputs": [],
   "source": [
    "all_airport['segmentsEquipmentDescription']= all_airport['segmentsEquipmentDescription'].str.split(r'\\|\\|')"
   ]
  },
  {
   "cell_type": "code",
   "execution_count": null,
   "metadata": {},
   "outputs": [
    {
     "data": {
      "text/plain": [
       "0                                      [, Airbus A320]\n",
       "1                  [, AIRBUS INDUSTRIE A320 SHARKLETS]\n",
       "2    [AIRBUS INDUSTRIE A320 SHARKLETS, AIRBUS INDUS...\n",
       "3       [AIRBUS INDUSTRIE A320 SHARKLETS, Airbus A319]\n",
       "4                     [Boeing 737-900, Boeing 737-900]\n",
       "Name: segmentsEquipmentDescription, dtype: object"
      ]
     },
     "execution_count": 48,
     "metadata": {},
     "output_type": "execute_result"
    }
   ],
   "source": [
    "all_airport['segmentsEquipmentDescription'].head()"
   ]
  },
  {
   "cell_type": "code",
   "execution_count": null,
   "metadata": {},
   "outputs": [],
   "source": [
    "all_airport['segmentsCabinCode']= all_airport['segmentsCabinCode'].str.split(r'\\|\\|')"
   ]
  },
  {
   "cell_type": "markdown",
   "metadata": {},
   "source": [
    "Create column `numberofTransit`"
   ]
  },
  {
   "cell_type": "code",
   "execution_count": null,
   "metadata": {},
   "outputs": [],
   "source": [
    "all_airport['numberOfTransit'] = all_airport['transitAirportCode'].apply(lambda x: len(x))"
   ]
  },
  {
   "cell_type": "code",
   "execution_count": null,
   "metadata": {},
   "outputs": [],
   "source": [
    "#drop column"
   ]
  },
  {
   "cell_type": "code",
   "execution_count": null,
   "metadata": {},
   "outputs": [],
   "source": [
    "all_airport2 = all_airport.drop(columns=['Departure', 'Arrival', 'segmentsDistance', 'segmentsDepartureTimeRaw', 'segmentsArrivalTimeRaw', 'segmentsDurationInSeconds', 'segmentsDistance', 'travelDuration', 'SumsegmentsDurationInSeconds'])"
   ]
  },
  {
   "cell_type": "code",
   "execution_count": null,
   "metadata": {},
   "outputs": [],
   "source": [
    "all_airport2.rename(columns={'totalDurationInSeconds':'segment_totalDurationInSeconds', 'SumsegmentsDistance':'segment_totalDistance'}, inplace=True)"
   ]
  },
  {
   "cell_type": "code",
   "execution_count": null,
   "metadata": {},
   "outputs": [],
   "source": [
    "all_airport2.to_feather('../data/processed/all_airport_cleaned.feather')"
   ]
  },
  {
   "cell_type": "code",
   "execution_count": null,
   "metadata": {},
   "outputs": [],
   "source": [
    "#encoding -> label encoder, standard encoder -> save -> corr -> save result diff notebook -> split clean notebook"
   ]
  },
  {
   "cell_type": "code",
   "execution_count": null,
   "metadata": {},
   "outputs": [],
   "source": [
    "from data.make_dataset import pop_target, split_sets_random, save_sets, load_sets, label_encode_columns\n",
    "from sklearn.preprocessing import StandardScaler"
   ]
  },
  {
   "cell_type": "code",
   "execution_count": null,
   "metadata": {},
   "outputs": [
    {
     "name": "stdout",
     "output_type": "stream",
     "text": [
      "<class 'pandas.core.frame.DataFrame'>\n",
      "RangeIndex: 13519999 entries, 0 to 13519998\n",
      "Data columns (total 26 columns):\n",
      " #   Column                             Dtype         \n",
      "---  ------                             -----         \n",
      " 0   legId                              object        \n",
      " 1   searchDate                         datetime64[ns]\n",
      " 2   flightDate                         datetime64[ns]\n",
      " 3   startingAirport                    object        \n",
      " 4   destinationAirport                 object        \n",
      " 5   isBasicEconomy                     bool          \n",
      " 6   isRefundable                       bool          \n",
      " 7   isNonStop                          bool          \n",
      " 8   totalFare                          float64       \n",
      " 9   totalTravelDistance                float64       \n",
      " 10  segmentsDepartureTimeEpochSeconds  object        \n",
      " 11  segmentsArrivalTimeEpochSeconds    object        \n",
      " 12  segmentsArrivalAirportCode         object        \n",
      " 13  segmentsDepartureAirportCode       object        \n",
      " 14  segmentsAirlineName                object        \n",
      " 15  segmentsAirlineCode                object        \n",
      " 16  segmentsEquipmentDescription       object        \n",
      " 17  segmentsCabinCode                  object        \n",
      " 18  travelDurationInSeconds            float64       \n",
      " 19  segment_totalDurationInSeconds     int64         \n",
      " 20  travelLayover                      float64       \n",
      " 21  transitAirportCode                 object        \n",
      " 22  segment_totalDistance              float64       \n",
      " 23  AllAirport                         object        \n",
      " 24  numberOfTransit                    int64         \n",
      " 25  dateDifference                     int64         \n",
      "dtypes: bool(3), datetime64[ns](2), float64(5), int64(3), object(13)\n",
      "memory usage: 2.4+ GB\n"
     ]
    }
   ],
   "source": [
    "all_airport2.info()"
   ]
  },
  {
   "cell_type": "code",
   "execution_count": null,
   "metadata": {},
   "outputs": [],
   "source": [
    "all_airport2 = all_airport2.drop(columns=['segmentsAirlineName'],axis=1)"
   ]
  },
  {
   "cell_type": "code",
   "execution_count": null,
   "metadata": {},
   "outputs": [],
   "source": [
    "# cat_cols = ['legId','startingAirport', 'destinationAirport', 'isBasicEconomy', 'isRefundable','isNonStop','segmentsDepartureTimeEpochSeconds','segmentsArrivalTimeEpochSeconds', 'segmentsArrivalAirportCode', 'segmentsDepartureAirportCode', 'segmentsAirlineCode', 'segmentsEquipmentDescription', 'segmentsCabinCode', 'AllAirport']"
   ]
  },
  {
   "cell_type": "code",
   "execution_count": null,
   "metadata": {},
   "outputs": [
    {
     "data": {
      "text/plain": [
       "Index(['legId', 'searchDate', 'flightDate', 'startingAirport',\n",
       "       'destinationAirport', 'isBasicEconomy', 'isRefundable', 'isNonStop',\n",
       "       'totalFare', 'totalTravelDistance', 'segmentsDepartureTimeEpochSeconds',\n",
       "       'segmentsArrivalTimeEpochSeconds', 'segmentsArrivalAirportCode',\n",
       "       'segmentsDepartureAirportCode', 'segmentsAirlineCode',\n",
       "       'segmentsEquipmentDescription', 'segmentsCabinCode',\n",
       "       'travelDurationInSeconds', 'segment_totalDurationInSeconds',\n",
       "       'travelLayover', 'transitAirportCode', 'segment_totalDistance',\n",
       "       'AllAirport', 'numberOfTransit', 'dateDifference'],\n",
       "      dtype='object')"
      ]
     },
     "execution_count": 36,
     "metadata": {},
     "output_type": "execute_result"
    }
   ],
   "source": [
    "all_airport2.columns"
   ]
  },
  {
   "cell_type": "code",
   "execution_count": null,
   "metadata": {},
   "outputs": [],
   "source": [
    "num_cols = list(all_airport2.select_dtypes('number').columns)\n",
    "cat_cols = list(set(all_airport2.columns) - set(num_cols))"
   ]
  },
  {
   "cell_type": "code",
   "execution_count": null,
   "metadata": {},
   "outputs": [],
   "source": [
    "list_to_str = lambda x: ', '.join(map(str, x))"
   ]
  },
  {
   "cell_type": "code",
   "execution_count": null,
   "metadata": {},
   "outputs": [
    {
     "data": {
      "text/html": [
       "<div>\n",
       "<style scoped>\n",
       "    .dataframe tbody tr th:only-of-type {\n",
       "        vertical-align: middle;\n",
       "    }\n",
       "\n",
       "    .dataframe tbody tr th {\n",
       "        vertical-align: top;\n",
       "    }\n",
       "\n",
       "    .dataframe thead th {\n",
       "        text-align: right;\n",
       "    }\n",
       "</style>\n",
       "<table border=\"1\" class=\"dataframe\">\n",
       "  <thead>\n",
       "    <tr style=\"text-align: right;\">\n",
       "      <th></th>\n",
       "      <th>legId</th>\n",
       "      <th>searchDate</th>\n",
       "      <th>flightDate</th>\n",
       "      <th>startingAirport</th>\n",
       "      <th>destinationAirport</th>\n",
       "      <th>isBasicEconomy</th>\n",
       "      <th>isRefundable</th>\n",
       "      <th>isNonStop</th>\n",
       "      <th>totalFare</th>\n",
       "      <th>totalTravelDistance</th>\n",
       "      <th>...</th>\n",
       "      <th>segmentsEquipmentDescription</th>\n",
       "      <th>segmentsCabinCode</th>\n",
       "      <th>travelDurationInSeconds</th>\n",
       "      <th>segment_totalDurationInSeconds</th>\n",
       "      <th>travelLayover</th>\n",
       "      <th>transitAirportCode</th>\n",
       "      <th>segment_totalDistance</th>\n",
       "      <th>AllAirport</th>\n",
       "      <th>numberOfTransit</th>\n",
       "      <th>dateDifference</th>\n",
       "    </tr>\n",
       "  </thead>\n",
       "  <tbody>\n",
       "    <tr>\n",
       "      <th>0</th>\n",
       "      <td>1517251</td>\n",
       "      <td>2022-04-19</td>\n",
       "      <td>2022-05-20</td>\n",
       "      <td>12</td>\n",
       "      <td>ATL</td>\n",
       "      <td>False</td>\n",
       "      <td>0</td>\n",
       "      <td>False</td>\n",
       "      <td>103.98</td>\n",
       "      <td>2150.0</td>\n",
       "      <td>...</td>\n",
       "      <td>||Airbus A320</td>\n",
       "      <td>coach||coach</td>\n",
       "      <td>28320.0</td>\n",
       "      <td>19800</td>\n",
       "      <td>8520.0</td>\n",
       "      <td>[DEN]</td>\n",
       "      <td>2150.0</td>\n",
       "      <td>[OAK, DEN, ATL]</td>\n",
       "      <td>1</td>\n",
       "      <td>31</td>\n",
       "    </tr>\n",
       "    <tr>\n",
       "      <th>1</th>\n",
       "      <td>1452356</td>\n",
       "      <td>2022-04-19</td>\n",
       "      <td>2022-05-20</td>\n",
       "      <td>12</td>\n",
       "      <td>ATL</td>\n",
       "      <td>False</td>\n",
       "      <td>0</td>\n",
       "      <td>False</td>\n",
       "      <td>216.58</td>\n",
       "      <td>NaN</td>\n",
       "      <td>...</td>\n",
       "      <td>||AIRBUS INDUSTRIE A320 SHARKLETS</td>\n",
       "      <td>coach||coach</td>\n",
       "      <td>22500.0</td>\n",
       "      <td>20520</td>\n",
       "      <td>1980.0</td>\n",
       "      <td>[LAX]</td>\n",
       "      <td>NaN</td>\n",
       "      <td>[OAK, LAX, ATL]</td>\n",
       "      <td>1</td>\n",
       "      <td>31</td>\n",
       "    </tr>\n",
       "    <tr>\n",
       "      <th>2</th>\n",
       "      <td>1566096</td>\n",
       "      <td>2022-04-19</td>\n",
       "      <td>2022-05-20</td>\n",
       "      <td>12</td>\n",
       "      <td>ATL</td>\n",
       "      <td>False</td>\n",
       "      <td>0</td>\n",
       "      <td>False</td>\n",
       "      <td>216.58</td>\n",
       "      <td>NaN</td>\n",
       "      <td>...</td>\n",
       "      <td>AIRBUS INDUSTRIE A320 SHARKLETS||AIRBUS INDUST...</td>\n",
       "      <td>coach||coach</td>\n",
       "      <td>32760.0</td>\n",
       "      <td>20520</td>\n",
       "      <td>12240.0</td>\n",
       "      <td>[LAX]</td>\n",
       "      <td>NaN</td>\n",
       "      <td>[OAK, LAX, ATL]</td>\n",
       "      <td>1</td>\n",
       "      <td>31</td>\n",
       "    </tr>\n",
       "    <tr>\n",
       "      <th>3</th>\n",
       "      <td>1290376</td>\n",
       "      <td>2022-04-19</td>\n",
       "      <td>2022-05-20</td>\n",
       "      <td>12</td>\n",
       "      <td>ATL</td>\n",
       "      <td>False</td>\n",
       "      <td>0</td>\n",
       "      <td>False</td>\n",
       "      <td>237.58</td>\n",
       "      <td>NaN</td>\n",
       "      <td>...</td>\n",
       "      <td>AIRBUS INDUSTRIE A320 SHARKLETS||Airbus A319</td>\n",
       "      <td>coach||coach</td>\n",
       "      <td>22620.0</td>\n",
       "      <td>19560</td>\n",
       "      <td>3060.0</td>\n",
       "      <td>[LAS]</td>\n",
       "      <td>NaN</td>\n",
       "      <td>[OAK, LAS, ATL]</td>\n",
       "      <td>1</td>\n",
       "      <td>31</td>\n",
       "    </tr>\n",
       "    <tr>\n",
       "      <th>4</th>\n",
       "      <td>499252</td>\n",
       "      <td>2022-04-19</td>\n",
       "      <td>2022-05-20</td>\n",
       "      <td>12</td>\n",
       "      <td>ATL</td>\n",
       "      <td>False</td>\n",
       "      <td>0</td>\n",
       "      <td>False</td>\n",
       "      <td>307.21</td>\n",
       "      <td>2850.0</td>\n",
       "      <td>...</td>\n",
       "      <td>Boeing 737-900||Boeing 737-900</td>\n",
       "      <td>coach||coach</td>\n",
       "      <td>51120.0</td>\n",
       "      <td>25080</td>\n",
       "      <td>26040.0</td>\n",
       "      <td>[SEA]</td>\n",
       "      <td>2850.0</td>\n",
       "      <td>[OAK, SEA, ATL]</td>\n",
       "      <td>1</td>\n",
       "      <td>31</td>\n",
       "    </tr>\n",
       "  </tbody>\n",
       "</table>\n",
       "<p>5 rows × 25 columns</p>\n",
       "</div>"
      ],
      "text/plain": [
       "     legId searchDate flightDate  startingAirport destinationAirport  \\\n",
       "0  1517251 2022-04-19 2022-05-20               12                ATL   \n",
       "1  1452356 2022-04-19 2022-05-20               12                ATL   \n",
       "2  1566096 2022-04-19 2022-05-20               12                ATL   \n",
       "3  1290376 2022-04-19 2022-05-20               12                ATL   \n",
       "4   499252 2022-04-19 2022-05-20               12                ATL   \n",
       "\n",
       "   isBasicEconomy  isRefundable  isNonStop  totalFare  totalTravelDistance  \\\n",
       "0           False             0      False     103.98               2150.0   \n",
       "1           False             0      False     216.58                  NaN   \n",
       "2           False             0      False     216.58                  NaN   \n",
       "3           False             0      False     237.58                  NaN   \n",
       "4           False             0      False     307.21               2850.0   \n",
       "\n",
       "   ...                       segmentsEquipmentDescription segmentsCabinCode  \\\n",
       "0  ...                                      ||Airbus A320      coach||coach   \n",
       "1  ...                  ||AIRBUS INDUSTRIE A320 SHARKLETS      coach||coach   \n",
       "2  ...  AIRBUS INDUSTRIE A320 SHARKLETS||AIRBUS INDUST...      coach||coach   \n",
       "3  ...       AIRBUS INDUSTRIE A320 SHARKLETS||Airbus A319      coach||coach   \n",
       "4  ...                     Boeing 737-900||Boeing 737-900      coach||coach   \n",
       "\n",
       "  travelDurationInSeconds segment_totalDurationInSeconds travelLayover  \\\n",
       "0                 28320.0                          19800        8520.0   \n",
       "1                 22500.0                          20520        1980.0   \n",
       "2                 32760.0                          20520       12240.0   \n",
       "3                 22620.0                          19560        3060.0   \n",
       "4                 51120.0                          25080       26040.0   \n",
       "\n",
       "  transitAirportCode segment_totalDistance       AllAirport  numberOfTransit  \\\n",
       "0              [DEN]                2150.0  [OAK, DEN, ATL]                1   \n",
       "1              [LAX]                   NaN  [OAK, LAX, ATL]                1   \n",
       "2              [LAX]                   NaN  [OAK, LAX, ATL]                1   \n",
       "3              [LAS]                   NaN  [OAK, LAS, ATL]                1   \n",
       "4              [SEA]                2850.0  [OAK, SEA, ATL]                1   \n",
       "\n",
       "   dateDifference  \n",
       "0              31  \n",
       "1              31  \n",
       "2              31  \n",
       "3              31  \n",
       "4              31  \n",
       "\n",
       "[5 rows x 25 columns]"
      ]
     },
     "execution_count": 40,
     "metadata": {},
     "output_type": "execute_result"
    }
   ],
   "source": [
    "all_airport2.head()"
   ]
  },
  {
   "cell_type": "code",
   "execution_count": null,
   "metadata": {},
   "outputs": [
    {
     "ename": "TypeError",
     "evalue": "Encoders require their input to be uniformly strings or numbers. Got ['list']",
     "output_type": "error",
     "traceback": [
      "\u001b[0;31m---------------------------------------------------------------------------\u001b[0m",
      "\u001b[0;31mTypeError\u001b[0m                                 Traceback (most recent call last)",
      "File \u001b[0;32m/Library/Frameworks/Python.framework/Versions/3.11/lib/python3.11/site-packages/sklearn/utils/_encode.py:170\u001b[0m, in \u001b[0;36m_unique_python\u001b[0;34m(values, return_inverse, return_counts)\u001b[0m\n\u001b[1;32m    169\u001b[0m \u001b[39mtry\u001b[39;00m:\n\u001b[0;32m--> 170\u001b[0m     uniques_set \u001b[39m=\u001b[39m \u001b[39mset\u001b[39;49m(values)\n\u001b[1;32m    171\u001b[0m     uniques_set, missing_values \u001b[39m=\u001b[39m _extract_missing(uniques_set)\n",
      "\u001b[0;31mTypeError\u001b[0m: unhashable type: 'list'",
      "\nDuring handling of the above exception, another exception occurred:\n",
      "\u001b[0;31mTypeError\u001b[0m                                 Traceback (most recent call last)",
      "\u001b[1;32m/Users/lilywijara/Desktop/crybaby/flight-streamlit-at3/flight-prediction/notebooks/clean copy.ipynb Cell 39\u001b[0m line \u001b[0;36m2\n\u001b[1;32m      <a href='vscode-notebook-cell:/Users/lilywijara/Desktop/crybaby/flight-streamlit-at3/flight-prediction/notebooks/clean%20copy.ipynb#X60sZmlsZQ%3D%3D?line=0'>1</a>\u001b[0m scaler \u001b[39m=\u001b[39m StandardScaler()\n\u001b[0;32m----> <a href='vscode-notebook-cell:/Users/lilywijara/Desktop/crybaby/flight-streamlit-at3/flight-prediction/notebooks/clean%20copy.ipynb#X60sZmlsZQ%3D%3D?line=1'>2</a>\u001b[0m features \u001b[39m=\u001b[39m label_encode_columns(all_airport2, cat_cols)\n\u001b[1;32m      <a href='vscode-notebook-cell:/Users/lilywijara/Desktop/crybaby/flight-streamlit-at3/flight-prediction/notebooks/clean%20copy.ipynb#X60sZmlsZQ%3D%3D?line=2'>3</a>\u001b[0m features[num_cols] \u001b[39m=\u001b[39m scaler\u001b[39m.\u001b[39mfit_transform(all_airport2[num_cols])\n",
      "File \u001b[0;32m~/Desktop/crybaby/flight-streamlit-at3/flight-prediction/notebooks/../src/data/make_dataset.py:189\u001b[0m, in \u001b[0;36mlabel_encode_columns\u001b[0;34m(df, columns)\u001b[0m\n\u001b[1;32m    186\u001b[0m encoder \u001b[39m=\u001b[39m LabelEncoder()\n\u001b[1;32m    188\u001b[0m \u001b[39mfor\u001b[39;00m col \u001b[39min\u001b[39;00m columns:\n\u001b[0;32m--> 189\u001b[0m     df[col] \u001b[39m=\u001b[39m encoder\u001b[39m.\u001b[39;49mfit_transform(df[col])\n\u001b[1;32m    191\u001b[0m \u001b[39mreturn\u001b[39;00m df\n",
      "File \u001b[0;32m/Library/Frameworks/Python.framework/Versions/3.11/lib/python3.11/site-packages/sklearn/utils/_set_output.py:142\u001b[0m, in \u001b[0;36m_wrap_method_output.<locals>.wrapped\u001b[0;34m(self, X, *args, **kwargs)\u001b[0m\n\u001b[1;32m    140\u001b[0m \u001b[39m@wraps\u001b[39m(f)\n\u001b[1;32m    141\u001b[0m \u001b[39mdef\u001b[39;00m \u001b[39mwrapped\u001b[39m(\u001b[39mself\u001b[39m, X, \u001b[39m*\u001b[39margs, \u001b[39m*\u001b[39m\u001b[39m*\u001b[39mkwargs):\n\u001b[0;32m--> 142\u001b[0m     data_to_wrap \u001b[39m=\u001b[39m f(\u001b[39mself\u001b[39;49m, X, \u001b[39m*\u001b[39;49margs, \u001b[39m*\u001b[39;49m\u001b[39m*\u001b[39;49mkwargs)\n\u001b[1;32m    143\u001b[0m     \u001b[39mif\u001b[39;00m \u001b[39misinstance\u001b[39m(data_to_wrap, \u001b[39mtuple\u001b[39m):\n\u001b[1;32m    144\u001b[0m         \u001b[39m# only wrap the first output for cross decomposition\u001b[39;00m\n\u001b[1;32m    145\u001b[0m         \u001b[39mreturn\u001b[39;00m (\n\u001b[1;32m    146\u001b[0m             _wrap_data_with_container(method, data_to_wrap[\u001b[39m0\u001b[39m], X, \u001b[39mself\u001b[39m),\n\u001b[1;32m    147\u001b[0m             \u001b[39m*\u001b[39mdata_to_wrap[\u001b[39m1\u001b[39m:],\n\u001b[1;32m    148\u001b[0m         )\n",
      "File \u001b[0;32m/Library/Frameworks/Python.framework/Versions/3.11/lib/python3.11/site-packages/sklearn/preprocessing/_label.py:117\u001b[0m, in \u001b[0;36mLabelEncoder.fit_transform\u001b[0;34m(self, y)\u001b[0m\n\u001b[1;32m    104\u001b[0m \u001b[39m\u001b[39m\u001b[39m\"\"\"Fit label encoder and return encoded labels.\u001b[39;00m\n\u001b[1;32m    105\u001b[0m \n\u001b[1;32m    106\u001b[0m \u001b[39mParameters\u001b[39;00m\n\u001b[0;32m   (...)\u001b[0m\n\u001b[1;32m    114\u001b[0m \u001b[39m    Encoded labels.\u001b[39;00m\n\u001b[1;32m    115\u001b[0m \u001b[39m\"\"\"\u001b[39;00m\n\u001b[1;32m    116\u001b[0m y \u001b[39m=\u001b[39m column_or_1d(y, warn\u001b[39m=\u001b[39m\u001b[39mTrue\u001b[39;00m)\n\u001b[0;32m--> 117\u001b[0m \u001b[39mself\u001b[39m\u001b[39m.\u001b[39mclasses_, y \u001b[39m=\u001b[39m _unique(y, return_inverse\u001b[39m=\u001b[39;49m\u001b[39mTrue\u001b[39;49;00m)\n\u001b[1;32m    118\u001b[0m \u001b[39mreturn\u001b[39;00m y\n",
      "File \u001b[0;32m/Library/Frameworks/Python.framework/Versions/3.11/lib/python3.11/site-packages/sklearn/utils/_encode.py:41\u001b[0m, in \u001b[0;36m_unique\u001b[0;34m(values, return_inverse, return_counts)\u001b[0m\n\u001b[1;32m     10\u001b[0m \u001b[39m\u001b[39m\u001b[39m\"\"\"Helper function to find unique values with support for python objects.\u001b[39;00m\n\u001b[1;32m     11\u001b[0m \n\u001b[1;32m     12\u001b[0m \u001b[39mUses pure python method for object dtype, and numpy method for\u001b[39;00m\n\u001b[0;32m   (...)\u001b[0m\n\u001b[1;32m     38\u001b[0m \u001b[39m    array. Only provided if `return_counts` is True.\u001b[39;00m\n\u001b[1;32m     39\u001b[0m \u001b[39m\"\"\"\u001b[39;00m\n\u001b[1;32m     40\u001b[0m \u001b[39mif\u001b[39;00m values\u001b[39m.\u001b[39mdtype \u001b[39m==\u001b[39m \u001b[39mobject\u001b[39m:\n\u001b[0;32m---> 41\u001b[0m     \u001b[39mreturn\u001b[39;00m _unique_python(\n\u001b[1;32m     42\u001b[0m         values, return_inverse\u001b[39m=\u001b[39;49mreturn_inverse, return_counts\u001b[39m=\u001b[39;49mreturn_counts\n\u001b[1;32m     43\u001b[0m     )\n\u001b[1;32m     44\u001b[0m \u001b[39m# numerical\u001b[39;00m\n\u001b[1;32m     45\u001b[0m \u001b[39mreturn\u001b[39;00m _unique_np(\n\u001b[1;32m     46\u001b[0m     values, return_inverse\u001b[39m=\u001b[39mreturn_inverse, return_counts\u001b[39m=\u001b[39mreturn_counts\n\u001b[1;32m     47\u001b[0m )\n",
      "File \u001b[0;32m/Library/Frameworks/Python.framework/Versions/3.11/lib/python3.11/site-packages/sklearn/utils/_encode.py:178\u001b[0m, in \u001b[0;36m_unique_python\u001b[0;34m(values, return_inverse, return_counts)\u001b[0m\n\u001b[1;32m    176\u001b[0m \u001b[39mexcept\u001b[39;00m \u001b[39mTypeError\u001b[39;00m:\n\u001b[1;32m    177\u001b[0m     types \u001b[39m=\u001b[39m \u001b[39msorted\u001b[39m(t\u001b[39m.\u001b[39m\u001b[39m__qualname__\u001b[39m \u001b[39mfor\u001b[39;00m t \u001b[39min\u001b[39;00m \u001b[39mset\u001b[39m(\u001b[39mtype\u001b[39m(v) \u001b[39mfor\u001b[39;00m v \u001b[39min\u001b[39;00m values))\n\u001b[0;32m--> 178\u001b[0m     \u001b[39mraise\u001b[39;00m \u001b[39mTypeError\u001b[39;00m(\n\u001b[1;32m    179\u001b[0m         \u001b[39m\"\u001b[39m\u001b[39mEncoders require their input to be uniformly \u001b[39m\u001b[39m\"\u001b[39m\n\u001b[1;32m    180\u001b[0m         \u001b[39mf\u001b[39m\u001b[39m\"\u001b[39m\u001b[39mstrings or numbers. Got \u001b[39m\u001b[39m{\u001b[39;00mtypes\u001b[39m}\u001b[39;00m\u001b[39m\"\u001b[39m\n\u001b[1;32m    181\u001b[0m     )\n\u001b[1;32m    182\u001b[0m ret \u001b[39m=\u001b[39m (uniques,)\n\u001b[1;32m    184\u001b[0m \u001b[39mif\u001b[39;00m return_inverse:\n",
      "\u001b[0;31mTypeError\u001b[0m: Encoders require their input to be uniformly strings or numbers. Got ['list']"
     ]
    }
   ],
   "source": [
    "scaler = StandardScaler()\n",
    "features = label_encode_columns(all_airport2, cat_cols)\n",
    "features[num_cols] = scaler.fit_transform(all_airport2[num_cols])"
   ]
  },
  {
   "cell_type": "code",
   "execution_count": null,
   "metadata": {},
   "outputs": [],
   "source": [
    "features = label_encode_columns(df, cat_cols)\n",
    "features[num_cols] = scaler.fit_transform(df[num_cols])"
   ]
  },
  {
   "cell_type": "code",
   "execution_count": null,
   "metadata": {},
   "outputs": [],
   "source": [
    "#corr"
   ]
  },
  {
   "cell_type": "code",
   "execution_count": null,
   "metadata": {},
   "outputs": [],
   "source": [
    "#split ratio 80:20 -> train val test"
   ]
  }
 ],
 "metadata": {
  "kernelspec": {
   "display_name": "base",
   "language": "python",
   "name": "python3"
  },
  "language_info": {
   "codemirror_mode": {
    "name": "ipython",
    "version": 3
   },
   "file_extension": ".py",
   "mimetype": "text/x-python",
   "name": "python",
   "nbconvert_exporter": "python",
   "pygments_lexer": "ipython3",
   "version": "3.11.2"
  },
  "vscode": {
   "interpreter": {
    "hash": "2faf7d233e2b105e8d1a284702cec228a4712bc10b8e33a5c6f4a53cf932b354"
   }
  }
 },
 "nbformat": 4,
 "nbformat_minor": 2
}
